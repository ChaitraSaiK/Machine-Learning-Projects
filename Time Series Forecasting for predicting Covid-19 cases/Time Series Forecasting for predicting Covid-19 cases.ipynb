{
 "cells": [
  {
   "cell_type": "markdown",
   "id": "958e560a-51cb-4681-8aeb-982044af5417",
   "metadata": {},
   "source": [
    "# Time series Forecasting for predicting COVID - 19 cases"
   ]
  },
  {
   "cell_type": "markdown",
   "id": "9d434afb-faad-4d1c-9e43-73146311e6a8",
   "metadata": {},
   "source": [
    "Time series forecasting involves predicting future values based on historical data points that are ordered chronologically. It is an essential analytical technique with a wide range of applications across various fields.  \n",
    "In epidemiology, forecasting helps researchers understand disease dynamics, transmission patterns, and the effectiveness of interventions. For COVID-19, accurate predictions contribute to a deeper understanding of the virus's behavior and impact."
   ]
  },
  {
   "cell_type": "markdown",
   "id": "c3ba39ab-2637-4375-84c0-dcc685906a5c",
   "metadata": {},
   "source": [
    "### Importing all the necessary libraries"
   ]
  },
  {
   "cell_type": "code",
   "execution_count": null,
   "id": "94aee1f0-7b3b-49af-bb8a-c00bb4a6e532",
   "metadata": {},
   "outputs": [],
   "source": [
    "import numpy as np\n",
    "import pandas as pd\n",
    "import matplotlib.pyplot as plt\n",
    "import seaborn as sns\n",
    "import plotly.express as px\n",
    "from prophet import Prophet\n",
    "from sklearn.metrics import r2_score\n",
    "import warnings\n",
    "warnings.filterwarnings(action = 'ignore')"
   ]
  },
  {
   "cell_type": "markdown",
   "id": "0639e16a-cc75-449f-bd6e-da6b689c0c31",
   "metadata": {},
   "source": [
    "### Downloading the dataset using pandas"
   ]
  },
  {
   "cell_type": "code",
   "execution_count": 3,
   "id": "91314d64-1f6d-4c09-9824-f428a23a84b5",
   "metadata": {},
   "outputs": [],
   "source": [
    "df1 = pd.read_csv('CONVENIENT_global_confirmed_cases.csv') \n",
    "df2 = pd.read_csv('CONVENIENT_global_deaths.csv')"
   ]
  },
  {
   "cell_type": "markdown",
   "id": "dccadc3b-895e-4c3e-b291-64fbf8538d68",
   "metadata": {},
   "source": [
    "- df1 is a dataframe with confirmed cases across the globe\n",
    "- df2 is a dataframe with deaths across the globe"
   ]
  },
  {
   "cell_type": "code",
   "execution_count": 65,
   "id": "4477e88e-4eab-43da-a006-e955f195478a",
   "metadata": {},
   "outputs": [
    {
     "data": {
      "text/html": [
       "<div>\n",
       "<style scoped>\n",
       "    .dataframe tbody tr th:only-of-type {\n",
       "        vertical-align: middle;\n",
       "    }\n",
       "\n",
       "    .dataframe tbody tr th {\n",
       "        vertical-align: top;\n",
       "    }\n",
       "\n",
       "    .dataframe thead th {\n",
       "        text-align: right;\n",
       "    }\n",
       "</style>\n",
       "<table border=\"1\" class=\"dataframe\">\n",
       "  <thead>\n",
       "    <tr style=\"text-align: right;\">\n",
       "      <th></th>\n",
       "      <th>Country/Region</th>\n",
       "      <th>Afghanistan</th>\n",
       "      <th>Albania</th>\n",
       "      <th>Algeria</th>\n",
       "      <th>Andorra</th>\n",
       "      <th>Angola</th>\n",
       "      <th>Antarctica</th>\n",
       "      <th>Antigua and Barbuda</th>\n",
       "      <th>Argentina</th>\n",
       "      <th>Armenia</th>\n",
       "      <th>...</th>\n",
       "      <th>Uruguay</th>\n",
       "      <th>Uzbekistan</th>\n",
       "      <th>Vanuatu</th>\n",
       "      <th>Venezuela</th>\n",
       "      <th>Vietnam</th>\n",
       "      <th>West Bank and Gaza</th>\n",
       "      <th>Winter Olympics 2022</th>\n",
       "      <th>Yemen</th>\n",
       "      <th>Zambia</th>\n",
       "      <th>Zimbabwe</th>\n",
       "    </tr>\n",
       "  </thead>\n",
       "  <tbody>\n",
       "    <tr>\n",
       "      <th>1133</th>\n",
       "      <td>2/28/23</td>\n",
       "      <td>14.0</td>\n",
       "      <td>11.0</td>\n",
       "      <td>1.0</td>\n",
       "      <td>0.0</td>\n",
       "      <td>0.0</td>\n",
       "      <td>0.0</td>\n",
       "      <td>0.0</td>\n",
       "      <td>0.0</td>\n",
       "      <td>0.0</td>\n",
       "      <td>...</td>\n",
       "      <td>0.0</td>\n",
       "      <td>0.0</td>\n",
       "      <td>0.0</td>\n",
       "      <td>7.0</td>\n",
       "      <td>12.0</td>\n",
       "      <td>0.0</td>\n",
       "      <td>0.0</td>\n",
       "      <td>0.0</td>\n",
       "      <td>181.0</td>\n",
       "      <td>0.0</td>\n",
       "    </tr>\n",
       "    <tr>\n",
       "      <th>1134</th>\n",
       "      <td>3/1/23</td>\n",
       "      <td>18.0</td>\n",
       "      <td>17.0</td>\n",
       "      <td>7.0</td>\n",
       "      <td>9.0</td>\n",
       "      <td>22.0</td>\n",
       "      <td>0.0</td>\n",
       "      <td>0.0</td>\n",
       "      <td>0.0</td>\n",
       "      <td>0.0</td>\n",
       "      <td>...</td>\n",
       "      <td>0.0</td>\n",
       "      <td>139.0</td>\n",
       "      <td>0.0</td>\n",
       "      <td>5.0</td>\n",
       "      <td>9.0</td>\n",
       "      <td>0.0</td>\n",
       "      <td>0.0</td>\n",
       "      <td>0.0</td>\n",
       "      <td>0.0</td>\n",
       "      <td>206.0</td>\n",
       "    </tr>\n",
       "    <tr>\n",
       "      <th>1135</th>\n",
       "      <td>3/2/23</td>\n",
       "      <td>18.0</td>\n",
       "      <td>0.0</td>\n",
       "      <td>15.0</td>\n",
       "      <td>0.0</td>\n",
       "      <td>0.0</td>\n",
       "      <td>0.0</td>\n",
       "      <td>0.0</td>\n",
       "      <td>0.0</td>\n",
       "      <td>0.0</td>\n",
       "      <td>...</td>\n",
       "      <td>0.0</td>\n",
       "      <td>0.0</td>\n",
       "      <td>0.0</td>\n",
       "      <td>0.0</td>\n",
       "      <td>11.0</td>\n",
       "      <td>0.0</td>\n",
       "      <td>0.0</td>\n",
       "      <td>0.0</td>\n",
       "      <td>67.0</td>\n",
       "      <td>0.0</td>\n",
       "    </tr>\n",
       "    <tr>\n",
       "      <th>1136</th>\n",
       "      <td>3/3/23</td>\n",
       "      <td>4.0</td>\n",
       "      <td>19.0</td>\n",
       "      <td>6.0</td>\n",
       "      <td>0.0</td>\n",
       "      <td>0.0</td>\n",
       "      <td>0.0</td>\n",
       "      <td>0.0</td>\n",
       "      <td>0.0</td>\n",
       "      <td>0.0</td>\n",
       "      <td>...</td>\n",
       "      <td>0.0</td>\n",
       "      <td>0.0</td>\n",
       "      <td>0.0</td>\n",
       "      <td>28.0</td>\n",
       "      <td>13.0</td>\n",
       "      <td>0.0</td>\n",
       "      <td>0.0</td>\n",
       "      <td>0.0</td>\n",
       "      <td>0.0</td>\n",
       "      <td>0.0</td>\n",
       "    </tr>\n",
       "    <tr>\n",
       "      <th>1137</th>\n",
       "      <td>3/4/23</td>\n",
       "      <td>7.0</td>\n",
       "      <td>0.0</td>\n",
       "      <td>0.0</td>\n",
       "      <td>0.0</td>\n",
       "      <td>0.0</td>\n",
       "      <td>0.0</td>\n",
       "      <td>0.0</td>\n",
       "      <td>0.0</td>\n",
       "      <td>0.0</td>\n",
       "      <td>...</td>\n",
       "      <td>0.0</td>\n",
       "      <td>0.0</td>\n",
       "      <td>0.0</td>\n",
       "      <td>37.0</td>\n",
       "      <td>12.0</td>\n",
       "      <td>0.0</td>\n",
       "      <td>0.0</td>\n",
       "      <td>0.0</td>\n",
       "      <td>0.0</td>\n",
       "      <td>0.0</td>\n",
       "    </tr>\n",
       "    <tr>\n",
       "      <th>1138</th>\n",
       "      <td>3/5/23</td>\n",
       "      <td>21.0</td>\n",
       "      <td>0.0</td>\n",
       "      <td>8.0</td>\n",
       "      <td>0.0</td>\n",
       "      <td>0.0</td>\n",
       "      <td>0.0</td>\n",
       "      <td>0.0</td>\n",
       "      <td>0.0</td>\n",
       "      <td>0.0</td>\n",
       "      <td>...</td>\n",
       "      <td>0.0</td>\n",
       "      <td>0.0</td>\n",
       "      <td>0.0</td>\n",
       "      <td>0.0</td>\n",
       "      <td>4.0</td>\n",
       "      <td>0.0</td>\n",
       "      <td>0.0</td>\n",
       "      <td>0.0</td>\n",
       "      <td>56.0</td>\n",
       "      <td>0.0</td>\n",
       "    </tr>\n",
       "    <tr>\n",
       "      <th>1139</th>\n",
       "      <td>3/6/23</td>\n",
       "      <td>16.0</td>\n",
       "      <td>0.0</td>\n",
       "      <td>0.0</td>\n",
       "      <td>0.0</td>\n",
       "      <td>0.0</td>\n",
       "      <td>0.0</td>\n",
       "      <td>0.0</td>\n",
       "      <td>832.0</td>\n",
       "      <td>0.0</td>\n",
       "      <td>...</td>\n",
       "      <td>0.0</td>\n",
       "      <td>0.0</td>\n",
       "      <td>0.0</td>\n",
       "      <td>74.0</td>\n",
       "      <td>0.0</td>\n",
       "      <td>0.0</td>\n",
       "      <td>0.0</td>\n",
       "      <td>0.0</td>\n",
       "      <td>0.0</td>\n",
       "      <td>0.0</td>\n",
       "    </tr>\n",
       "    <tr>\n",
       "      <th>1140</th>\n",
       "      <td>3/7/23</td>\n",
       "      <td>30.0</td>\n",
       "      <td>0.0</td>\n",
       "      <td>13.0</td>\n",
       "      <td>0.0</td>\n",
       "      <td>0.0</td>\n",
       "      <td>0.0</td>\n",
       "      <td>0.0</td>\n",
       "      <td>0.0</td>\n",
       "      <td>0.0</td>\n",
       "      <td>...</td>\n",
       "      <td>0.0</td>\n",
       "      <td>0.0</td>\n",
       "      <td>0.0</td>\n",
       "      <td>32.0</td>\n",
       "      <td>20.0</td>\n",
       "      <td>0.0</td>\n",
       "      <td>0.0</td>\n",
       "      <td>0.0</td>\n",
       "      <td>0.0</td>\n",
       "      <td>0.0</td>\n",
       "    </tr>\n",
       "    <tr>\n",
       "      <th>1141</th>\n",
       "      <td>3/8/23</td>\n",
       "      <td>15.0</td>\n",
       "      <td>16.0</td>\n",
       "      <td>4.0</td>\n",
       "      <td>15.0</td>\n",
       "      <td>11.0</td>\n",
       "      <td>0.0</td>\n",
       "      <td>0.0</td>\n",
       "      <td>0.0</td>\n",
       "      <td>489.0</td>\n",
       "      <td>...</td>\n",
       "      <td>0.0</td>\n",
       "      <td>176.0</td>\n",
       "      <td>0.0</td>\n",
       "      <td>0.0</td>\n",
       "      <td>8.0</td>\n",
       "      <td>0.0</td>\n",
       "      <td>0.0</td>\n",
       "      <td>0.0</td>\n",
       "      <td>0.0</td>\n",
       "      <td>149.0</td>\n",
       "    </tr>\n",
       "    <tr>\n",
       "      <th>1142</th>\n",
       "      <td>3/9/23</td>\n",
       "      <td>0.0</td>\n",
       "      <td>14.0</td>\n",
       "      <td>2.0</td>\n",
       "      <td>0.0</td>\n",
       "      <td>0.0</td>\n",
       "      <td>0.0</td>\n",
       "      <td>0.0</td>\n",
       "      <td>0.0</td>\n",
       "      <td>0.0</td>\n",
       "      <td>...</td>\n",
       "      <td>0.0</td>\n",
       "      <td>0.0</td>\n",
       "      <td>0.0</td>\n",
       "      <td>5.0</td>\n",
       "      <td>0.0</td>\n",
       "      <td>0.0</td>\n",
       "      <td>0.0</td>\n",
       "      <td>0.0</td>\n",
       "      <td>0.0</td>\n",
       "      <td>0.0</td>\n",
       "    </tr>\n",
       "  </tbody>\n",
       "</table>\n",
       "<p>10 rows × 290 columns</p>\n",
       "</div>"
      ],
      "text/plain": [
       "     Country/Region  Afghanistan  Albania  Algeria  Andorra  Angola  \\\n",
       "1133        2/28/23         14.0     11.0      1.0      0.0     0.0   \n",
       "1134         3/1/23         18.0     17.0      7.0      9.0    22.0   \n",
       "1135         3/2/23         18.0      0.0     15.0      0.0     0.0   \n",
       "1136         3/3/23          4.0     19.0      6.0      0.0     0.0   \n",
       "1137         3/4/23          7.0      0.0      0.0      0.0     0.0   \n",
       "1138         3/5/23         21.0      0.0      8.0      0.0     0.0   \n",
       "1139         3/6/23         16.0      0.0      0.0      0.0     0.0   \n",
       "1140         3/7/23         30.0      0.0     13.0      0.0     0.0   \n",
       "1141         3/8/23         15.0     16.0      4.0     15.0    11.0   \n",
       "1142         3/9/23          0.0     14.0      2.0      0.0     0.0   \n",
       "\n",
       "      Antarctica  Antigua and Barbuda  Argentina  Armenia  ... Uruguay  \\\n",
       "1133         0.0                  0.0        0.0      0.0  ...     0.0   \n",
       "1134         0.0                  0.0        0.0      0.0  ...     0.0   \n",
       "1135         0.0                  0.0        0.0      0.0  ...     0.0   \n",
       "1136         0.0                  0.0        0.0      0.0  ...     0.0   \n",
       "1137         0.0                  0.0        0.0      0.0  ...     0.0   \n",
       "1138         0.0                  0.0        0.0      0.0  ...     0.0   \n",
       "1139         0.0                  0.0      832.0      0.0  ...     0.0   \n",
       "1140         0.0                  0.0        0.0      0.0  ...     0.0   \n",
       "1141         0.0                  0.0        0.0    489.0  ...     0.0   \n",
       "1142         0.0                  0.0        0.0      0.0  ...     0.0   \n",
       "\n",
       "     Uzbekistan Vanuatu Venezuela Vietnam West Bank and Gaza  \\\n",
       "1133        0.0     0.0       7.0    12.0                0.0   \n",
       "1134      139.0     0.0       5.0     9.0                0.0   \n",
       "1135        0.0     0.0       0.0    11.0                0.0   \n",
       "1136        0.0     0.0      28.0    13.0                0.0   \n",
       "1137        0.0     0.0      37.0    12.0                0.0   \n",
       "1138        0.0     0.0       0.0     4.0                0.0   \n",
       "1139        0.0     0.0      74.0     0.0                0.0   \n",
       "1140        0.0     0.0      32.0    20.0                0.0   \n",
       "1141      176.0     0.0       0.0     8.0                0.0   \n",
       "1142        0.0     0.0       5.0     0.0                0.0   \n",
       "\n",
       "     Winter Olympics 2022 Yemen  Zambia  Zimbabwe  \n",
       "1133                  0.0   0.0   181.0       0.0  \n",
       "1134                  0.0   0.0     0.0     206.0  \n",
       "1135                  0.0   0.0    67.0       0.0  \n",
       "1136                  0.0   0.0     0.0       0.0  \n",
       "1137                  0.0   0.0     0.0       0.0  \n",
       "1138                  0.0   0.0    56.0       0.0  \n",
       "1139                  0.0   0.0     0.0       0.0  \n",
       "1140                  0.0   0.0     0.0       0.0  \n",
       "1141                  0.0   0.0     0.0     149.0  \n",
       "1142                  0.0   0.0     0.0       0.0  \n",
       "\n",
       "[10 rows x 290 columns]"
      ]
     },
     "execution_count": 65,
     "metadata": {},
     "output_type": "execute_result"
    }
   ],
   "source": [
    "df1.haed()"
   ]
  },
  {
   "cell_type": "code",
   "execution_count": 64,
   "id": "a07fcfa3-8753-4dcb-ad01-4aa83e04f754",
   "metadata": {},
   "outputs": [
    {
     "data": {
      "text/html": [
       "<div>\n",
       "<style scoped>\n",
       "    .dataframe tbody tr th:only-of-type {\n",
       "        vertical-align: middle;\n",
       "    }\n",
       "\n",
       "    .dataframe tbody tr th {\n",
       "        vertical-align: top;\n",
       "    }\n",
       "\n",
       "    .dataframe thead th {\n",
       "        text-align: right;\n",
       "    }\n",
       "</style>\n",
       "<table border=\"1\" class=\"dataframe\">\n",
       "  <thead>\n",
       "    <tr style=\"text-align: right;\">\n",
       "      <th></th>\n",
       "      <th>Country/Region</th>\n",
       "      <th>Afghanistan</th>\n",
       "      <th>Albania</th>\n",
       "      <th>Algeria</th>\n",
       "      <th>Andorra</th>\n",
       "      <th>Angola</th>\n",
       "      <th>Antarctica</th>\n",
       "      <th>Antigua and Barbuda</th>\n",
       "      <th>Argentina</th>\n",
       "      <th>Armenia</th>\n",
       "      <th>...</th>\n",
       "      <th>Uruguay</th>\n",
       "      <th>Uzbekistan</th>\n",
       "      <th>Vanuatu</th>\n",
       "      <th>Venezuela</th>\n",
       "      <th>Vietnam</th>\n",
       "      <th>West Bank and Gaza</th>\n",
       "      <th>Winter Olympics 2022</th>\n",
       "      <th>Yemen</th>\n",
       "      <th>Zambia</th>\n",
       "      <th>Zimbabwe</th>\n",
       "    </tr>\n",
       "  </thead>\n",
       "  <tbody>\n",
       "    <tr>\n",
       "      <th>1133</th>\n",
       "      <td>2/28/23</td>\n",
       "      <td>0.0</td>\n",
       "      <td>0.0</td>\n",
       "      <td>0.0</td>\n",
       "      <td>0.0</td>\n",
       "      <td>0.0</td>\n",
       "      <td>0.0</td>\n",
       "      <td>0.0</td>\n",
       "      <td>0.0</td>\n",
       "      <td>0.0</td>\n",
       "      <td>...</td>\n",
       "      <td>0.0</td>\n",
       "      <td>0.0</td>\n",
       "      <td>0.0</td>\n",
       "      <td>0.0</td>\n",
       "      <td>0.0</td>\n",
       "      <td>0.0</td>\n",
       "      <td>0.0</td>\n",
       "      <td>0.0</td>\n",
       "      <td>2.0</td>\n",
       "      <td>0.0</td>\n",
       "    </tr>\n",
       "    <tr>\n",
       "      <th>1134</th>\n",
       "      <td>3/1/23</td>\n",
       "      <td>0.0</td>\n",
       "      <td>0.0</td>\n",
       "      <td>0.0</td>\n",
       "      <td>0.0</td>\n",
       "      <td>0.0</td>\n",
       "      <td>0.0</td>\n",
       "      <td>0.0</td>\n",
       "      <td>0.0</td>\n",
       "      <td>0.0</td>\n",
       "      <td>...</td>\n",
       "      <td>0.0</td>\n",
       "      <td>0.0</td>\n",
       "      <td>0.0</td>\n",
       "      <td>1.0</td>\n",
       "      <td>0.0</td>\n",
       "      <td>0.0</td>\n",
       "      <td>0.0</td>\n",
       "      <td>0.0</td>\n",
       "      <td>0.0</td>\n",
       "      <td>5.0</td>\n",
       "    </tr>\n",
       "    <tr>\n",
       "      <th>1135</th>\n",
       "      <td>3/2/23</td>\n",
       "      <td>0.0</td>\n",
       "      <td>0.0</td>\n",
       "      <td>0.0</td>\n",
       "      <td>0.0</td>\n",
       "      <td>0.0</td>\n",
       "      <td>0.0</td>\n",
       "      <td>0.0</td>\n",
       "      <td>0.0</td>\n",
       "      <td>0.0</td>\n",
       "      <td>...</td>\n",
       "      <td>0.0</td>\n",
       "      <td>0.0</td>\n",
       "      <td>0.0</td>\n",
       "      <td>0.0</td>\n",
       "      <td>0.0</td>\n",
       "      <td>0.0</td>\n",
       "      <td>0.0</td>\n",
       "      <td>0.0</td>\n",
       "      <td>0.0</td>\n",
       "      <td>0.0</td>\n",
       "    </tr>\n",
       "    <tr>\n",
       "      <th>1136</th>\n",
       "      <td>3/3/23</td>\n",
       "      <td>0.0</td>\n",
       "      <td>0.0</td>\n",
       "      <td>0.0</td>\n",
       "      <td>0.0</td>\n",
       "      <td>0.0</td>\n",
       "      <td>0.0</td>\n",
       "      <td>0.0</td>\n",
       "      <td>0.0</td>\n",
       "      <td>0.0</td>\n",
       "      <td>...</td>\n",
       "      <td>0.0</td>\n",
       "      <td>0.0</td>\n",
       "      <td>0.0</td>\n",
       "      <td>0.0</td>\n",
       "      <td>0.0</td>\n",
       "      <td>0.0</td>\n",
       "      <td>0.0</td>\n",
       "      <td>0.0</td>\n",
       "      <td>0.0</td>\n",
       "      <td>0.0</td>\n",
       "    </tr>\n",
       "    <tr>\n",
       "      <th>1137</th>\n",
       "      <td>3/4/23</td>\n",
       "      <td>0.0</td>\n",
       "      <td>0.0</td>\n",
       "      <td>0.0</td>\n",
       "      <td>0.0</td>\n",
       "      <td>0.0</td>\n",
       "      <td>0.0</td>\n",
       "      <td>0.0</td>\n",
       "      <td>0.0</td>\n",
       "      <td>0.0</td>\n",
       "      <td>...</td>\n",
       "      <td>0.0</td>\n",
       "      <td>0.0</td>\n",
       "      <td>0.0</td>\n",
       "      <td>0.0</td>\n",
       "      <td>0.0</td>\n",
       "      <td>0.0</td>\n",
       "      <td>0.0</td>\n",
       "      <td>0.0</td>\n",
       "      <td>0.0</td>\n",
       "      <td>0.0</td>\n",
       "    </tr>\n",
       "    <tr>\n",
       "      <th>1138</th>\n",
       "      <td>3/5/23</td>\n",
       "      <td>0.0</td>\n",
       "      <td>0.0</td>\n",
       "      <td>0.0</td>\n",
       "      <td>0.0</td>\n",
       "      <td>0.0</td>\n",
       "      <td>0.0</td>\n",
       "      <td>0.0</td>\n",
       "      <td>0.0</td>\n",
       "      <td>0.0</td>\n",
       "      <td>...</td>\n",
       "      <td>0.0</td>\n",
       "      <td>0.0</td>\n",
       "      <td>0.0</td>\n",
       "      <td>0.0</td>\n",
       "      <td>0.0</td>\n",
       "      <td>0.0</td>\n",
       "      <td>0.0</td>\n",
       "      <td>0.0</td>\n",
       "      <td>0.0</td>\n",
       "      <td>0.0</td>\n",
       "    </tr>\n",
       "    <tr>\n",
       "      <th>1139</th>\n",
       "      <td>3/6/23</td>\n",
       "      <td>0.0</td>\n",
       "      <td>0.0</td>\n",
       "      <td>0.0</td>\n",
       "      <td>0.0</td>\n",
       "      <td>0.0</td>\n",
       "      <td>0.0</td>\n",
       "      <td>0.0</td>\n",
       "      <td>9.0</td>\n",
       "      <td>0.0</td>\n",
       "      <td>...</td>\n",
       "      <td>0.0</td>\n",
       "      <td>0.0</td>\n",
       "      <td>0.0</td>\n",
       "      <td>0.0</td>\n",
       "      <td>0.0</td>\n",
       "      <td>0.0</td>\n",
       "      <td>0.0</td>\n",
       "      <td>0.0</td>\n",
       "      <td>0.0</td>\n",
       "      <td>0.0</td>\n",
       "    </tr>\n",
       "    <tr>\n",
       "      <th>1140</th>\n",
       "      <td>3/7/23</td>\n",
       "      <td>0.0</td>\n",
       "      <td>0.0</td>\n",
       "      <td>0.0</td>\n",
       "      <td>0.0</td>\n",
       "      <td>0.0</td>\n",
       "      <td>0.0</td>\n",
       "      <td>0.0</td>\n",
       "      <td>0.0</td>\n",
       "      <td>0.0</td>\n",
       "      <td>...</td>\n",
       "      <td>0.0</td>\n",
       "      <td>0.0</td>\n",
       "      <td>0.0</td>\n",
       "      <td>0.0</td>\n",
       "      <td>0.0</td>\n",
       "      <td>0.0</td>\n",
       "      <td>0.0</td>\n",
       "      <td>0.0</td>\n",
       "      <td>0.0</td>\n",
       "      <td>0.0</td>\n",
       "    </tr>\n",
       "    <tr>\n",
       "      <th>1141</th>\n",
       "      <td>3/8/23</td>\n",
       "      <td>0.0</td>\n",
       "      <td>0.0</td>\n",
       "      <td>0.0</td>\n",
       "      <td>0.0</td>\n",
       "      <td>0.0</td>\n",
       "      <td>0.0</td>\n",
       "      <td>0.0</td>\n",
       "      <td>0.0</td>\n",
       "      <td>6.0</td>\n",
       "      <td>...</td>\n",
       "      <td>0.0</td>\n",
       "      <td>0.0</td>\n",
       "      <td>0.0</td>\n",
       "      <td>0.0</td>\n",
       "      <td>0.0</td>\n",
       "      <td>0.0</td>\n",
       "      <td>0.0</td>\n",
       "      <td>0.0</td>\n",
       "      <td>0.0</td>\n",
       "      <td>3.0</td>\n",
       "    </tr>\n",
       "    <tr>\n",
       "      <th>1142</th>\n",
       "      <td>3/9/23</td>\n",
       "      <td>0.0</td>\n",
       "      <td>0.0</td>\n",
       "      <td>0.0</td>\n",
       "      <td>0.0</td>\n",
       "      <td>0.0</td>\n",
       "      <td>0.0</td>\n",
       "      <td>0.0</td>\n",
       "      <td>0.0</td>\n",
       "      <td>0.0</td>\n",
       "      <td>...</td>\n",
       "      <td>0.0</td>\n",
       "      <td>0.0</td>\n",
       "      <td>0.0</td>\n",
       "      <td>0.0</td>\n",
       "      <td>0.0</td>\n",
       "      <td>0.0</td>\n",
       "      <td>0.0</td>\n",
       "      <td>0.0</td>\n",
       "      <td>0.0</td>\n",
       "      <td>0.0</td>\n",
       "    </tr>\n",
       "  </tbody>\n",
       "</table>\n",
       "<p>10 rows × 290 columns</p>\n",
       "</div>"
      ],
      "text/plain": [
       "     Country/Region  Afghanistan  Albania  Algeria  Andorra  Angola  \\\n",
       "1133        2/28/23          0.0      0.0      0.0      0.0     0.0   \n",
       "1134         3/1/23          0.0      0.0      0.0      0.0     0.0   \n",
       "1135         3/2/23          0.0      0.0      0.0      0.0     0.0   \n",
       "1136         3/3/23          0.0      0.0      0.0      0.0     0.0   \n",
       "1137         3/4/23          0.0      0.0      0.0      0.0     0.0   \n",
       "1138         3/5/23          0.0      0.0      0.0      0.0     0.0   \n",
       "1139         3/6/23          0.0      0.0      0.0      0.0     0.0   \n",
       "1140         3/7/23          0.0      0.0      0.0      0.0     0.0   \n",
       "1141         3/8/23          0.0      0.0      0.0      0.0     0.0   \n",
       "1142         3/9/23          0.0      0.0      0.0      0.0     0.0   \n",
       "\n",
       "      Antarctica  Antigua and Barbuda  Argentina  Armenia  ... Uruguay  \\\n",
       "1133         0.0                  0.0        0.0      0.0  ...     0.0   \n",
       "1134         0.0                  0.0        0.0      0.0  ...     0.0   \n",
       "1135         0.0                  0.0        0.0      0.0  ...     0.0   \n",
       "1136         0.0                  0.0        0.0      0.0  ...     0.0   \n",
       "1137         0.0                  0.0        0.0      0.0  ...     0.0   \n",
       "1138         0.0                  0.0        0.0      0.0  ...     0.0   \n",
       "1139         0.0                  0.0        9.0      0.0  ...     0.0   \n",
       "1140         0.0                  0.0        0.0      0.0  ...     0.0   \n",
       "1141         0.0                  0.0        0.0      6.0  ...     0.0   \n",
       "1142         0.0                  0.0        0.0      0.0  ...     0.0   \n",
       "\n",
       "     Uzbekistan Vanuatu Venezuela Vietnam West Bank and Gaza  \\\n",
       "1133        0.0     0.0       0.0     0.0                0.0   \n",
       "1134        0.0     0.0       1.0     0.0                0.0   \n",
       "1135        0.0     0.0       0.0     0.0                0.0   \n",
       "1136        0.0     0.0       0.0     0.0                0.0   \n",
       "1137        0.0     0.0       0.0     0.0                0.0   \n",
       "1138        0.0     0.0       0.0     0.0                0.0   \n",
       "1139        0.0     0.0       0.0     0.0                0.0   \n",
       "1140        0.0     0.0       0.0     0.0                0.0   \n",
       "1141        0.0     0.0       0.0     0.0                0.0   \n",
       "1142        0.0     0.0       0.0     0.0                0.0   \n",
       "\n",
       "     Winter Olympics 2022 Yemen  Zambia  Zimbabwe  \n",
       "1133                  0.0   0.0     2.0       0.0  \n",
       "1134                  0.0   0.0     0.0       5.0  \n",
       "1135                  0.0   0.0     0.0       0.0  \n",
       "1136                  0.0   0.0     0.0       0.0  \n",
       "1137                  0.0   0.0     0.0       0.0  \n",
       "1138                  0.0   0.0     0.0       0.0  \n",
       "1139                  0.0   0.0     0.0       0.0  \n",
       "1140                  0.0   0.0     0.0       0.0  \n",
       "1141                  0.0   0.0     0.0       3.0  \n",
       "1142                  0.0   0.0     0.0       0.0  \n",
       "\n",
       "[10 rows x 290 columns]"
      ]
     },
     "execution_count": 64,
     "metadata": {},
     "output_type": "execute_result"
    }
   ],
   "source": [
    "df2.head()"
   ]
  },
  {
   "cell_type": "markdown",
   "id": "d1eabfd7-4328-4f29-b7cc-e63147a80b11",
   "metadata": {},
   "source": [
    "### Feature Engineering:\n",
    "\n",
    "- The two dataframes - df1 and df2 doesn't give the total cases in a particular country, instead it just gives number of cases per day\n",
    "- Let us create a dataframe which gives the total number of cases in each country."
   ]
  },
  {
   "cell_type": "code",
   "execution_count": 53,
   "id": "b0a1c80d-ac96-4708-9466-0ef2ea155a42",
   "metadata": {},
   "outputs": [],
   "source": [
    "# Let us create an empty dataframe called 'world' with the name of the columns as country and cases.\n",
    "\n",
    "world = pd.DataFrame({'Country': [], 'Cases': []}) \n"
   ]
  },
  {
   "cell_type": "code",
   "execution_count": 55,
   "id": "891e4d0c-9867-4b95-8147-e9e163abac04",
   "metadata": {},
   "outputs": [],
   "source": [
    "# Allocating the country names which are represented as columns in df1 dataframe as entries to Country column in the world dataframe\n",
    "\n",
    "world['Country'] = df1.iloc[:,1:].columns"
   ]
  },
  {
   "cell_type": "code",
   "execution_count": 56,
   "id": "78af7ebb-e9b0-4640-b64e-8c6d7c3ff61d",
   "metadata": {},
   "outputs": [
    {
     "data": {
      "text/plain": [
       "0               Afghanistan\n",
       "1                   Albania\n",
       "2                   Algeria\n",
       "3                   Andorra\n",
       "4                    Angola\n",
       "               ...         \n",
       "284      West Bank and Gaza\n",
       "285    Winter Olympics 2022\n",
       "286                   Yemen\n",
       "287                  Zambia\n",
       "288                Zimbabwe\n",
       "Name: Country, Length: 289, dtype: object"
      ]
     },
     "execution_count": 56,
     "metadata": {},
     "output_type": "execute_result"
    }
   ],
   "source": [
    "world['Country']"
   ]
  },
  {
   "cell_type": "code",
   "execution_count": 67,
   "id": "cd2dd67e-a556-4979-b702-2d29da3b1f0b",
   "metadata": {},
   "outputs": [],
   "source": [
    "# Creating an empty list called cases\n",
    "\n",
    "cases = []"
   ]
  },
  {
   "cell_type": "code",
   "execution_count": 68,
   "id": "2813d482-94c0-4126-8aca-8e316c0e400b",
   "metadata": {},
   "outputs": [],
   "source": [
    "# summing up all the cases in each country and appending it to a list called cases.\n",
    "\n",
    "for i in world[\"Country\"]:\n",
    "    cases.append(pd.to_numeric(df1[i][1:]).sum())\n",
    "world[\"Cases\"]=cases"
   ]
  },
  {
   "cell_type": "code",
   "execution_count": 69,
   "id": "b00be9dc-05c2-4630-a7e4-3a885b08cc75",
   "metadata": {},
   "outputs": [
    {
     "data": {
      "text/plain": [
       "0      209451.0\n",
       "1      334457.0\n",
       "2      271496.0\n",
       "3       47890.0\n",
       "4      105288.0\n",
       "         ...   \n",
       "284    703228.0\n",
       "285       535.0\n",
       "286     11945.0\n",
       "287    343135.0\n",
       "288    264276.0\n",
       "Name: Cases, Length: 289, dtype: float64"
      ]
     },
     "execution_count": 69,
     "metadata": {},
     "output_type": "execute_result"
    }
   ],
   "source": [
    "world['Cases'] # This column gives the number of cases in the country"
   ]
  },
  {
   "cell_type": "code",
   "execution_count": 70,
   "id": "60c4455a-d527-4469-8595-1a0aab85f723",
   "metadata": {},
   "outputs": [
    {
     "data": {
      "text/plain": [
       "1        0.0\n",
       "2        0.0\n",
       "3        0.0\n",
       "4        0.0\n",
       "5        0.0\n",
       "        ... \n",
       "1138    21.0\n",
       "1139    16.0\n",
       "1140    30.0\n",
       "1141    15.0\n",
       "1142     0.0\n",
       "Name: Afghanistan, Length: 1142, dtype: float64"
      ]
     },
     "execution_count": 70,
     "metadata": {},
     "output_type": "execute_result"
    }
   ],
   "source": [
    "df1['Afghanistan'][1:] # gives all the cases in Afghanistan"
   ]
  },
  {
   "cell_type": "code",
   "execution_count": 71,
   "id": "4f4c901a-688b-4b46-887d-a4508b839e1a",
   "metadata": {},
   "outputs": [
    {
     "data": {
      "text/html": [
       "<div>\n",
       "<style scoped>\n",
       "    .dataframe tbody tr th:only-of-type {\n",
       "        vertical-align: middle;\n",
       "    }\n",
       "\n",
       "    .dataframe tbody tr th {\n",
       "        vertical-align: top;\n",
       "    }\n",
       "\n",
       "    .dataframe thead th {\n",
       "        text-align: right;\n",
       "    }\n",
       "</style>\n",
       "<table border=\"1\" class=\"dataframe\">\n",
       "  <thead>\n",
       "    <tr style=\"text-align: right;\">\n",
       "      <th></th>\n",
       "      <th>Country</th>\n",
       "      <th>Cases</th>\n",
       "    </tr>\n",
       "  </thead>\n",
       "  <tbody>\n",
       "    <tr>\n",
       "      <th>0</th>\n",
       "      <td>Afghanistan</td>\n",
       "      <td>209451.0</td>\n",
       "    </tr>\n",
       "    <tr>\n",
       "      <th>1</th>\n",
       "      <td>Albania</td>\n",
       "      <td>334457.0</td>\n",
       "    </tr>\n",
       "    <tr>\n",
       "      <th>2</th>\n",
       "      <td>Algeria</td>\n",
       "      <td>271496.0</td>\n",
       "    </tr>\n",
       "    <tr>\n",
       "      <th>3</th>\n",
       "      <td>Andorra</td>\n",
       "      <td>47890.0</td>\n",
       "    </tr>\n",
       "    <tr>\n",
       "      <th>4</th>\n",
       "      <td>Angola</td>\n",
       "      <td>105288.0</td>\n",
       "    </tr>\n",
       "  </tbody>\n",
       "</table>\n",
       "</div>"
      ],
      "text/plain": [
       "       Country     Cases\n",
       "0  Afghanistan  209451.0\n",
       "1      Albania  334457.0\n",
       "2      Algeria  271496.0\n",
       "3      Andorra   47890.0\n",
       "4       Angola  105288.0"
      ]
     },
     "execution_count": 71,
     "metadata": {},
     "output_type": "execute_result"
    }
   ],
   "source": [
    "world.head()"
   ]
  },
  {
   "cell_type": "code",
   "execution_count": 72,
   "id": "2df4651e-521b-4c06-b1cf-d0fcc3ac9f56",
   "metadata": {},
   "outputs": [
    {
     "name": "stdout",
     "output_type": "stream",
     "text": [
      "<class 'pandas.core.frame.DataFrame'>\n",
      "RangeIndex: 289 entries, 0 to 288\n",
      "Data columns (total 2 columns):\n",
      " #   Column   Non-Null Count  Dtype  \n",
      "---  ------   --------------  -----  \n",
      " 0   Country  289 non-null    object \n",
      " 1   Cases    289 non-null    float64\n",
      "dtypes: float64(1), object(1)\n",
      "memory usage: 4.6+ KB\n"
     ]
    }
   ],
   "source": [
    "world.info() "
   ]
  },
  {
   "cell_type": "code",
   "execution_count": 73,
   "id": "650beab0-2137-4627-8dba-0a910deed3c9",
   "metadata": {},
   "outputs": [],
   "source": [
    "country_names = world['Country'].tolist()"
   ]
  },
  {
   "cell_type": "code",
   "execution_count": 74,
   "id": "2020160e-b429-4080-843f-b0086b4cb589",
   "metadata": {},
   "outputs": [
    {
     "data": {
      "text/html": [
       "<div>\n",
       "<style scoped>\n",
       "    .dataframe tbody tr th:only-of-type {\n",
       "        vertical-align: middle;\n",
       "    }\n",
       "\n",
       "    .dataframe tbody tr th {\n",
       "        vertical-align: top;\n",
       "    }\n",
       "\n",
       "    .dataframe thead th {\n",
       "        text-align: right;\n",
       "    }\n",
       "</style>\n",
       "<table border=\"1\" class=\"dataframe\">\n",
       "  <thead>\n",
       "    <tr style=\"text-align: right;\">\n",
       "      <th></th>\n",
       "      <th>Country</th>\n",
       "      <th>Cases</th>\n",
       "    </tr>\n",
       "  </thead>\n",
       "  <tbody>\n",
       "    <tr>\n",
       "      <th>0</th>\n",
       "      <td>Afghanistan</td>\n",
       "      <td>209451.0</td>\n",
       "    </tr>\n",
       "    <tr>\n",
       "      <th>1</th>\n",
       "      <td>Albania</td>\n",
       "      <td>334457.0</td>\n",
       "    </tr>\n",
       "    <tr>\n",
       "      <th>2</th>\n",
       "      <td>Algeria</td>\n",
       "      <td>271496.0</td>\n",
       "    </tr>\n",
       "    <tr>\n",
       "      <th>3</th>\n",
       "      <td>Andorra</td>\n",
       "      <td>47890.0</td>\n",
       "    </tr>\n",
       "    <tr>\n",
       "      <th>4</th>\n",
       "      <td>Angola</td>\n",
       "      <td>105288.0</td>\n",
       "    </tr>\n",
       "  </tbody>\n",
       "</table>\n",
       "</div>"
      ],
      "text/plain": [
       "       Country     Cases\n",
       "0  Afghanistan  209451.0\n",
       "1      Albania  334457.0\n",
       "2      Algeria  271496.0\n",
       "3      Andorra   47890.0\n",
       "4       Angola  105288.0"
      ]
     },
     "execution_count": 74,
     "metadata": {},
     "output_type": "execute_result"
    }
   ],
   "source": [
    "world.head()"
   ]
  },
  {
   "cell_type": "code",
   "execution_count": 75,
   "id": "f4d922a0-a3af-4ad8-89ac-2a41ea94c0c9",
   "metadata": {
    "tags": []
   },
   "outputs": [
    {
     "data": {
      "text/plain": [
       "array(['Afghanistan', 'Albania', 'Algeria', 'Andorra', 'Angola',\n",
       "       'Antarctica', 'Antigua and Barbuda', 'Argentina', 'Armenia',\n",
       "       'Australia', 'Australia.1', 'Australia.2', 'Australia.3',\n",
       "       'Australia.4', 'Australia.5', 'Australia.6', 'Australia.7',\n",
       "       'Austria', 'Azerbaijan', 'Bahamas', 'Bahrain', 'Bangladesh',\n",
       "       'Barbados', 'Belarus', 'Belgium', 'Belize', 'Benin', 'Bhutan',\n",
       "       'Bolivia', 'Bosnia and Herzegovina', 'Botswana', 'Brazil',\n",
       "       'Brunei', 'Bulgaria', 'Burkina Faso', 'Burma', 'Burundi',\n",
       "       'Cabo Verde', 'Cambodia', 'Cameroon', 'Canada', 'Canada.1',\n",
       "       'Canada.2', 'Canada.3', 'Canada.4', 'Canada.5', 'Canada.6',\n",
       "       'Canada.7', 'Canada.8', 'Canada.9', 'Canada.10', 'Canada.11',\n",
       "       'Canada.12', 'Canada.13', 'Canada.14', 'Canada.15',\n",
       "       'Central African Republic', 'Chad', 'Chile', 'China', 'China.1',\n",
       "       'China.2', 'China.3', 'China.4', 'China.5', 'China.6', 'China.7',\n",
       "       'China.8', 'China.9', 'China.10', 'China.11', 'China.12',\n",
       "       'China.13', 'China.14', 'China.15', 'China.16', 'China.17',\n",
       "       'China.18', 'China.19', 'China.20', 'China.21', 'China.22',\n",
       "       'China.23', 'China.24', 'China.25', 'China.26', 'China.27',\n",
       "       'China.28', 'China.29', 'China.30', 'China.31', 'China.32',\n",
       "       'China.33', 'Colombia', 'Comoros', 'Congo (Brazzaville)',\n",
       "       'Congo (Kinshasa)', 'Costa Rica', \"Cote d'Ivoire\", 'Croatia',\n",
       "       'Cuba', 'Cyprus', 'Czechia', 'Denmark', 'Denmark.1', 'Denmark.2',\n",
       "       'Diamond Princess', 'Djibouti', 'Dominica', 'Dominican Republic',\n",
       "       'Ecuador', 'Egypt', 'El Salvador', 'Equatorial Guinea', 'Eritrea',\n",
       "       'Estonia', 'Eswatini', 'Ethiopia', 'Fiji', 'Finland', 'France',\n",
       "       'France.1', 'France.2', 'France.3', 'France.4', 'France.5',\n",
       "       'France.6', 'France.7', 'France.8', 'France.9', 'France.10',\n",
       "       'France.11', 'Gabon', 'Gambia', 'Georgia', 'Germany', 'Ghana',\n",
       "       'Greece', 'Grenada', 'Guatemala', 'Guinea', 'Guinea-Bissau',\n",
       "       'Guyana', 'Haiti', 'Holy See', 'Honduras', 'Hungary', 'Iceland',\n",
       "       'India', 'Indonesia', 'Iran', 'Iraq', 'Ireland', 'Israel', 'Italy',\n",
       "       'Jamaica', 'Japan', 'Jordan', 'Kazakhstan', 'Kenya', 'Kiribati',\n",
       "       'Korea, North', 'Korea, South', 'Kosovo', 'Kuwait', 'Kyrgyzstan',\n",
       "       'Laos', 'Latvia', 'Lebanon', 'Lesotho', 'Liberia', 'Libya',\n",
       "       'Liechtenstein', 'Lithuania', 'Luxembourg', 'MS Zaandam',\n",
       "       'Madagascar', 'Malawi', 'Malaysia', 'Maldives', 'Mali', 'Malta',\n",
       "       'Marshall Islands', 'Mauritania', 'Mauritius', 'Mexico',\n",
       "       'Micronesia', 'Moldova', 'Monaco', 'Mongolia', 'Montenegro',\n",
       "       'Morocco', 'Mozambique', 'Namibia', 'Nauru', 'Nepal',\n",
       "       'Netherlands', 'Netherlands.1', 'Netherlands.2', 'Netherlands.3',\n",
       "       'Netherlands.4', 'New Zealand', 'New Zealand.1', 'New Zealand.2',\n",
       "       'Nicaragua', 'Niger', 'Nigeria', 'North Macedonia', 'Norway',\n",
       "       'Oman', 'Pakistan', 'Palau', 'Panama', 'Papua New Guinea',\n",
       "       'Paraguay', 'Peru', 'Philippines', 'Poland', 'Portugal', 'Qatar',\n",
       "       'Romania', 'Russia', 'Rwanda', 'Saint Kitts and Nevis',\n",
       "       'Saint Lucia', 'Saint Vincent and the Grenadines', 'Samoa',\n",
       "       'San Marino', 'Sao Tome and Principe', 'Saudi Arabia', 'Senegal',\n",
       "       'Serbia', 'Seychelles', 'Sierra Leone', 'Singapore', 'Slovakia',\n",
       "       'Slovenia', 'Solomon Islands', 'Somalia', 'South Africa',\n",
       "       'South Sudan', 'Spain', 'Sri Lanka', 'Sudan',\n",
       "       'Summer Olympics 2020', 'Suriname', 'Sweden', 'Switzerland',\n",
       "       'Syria', 'Taiwan*', 'Tajikistan', 'Tanzania', 'Thailand',\n",
       "       'Timor-Leste', 'Togo', 'Tonga', 'Trinidad and Tobago', 'Tunisia',\n",
       "       'Turkey', 'Tuvalu', 'US', 'Uganda', 'Ukraine',\n",
       "       'United Arab Emirates', 'United Kingdom', 'United Kingdom.1',\n",
       "       'United Kingdom.2', 'United Kingdom.3', 'United Kingdom.4',\n",
       "       'United Kingdom.5', 'United Kingdom.6', 'United Kingdom.7',\n",
       "       'United Kingdom.8', 'United Kingdom.9', 'United Kingdom.10',\n",
       "       'United Kingdom.11', 'United Kingdom.12', 'United Kingdom.13',\n",
       "       'United Kingdom.14', 'Uruguay', 'Uzbekistan', 'Vanuatu',\n",
       "       'Venezuela', 'Vietnam', 'West Bank and Gaza',\n",
       "       'Winter Olympics 2022', 'Yemen', 'Zambia', 'Zimbabwe'],\n",
       "      dtype=object)"
      ]
     },
     "execution_count": 75,
     "metadata": {},
     "output_type": "execute_result"
    }
   ],
   "source": [
    "world['Country'].unique()"
   ]
  },
  {
   "cell_type": "markdown",
   "id": "6bcb4c08-d950-4ac0-94fd-138567480f50",
   "metadata": {},
   "source": [
    "From the above output, we can conclude that the country names are not unique. For eg - There are 34 different entries for China. The country names are written as China.1, China.2, China.3 etc. We can sum up all the cases of China into a single entry by removing the '.' from the country column."
   ]
  },
  {
   "cell_type": "code",
   "execution_count": 76,
   "id": "c9063305-8dd9-4e7e-b4cb-9c7aba93f883",
   "metadata": {},
   "outputs": [],
   "source": [
    "\n",
    "country_names = []\n",
    "for i in world['Country']:\n",
    "    names = (i.split('.')[0])\n",
    "    country_names.append(names)   "
   ]
  },
  {
   "cell_type": "code",
   "execution_count": 77,
   "id": "78e6dea3-6c60-4834-a67d-e6a6c2ef6d10",
   "metadata": {
    "collapsed": true,
    "jupyter": {
     "outputs_hidden": true
    },
    "tags": []
   },
   "outputs": [
    {
     "data": {
      "text/plain": [
       "['Afghanistan',\n",
       " 'Albania',\n",
       " 'Algeria',\n",
       " 'Andorra',\n",
       " 'Angola',\n",
       " 'Antarctica',\n",
       " 'Antigua and Barbuda',\n",
       " 'Argentina',\n",
       " 'Armenia',\n",
       " 'Australia',\n",
       " 'Australia',\n",
       " 'Australia',\n",
       " 'Australia',\n",
       " 'Australia',\n",
       " 'Australia',\n",
       " 'Australia',\n",
       " 'Australia',\n",
       " 'Austria',\n",
       " 'Azerbaijan',\n",
       " 'Bahamas',\n",
       " 'Bahrain',\n",
       " 'Bangladesh',\n",
       " 'Barbados',\n",
       " 'Belarus',\n",
       " 'Belgium',\n",
       " 'Belize',\n",
       " 'Benin',\n",
       " 'Bhutan',\n",
       " 'Bolivia',\n",
       " 'Bosnia and Herzegovina',\n",
       " 'Botswana',\n",
       " 'Brazil',\n",
       " 'Brunei',\n",
       " 'Bulgaria',\n",
       " 'Burkina Faso',\n",
       " 'Burma',\n",
       " 'Burundi',\n",
       " 'Cabo Verde',\n",
       " 'Cambodia',\n",
       " 'Cameroon',\n",
       " 'Canada',\n",
       " 'Canada',\n",
       " 'Canada',\n",
       " 'Canada',\n",
       " 'Canada',\n",
       " 'Canada',\n",
       " 'Canada',\n",
       " 'Canada',\n",
       " 'Canada',\n",
       " 'Canada',\n",
       " 'Canada',\n",
       " 'Canada',\n",
       " 'Canada',\n",
       " 'Canada',\n",
       " 'Canada',\n",
       " 'Canada',\n",
       " 'Central African Republic',\n",
       " 'Chad',\n",
       " 'Chile',\n",
       " 'China',\n",
       " 'China',\n",
       " 'China',\n",
       " 'China',\n",
       " 'China',\n",
       " 'China',\n",
       " 'China',\n",
       " 'China',\n",
       " 'China',\n",
       " 'China',\n",
       " 'China',\n",
       " 'China',\n",
       " 'China',\n",
       " 'China',\n",
       " 'China',\n",
       " 'China',\n",
       " 'China',\n",
       " 'China',\n",
       " 'China',\n",
       " 'China',\n",
       " 'China',\n",
       " 'China',\n",
       " 'China',\n",
       " 'China',\n",
       " 'China',\n",
       " 'China',\n",
       " 'China',\n",
       " 'China',\n",
       " 'China',\n",
       " 'China',\n",
       " 'China',\n",
       " 'China',\n",
       " 'China',\n",
       " 'China',\n",
       " 'Colombia',\n",
       " 'Comoros',\n",
       " 'Congo (Brazzaville)',\n",
       " 'Congo (Kinshasa)',\n",
       " 'Costa Rica',\n",
       " \"Cote d'Ivoire\",\n",
       " 'Croatia',\n",
       " 'Cuba',\n",
       " 'Cyprus',\n",
       " 'Czechia',\n",
       " 'Denmark',\n",
       " 'Denmark',\n",
       " 'Denmark',\n",
       " 'Diamond Princess',\n",
       " 'Djibouti',\n",
       " 'Dominica',\n",
       " 'Dominican Republic',\n",
       " 'Ecuador',\n",
       " 'Egypt',\n",
       " 'El Salvador',\n",
       " 'Equatorial Guinea',\n",
       " 'Eritrea',\n",
       " 'Estonia',\n",
       " 'Eswatini',\n",
       " 'Ethiopia',\n",
       " 'Fiji',\n",
       " 'Finland',\n",
       " 'France',\n",
       " 'France',\n",
       " 'France',\n",
       " 'France',\n",
       " 'France',\n",
       " 'France',\n",
       " 'France',\n",
       " 'France',\n",
       " 'France',\n",
       " 'France',\n",
       " 'France',\n",
       " 'France',\n",
       " 'Gabon',\n",
       " 'Gambia',\n",
       " 'Georgia',\n",
       " 'Germany',\n",
       " 'Ghana',\n",
       " 'Greece',\n",
       " 'Grenada',\n",
       " 'Guatemala',\n",
       " 'Guinea',\n",
       " 'Guinea-Bissau',\n",
       " 'Guyana',\n",
       " 'Haiti',\n",
       " 'Holy See',\n",
       " 'Honduras',\n",
       " 'Hungary',\n",
       " 'Iceland',\n",
       " 'India',\n",
       " 'Indonesia',\n",
       " 'Iran',\n",
       " 'Iraq',\n",
       " 'Ireland',\n",
       " 'Israel',\n",
       " 'Italy',\n",
       " 'Jamaica',\n",
       " 'Japan',\n",
       " 'Jordan',\n",
       " 'Kazakhstan',\n",
       " 'Kenya',\n",
       " 'Kiribati',\n",
       " 'Korea, North',\n",
       " 'Korea, South',\n",
       " 'Kosovo',\n",
       " 'Kuwait',\n",
       " 'Kyrgyzstan',\n",
       " 'Laos',\n",
       " 'Latvia',\n",
       " 'Lebanon',\n",
       " 'Lesotho',\n",
       " 'Liberia',\n",
       " 'Libya',\n",
       " 'Liechtenstein',\n",
       " 'Lithuania',\n",
       " 'Luxembourg',\n",
       " 'MS Zaandam',\n",
       " 'Madagascar',\n",
       " 'Malawi',\n",
       " 'Malaysia',\n",
       " 'Maldives',\n",
       " 'Mali',\n",
       " 'Malta',\n",
       " 'Marshall Islands',\n",
       " 'Mauritania',\n",
       " 'Mauritius',\n",
       " 'Mexico',\n",
       " 'Micronesia',\n",
       " 'Moldova',\n",
       " 'Monaco',\n",
       " 'Mongolia',\n",
       " 'Montenegro',\n",
       " 'Morocco',\n",
       " 'Mozambique',\n",
       " 'Namibia',\n",
       " 'Nauru',\n",
       " 'Nepal',\n",
       " 'Netherlands',\n",
       " 'Netherlands',\n",
       " 'Netherlands',\n",
       " 'Netherlands',\n",
       " 'Netherlands',\n",
       " 'New Zealand',\n",
       " 'New Zealand',\n",
       " 'New Zealand',\n",
       " 'Nicaragua',\n",
       " 'Niger',\n",
       " 'Nigeria',\n",
       " 'North Macedonia',\n",
       " 'Norway',\n",
       " 'Oman',\n",
       " 'Pakistan',\n",
       " 'Palau',\n",
       " 'Panama',\n",
       " 'Papua New Guinea',\n",
       " 'Paraguay',\n",
       " 'Peru',\n",
       " 'Philippines',\n",
       " 'Poland',\n",
       " 'Portugal',\n",
       " 'Qatar',\n",
       " 'Romania',\n",
       " 'Russia',\n",
       " 'Rwanda',\n",
       " 'Saint Kitts and Nevis',\n",
       " 'Saint Lucia',\n",
       " 'Saint Vincent and the Grenadines',\n",
       " 'Samoa',\n",
       " 'San Marino',\n",
       " 'Sao Tome and Principe',\n",
       " 'Saudi Arabia',\n",
       " 'Senegal',\n",
       " 'Serbia',\n",
       " 'Seychelles',\n",
       " 'Sierra Leone',\n",
       " 'Singapore',\n",
       " 'Slovakia',\n",
       " 'Slovenia',\n",
       " 'Solomon Islands',\n",
       " 'Somalia',\n",
       " 'South Africa',\n",
       " 'South Sudan',\n",
       " 'Spain',\n",
       " 'Sri Lanka',\n",
       " 'Sudan',\n",
       " 'Summer Olympics 2020',\n",
       " 'Suriname',\n",
       " 'Sweden',\n",
       " 'Switzerland',\n",
       " 'Syria',\n",
       " 'Taiwan*',\n",
       " 'Tajikistan',\n",
       " 'Tanzania',\n",
       " 'Thailand',\n",
       " 'Timor-Leste',\n",
       " 'Togo',\n",
       " 'Tonga',\n",
       " 'Trinidad and Tobago',\n",
       " 'Tunisia',\n",
       " 'Turkey',\n",
       " 'Tuvalu',\n",
       " 'US',\n",
       " 'Uganda',\n",
       " 'Ukraine',\n",
       " 'United Arab Emirates',\n",
       " 'United Kingdom',\n",
       " 'United Kingdom',\n",
       " 'United Kingdom',\n",
       " 'United Kingdom',\n",
       " 'United Kingdom',\n",
       " 'United Kingdom',\n",
       " 'United Kingdom',\n",
       " 'United Kingdom',\n",
       " 'United Kingdom',\n",
       " 'United Kingdom',\n",
       " 'United Kingdom',\n",
       " 'United Kingdom',\n",
       " 'United Kingdom',\n",
       " 'United Kingdom',\n",
       " 'United Kingdom',\n",
       " 'Uruguay',\n",
       " 'Uzbekistan',\n",
       " 'Vanuatu',\n",
       " 'Venezuela',\n",
       " 'Vietnam',\n",
       " 'West Bank and Gaza',\n",
       " 'Winter Olympics 2022',\n",
       " 'Yemen',\n",
       " 'Zambia',\n",
       " 'Zimbabwe']"
      ]
     },
     "execution_count": 77,
     "metadata": {},
     "output_type": "execute_result"
    }
   ],
   "source": [
    "country_names"
   ]
  },
  {
   "cell_type": "markdown",
   "id": "6811382a-fa6b-4e28-9010-16b9a41680f1",
   "metadata": {},
   "source": [
    "There are country names like Congo (Brazzaville), Congo (Kinshasa). The number of cases in this country can be summed up by ignoring the neames inside the brackets (). "
   ]
  },
  {
   "cell_type": "code",
   "execution_count": 78,
   "id": "ff63beb2-a728-47e1-a2ef-a6d13bf6d18b",
   "metadata": {
    "tags": []
   },
   "outputs": [],
   "source": [
    "final_country_list = []\n",
    "for i in country_names:\n",
    "    names = (i.split('(')[0])\n",
    "    final_country_list.append(names)\n",
    "    "
   ]
  },
  {
   "cell_type": "code",
   "execution_count": 80,
   "id": "727882d2-44a0-4346-90db-0851c12152ad",
   "metadata": {
    "collapsed": true,
    "jupyter": {
     "outputs_hidden": true
    },
    "tags": []
   },
   "outputs": [
    {
     "data": {
      "text/plain": [
       "Counter({'Afghanistan': 1,\n",
       "         'Albania': 1,\n",
       "         'Algeria': 1,\n",
       "         'Andorra': 1,\n",
       "         'Angola': 1,\n",
       "         'Antarctica': 1,\n",
       "         'Antigua and Barbuda': 1,\n",
       "         'Argentina': 1,\n",
       "         'Armenia': 1,\n",
       "         'Australia': 8,\n",
       "         'Austria': 1,\n",
       "         'Azerbaijan': 1,\n",
       "         'Bahamas': 1,\n",
       "         'Bahrain': 1,\n",
       "         'Bangladesh': 1,\n",
       "         'Barbados': 1,\n",
       "         'Belarus': 1,\n",
       "         'Belgium': 1,\n",
       "         'Belize': 1,\n",
       "         'Benin': 1,\n",
       "         'Bhutan': 1,\n",
       "         'Bolivia': 1,\n",
       "         'Bosnia and Herzegovina': 1,\n",
       "         'Botswana': 1,\n",
       "         'Brazil': 1,\n",
       "         'Brunei': 1,\n",
       "         'Bulgaria': 1,\n",
       "         'Burkina Faso': 1,\n",
       "         'Burma': 1,\n",
       "         'Burundi': 1,\n",
       "         'Cabo Verde': 1,\n",
       "         'Cambodia': 1,\n",
       "         'Cameroon': 1,\n",
       "         'Canada': 16,\n",
       "         'Central African Republic': 1,\n",
       "         'Chad': 1,\n",
       "         'Chile': 1,\n",
       "         'China': 34,\n",
       "         'Colombia': 1,\n",
       "         'Comoros': 1,\n",
       "         'Congo ': 2,\n",
       "         'Costa Rica': 1,\n",
       "         \"Cote d'Ivoire\": 1,\n",
       "         'Croatia': 1,\n",
       "         'Cuba': 1,\n",
       "         'Cyprus': 1,\n",
       "         'Czechia': 1,\n",
       "         'Denmark': 3,\n",
       "         'Diamond Princess': 1,\n",
       "         'Djibouti': 1,\n",
       "         'Dominica': 1,\n",
       "         'Dominican Republic': 1,\n",
       "         'Ecuador': 1,\n",
       "         'Egypt': 1,\n",
       "         'El Salvador': 1,\n",
       "         'Equatorial Guinea': 1,\n",
       "         'Eritrea': 1,\n",
       "         'Estonia': 1,\n",
       "         'Eswatini': 1,\n",
       "         'Ethiopia': 1,\n",
       "         'Fiji': 1,\n",
       "         'Finland': 1,\n",
       "         'France': 12,\n",
       "         'Gabon': 1,\n",
       "         'Gambia': 1,\n",
       "         'Georgia': 1,\n",
       "         'Germany': 1,\n",
       "         'Ghana': 1,\n",
       "         'Greece': 1,\n",
       "         'Grenada': 1,\n",
       "         'Guatemala': 1,\n",
       "         'Guinea': 1,\n",
       "         'Guinea-Bissau': 1,\n",
       "         'Guyana': 1,\n",
       "         'Haiti': 1,\n",
       "         'Holy See': 1,\n",
       "         'Honduras': 1,\n",
       "         'Hungary': 1,\n",
       "         'Iceland': 1,\n",
       "         'India': 1,\n",
       "         'Indonesia': 1,\n",
       "         'Iran': 1,\n",
       "         'Iraq': 1,\n",
       "         'Ireland': 1,\n",
       "         'Israel': 1,\n",
       "         'Italy': 1,\n",
       "         'Jamaica': 1,\n",
       "         'Japan': 1,\n",
       "         'Jordan': 1,\n",
       "         'Kazakhstan': 1,\n",
       "         'Kenya': 1,\n",
       "         'Kiribati': 1,\n",
       "         'Korea, North': 1,\n",
       "         'Korea, South': 1,\n",
       "         'Kosovo': 1,\n",
       "         'Kuwait': 1,\n",
       "         'Kyrgyzstan': 1,\n",
       "         'Laos': 1,\n",
       "         'Latvia': 1,\n",
       "         'Lebanon': 1,\n",
       "         'Lesotho': 1,\n",
       "         'Liberia': 1,\n",
       "         'Libya': 1,\n",
       "         'Liechtenstein': 1,\n",
       "         'Lithuania': 1,\n",
       "         'Luxembourg': 1,\n",
       "         'MS Zaandam': 1,\n",
       "         'Madagascar': 1,\n",
       "         'Malawi': 1,\n",
       "         'Malaysia': 1,\n",
       "         'Maldives': 1,\n",
       "         'Mali': 1,\n",
       "         'Malta': 1,\n",
       "         'Marshall Islands': 1,\n",
       "         'Mauritania': 1,\n",
       "         'Mauritius': 1,\n",
       "         'Mexico': 1,\n",
       "         'Micronesia': 1,\n",
       "         'Moldova': 1,\n",
       "         'Monaco': 1,\n",
       "         'Mongolia': 1,\n",
       "         'Montenegro': 1,\n",
       "         'Morocco': 1,\n",
       "         'Mozambique': 1,\n",
       "         'Namibia': 1,\n",
       "         'Nauru': 1,\n",
       "         'Nepal': 1,\n",
       "         'Netherlands': 5,\n",
       "         'New Zealand': 3,\n",
       "         'Nicaragua': 1,\n",
       "         'Niger': 1,\n",
       "         'Nigeria': 1,\n",
       "         'North Macedonia': 1,\n",
       "         'Norway': 1,\n",
       "         'Oman': 1,\n",
       "         'Pakistan': 1,\n",
       "         'Palau': 1,\n",
       "         'Panama': 1,\n",
       "         'Papua New Guinea': 1,\n",
       "         'Paraguay': 1,\n",
       "         'Peru': 1,\n",
       "         'Philippines': 1,\n",
       "         'Poland': 1,\n",
       "         'Portugal': 1,\n",
       "         'Qatar': 1,\n",
       "         'Romania': 1,\n",
       "         'Russia': 1,\n",
       "         'Rwanda': 1,\n",
       "         'Saint Kitts and Nevis': 1,\n",
       "         'Saint Lucia': 1,\n",
       "         'Saint Vincent and the Grenadines': 1,\n",
       "         'Samoa': 1,\n",
       "         'San Marino': 1,\n",
       "         'Sao Tome and Principe': 1,\n",
       "         'Saudi Arabia': 1,\n",
       "         'Senegal': 1,\n",
       "         'Serbia': 1,\n",
       "         'Seychelles': 1,\n",
       "         'Sierra Leone': 1,\n",
       "         'Singapore': 1,\n",
       "         'Slovakia': 1,\n",
       "         'Slovenia': 1,\n",
       "         'Solomon Islands': 1,\n",
       "         'Somalia': 1,\n",
       "         'South Africa': 1,\n",
       "         'South Sudan': 1,\n",
       "         'Spain': 1,\n",
       "         'Sri Lanka': 1,\n",
       "         'Sudan': 1,\n",
       "         'Summer Olympics 2020': 1,\n",
       "         'Suriname': 1,\n",
       "         'Sweden': 1,\n",
       "         'Switzerland': 1,\n",
       "         'Syria': 1,\n",
       "         'Taiwan*': 1,\n",
       "         'Tajikistan': 1,\n",
       "         'Tanzania': 1,\n",
       "         'Thailand': 1,\n",
       "         'Timor-Leste': 1,\n",
       "         'Togo': 1,\n",
       "         'Tonga': 1,\n",
       "         'Trinidad and Tobago': 1,\n",
       "         'Tunisia': 1,\n",
       "         'Turkey': 1,\n",
       "         'Tuvalu': 1,\n",
       "         'US': 1,\n",
       "         'Uganda': 1,\n",
       "         'Ukraine': 1,\n",
       "         'United Arab Emirates': 1,\n",
       "         'United Kingdom': 15,\n",
       "         'Uruguay': 1,\n",
       "         'Uzbekistan': 1,\n",
       "         'Vanuatu': 1,\n",
       "         'Venezuela': 1,\n",
       "         'Vietnam': 1,\n",
       "         'West Bank and Gaza': 1,\n",
       "         'Winter Olympics 2022': 1,\n",
       "         'Yemen': 1,\n",
       "         'Zambia': 1,\n",
       "         'Zimbabwe': 1})"
      ]
     },
     "execution_count": 80,
     "metadata": {},
     "output_type": "execute_result"
    }
   ],
   "source": [
    "from collections import Counter\n",
    "\n",
    "Counter(final_country_list)"
   ]
  },
  {
   "cell_type": "code",
   "execution_count": 81,
   "id": "fb258970-845b-4a53-ae5f-50c2c8f10e03",
   "metadata": {},
   "outputs": [
    {
     "data": {
      "text/plain": [
       "289"
      ]
     },
     "execution_count": 81,
     "metadata": {},
     "output_type": "execute_result"
    }
   ],
   "source": [
    "len(final_country_list)"
   ]
  },
  {
   "cell_type": "code",
   "execution_count": 82,
   "id": "16da6195-2b7c-428c-99e5-e5213c8cb067",
   "metadata": {},
   "outputs": [],
   "source": [
    "world['Country'] = final_country_list # Replacing the country names in the world dataframe after removing '.' and '()'"
   ]
  },
  {
   "cell_type": "code",
   "execution_count": 83,
   "id": "1728ed8a-df26-4441-9d46-0d9f2067be1b",
   "metadata": {
    "tags": []
   },
   "outputs": [
    {
     "data": {
      "text/html": [
       "<div>\n",
       "<style scoped>\n",
       "    .dataframe tbody tr th:only-of-type {\n",
       "        vertical-align: middle;\n",
       "    }\n",
       "\n",
       "    .dataframe tbody tr th {\n",
       "        vertical-align: top;\n",
       "    }\n",
       "\n",
       "    .dataframe thead th {\n",
       "        text-align: right;\n",
       "    }\n",
       "</style>\n",
       "<table border=\"1\" class=\"dataframe\">\n",
       "  <thead>\n",
       "    <tr style=\"text-align: right;\">\n",
       "      <th></th>\n",
       "      <th>Country</th>\n",
       "      <th>Cases</th>\n",
       "    </tr>\n",
       "  </thead>\n",
       "  <tbody>\n",
       "    <tr>\n",
       "      <th>0</th>\n",
       "      <td>Afghanistan</td>\n",
       "      <td>209451.0</td>\n",
       "    </tr>\n",
       "    <tr>\n",
       "      <th>1</th>\n",
       "      <td>Albania</td>\n",
       "      <td>334457.0</td>\n",
       "    </tr>\n",
       "    <tr>\n",
       "      <th>2</th>\n",
       "      <td>Algeria</td>\n",
       "      <td>271496.0</td>\n",
       "    </tr>\n",
       "    <tr>\n",
       "      <th>3</th>\n",
       "      <td>Andorra</td>\n",
       "      <td>47890.0</td>\n",
       "    </tr>\n",
       "    <tr>\n",
       "      <th>4</th>\n",
       "      <td>Angola</td>\n",
       "      <td>105288.0</td>\n",
       "    </tr>\n",
       "  </tbody>\n",
       "</table>\n",
       "</div>"
      ],
      "text/plain": [
       "       Country     Cases\n",
       "0  Afghanistan  209451.0\n",
       "1      Albania  334457.0\n",
       "2      Algeria  271496.0\n",
       "3      Andorra   47890.0\n",
       "4       Angola  105288.0"
      ]
     },
     "execution_count": 83,
     "metadata": {},
     "output_type": "execute_result"
    }
   ],
   "source": [
    "world = world.groupby(\"Country\")[\"Cases\"].sum().reset_index() # To group the data based on Country names.\n",
    "world.head()"
   ]
  },
  {
   "cell_type": "code",
   "execution_count": 84,
   "id": "85d7859c-cf06-41ea-b7ab-4dc2e15ef0df",
   "metadata": {},
   "outputs": [
    {
     "data": {
      "text/html": [
       "<div>\n",
       "<style scoped>\n",
       "    .dataframe tbody tr th:only-of-type {\n",
       "        vertical-align: middle;\n",
       "    }\n",
       "\n",
       "    .dataframe tbody tr th {\n",
       "        vertical-align: top;\n",
       "    }\n",
       "\n",
       "    .dataframe thead th {\n",
       "        text-align: right;\n",
       "    }\n",
       "</style>\n",
       "<table border=\"1\" class=\"dataframe\">\n",
       "  <thead>\n",
       "    <tr style=\"text-align: right;\">\n",
       "      <th></th>\n",
       "      <th>name</th>\n",
       "      <th>alpha-2</th>\n",
       "      <th>alpha-3</th>\n",
       "      <th>country-code</th>\n",
       "      <th>iso_3166-2</th>\n",
       "      <th>region</th>\n",
       "      <th>sub-region</th>\n",
       "      <th>intermediate-region</th>\n",
       "      <th>region-code</th>\n",
       "      <th>sub-region-code</th>\n",
       "      <th>intermediate-region-code</th>\n",
       "    </tr>\n",
       "  </thead>\n",
       "  <tbody>\n",
       "    <tr>\n",
       "      <th>0</th>\n",
       "      <td>Afghanistan</td>\n",
       "      <td>AF</td>\n",
       "      <td>AFG</td>\n",
       "      <td>4</td>\n",
       "      <td>ISO 3166-2:AF</td>\n",
       "      <td>Asia</td>\n",
       "      <td>Southern Asia</td>\n",
       "      <td>NaN</td>\n",
       "      <td>142.0</td>\n",
       "      <td>34.0</td>\n",
       "      <td>NaN</td>\n",
       "    </tr>\n",
       "    <tr>\n",
       "      <th>1</th>\n",
       "      <td>Åland Islands</td>\n",
       "      <td>AX</td>\n",
       "      <td>ALA</td>\n",
       "      <td>248</td>\n",
       "      <td>ISO 3166-2:AX</td>\n",
       "      <td>Europe</td>\n",
       "      <td>Northern Europe</td>\n",
       "      <td>NaN</td>\n",
       "      <td>150.0</td>\n",
       "      <td>154.0</td>\n",
       "      <td>NaN</td>\n",
       "    </tr>\n",
       "    <tr>\n",
       "      <th>2</th>\n",
       "      <td>Albania</td>\n",
       "      <td>AL</td>\n",
       "      <td>ALB</td>\n",
       "      <td>8</td>\n",
       "      <td>ISO 3166-2:AL</td>\n",
       "      <td>Europe</td>\n",
       "      <td>Southern Europe</td>\n",
       "      <td>NaN</td>\n",
       "      <td>150.0</td>\n",
       "      <td>39.0</td>\n",
       "      <td>NaN</td>\n",
       "    </tr>\n",
       "    <tr>\n",
       "      <th>3</th>\n",
       "      <td>Algeria</td>\n",
       "      <td>DZ</td>\n",
       "      <td>DZA</td>\n",
       "      <td>12</td>\n",
       "      <td>ISO 3166-2:DZ</td>\n",
       "      <td>Africa</td>\n",
       "      <td>Northern Africa</td>\n",
       "      <td>NaN</td>\n",
       "      <td>2.0</td>\n",
       "      <td>15.0</td>\n",
       "      <td>NaN</td>\n",
       "    </tr>\n",
       "    <tr>\n",
       "      <th>4</th>\n",
       "      <td>American Samoa</td>\n",
       "      <td>AS</td>\n",
       "      <td>ASM</td>\n",
       "      <td>16</td>\n",
       "      <td>ISO 3166-2:AS</td>\n",
       "      <td>Oceania</td>\n",
       "      <td>Polynesia</td>\n",
       "      <td>NaN</td>\n",
       "      <td>9.0</td>\n",
       "      <td>61.0</td>\n",
       "      <td>NaN</td>\n",
       "    </tr>\n",
       "  </tbody>\n",
       "</table>\n",
       "</div>"
      ],
      "text/plain": [
       "             name alpha-2 alpha-3  country-code     iso_3166-2   region  \\\n",
       "0     Afghanistan      AF     AFG             4  ISO 3166-2:AF     Asia   \n",
       "1   Åland Islands      AX     ALA           248  ISO 3166-2:AX   Europe   \n",
       "2         Albania      AL     ALB             8  ISO 3166-2:AL   Europe   \n",
       "3         Algeria      DZ     DZA            12  ISO 3166-2:DZ   Africa   \n",
       "4  American Samoa      AS     ASM            16  ISO 3166-2:AS  Oceania   \n",
       "\n",
       "        sub-region intermediate-region  region-code  sub-region-code  \\\n",
       "0    Southern Asia                 NaN        142.0             34.0   \n",
       "1  Northern Europe                 NaN        150.0            154.0   \n",
       "2  Southern Europe                 NaN        150.0             39.0   \n",
       "3  Northern Africa                 NaN          2.0             15.0   \n",
       "4        Polynesia                 NaN          9.0             61.0   \n",
       "\n",
       "   intermediate-region-code  \n",
       "0                       NaN  \n",
       "1                       NaN  \n",
       "2                       NaN  \n",
       "3                       NaN  \n",
       "4                       NaN  "
      ]
     },
     "execution_count": 84,
     "metadata": {},
     "output_type": "execute_result"
    }
   ],
   "source": [
    "continent = pd.read_csv(\"continents2.csv\")\n",
    "continent.head()"
   ]
  },
  {
   "cell_type": "code",
   "execution_count": 85,
   "id": "094ed35b-f179-4010-b3f1-9016b033af97",
   "metadata": {},
   "outputs": [
    {
     "data": {
      "text/html": [
       "<div>\n",
       "<style scoped>\n",
       "    .dataframe tbody tr th:only-of-type {\n",
       "        vertical-align: middle;\n",
       "    }\n",
       "\n",
       "    .dataframe tbody tr th {\n",
       "        vertical-align: top;\n",
       "    }\n",
       "\n",
       "    .dataframe thead th {\n",
       "        text-align: right;\n",
       "    }\n",
       "</style>\n",
       "<table border=\"1\" class=\"dataframe\">\n",
       "  <thead>\n",
       "    <tr style=\"text-align: right;\">\n",
       "      <th></th>\n",
       "      <th>Country</th>\n",
       "      <th>Cases</th>\n",
       "    </tr>\n",
       "  </thead>\n",
       "  <tbody>\n",
       "    <tr>\n",
       "      <th>0</th>\n",
       "      <td>Afghanistan</td>\n",
       "      <td>209451.0</td>\n",
       "    </tr>\n",
       "    <tr>\n",
       "      <th>1</th>\n",
       "      <td>Albania</td>\n",
       "      <td>334457.0</td>\n",
       "    </tr>\n",
       "    <tr>\n",
       "      <th>2</th>\n",
       "      <td>Algeria</td>\n",
       "      <td>271496.0</td>\n",
       "    </tr>\n",
       "    <tr>\n",
       "      <th>3</th>\n",
       "      <td>Andorra</td>\n",
       "      <td>47890.0</td>\n",
       "    </tr>\n",
       "    <tr>\n",
       "      <th>4</th>\n",
       "      <td>Angola</td>\n",
       "      <td>105288.0</td>\n",
       "    </tr>\n",
       "  </tbody>\n",
       "</table>\n",
       "</div>"
      ],
      "text/plain": [
       "       Country     Cases\n",
       "0  Afghanistan  209451.0\n",
       "1      Albania  334457.0\n",
       "2      Algeria  271496.0\n",
       "3      Andorra   47890.0\n",
       "4       Angola  105288.0"
      ]
     },
     "execution_count": 85,
     "metadata": {},
     "output_type": "execute_result"
    }
   ],
   "source": [
    "world.head()"
   ]
  },
  {
   "cell_type": "code",
   "execution_count": 87,
   "id": "46f52763-e50c-40c7-a47d-bbdf364cd72b",
   "metadata": {},
   "outputs": [],
   "source": [
    "continent['name'] = continent['name'].str.upper()  "
   ]
  },
  {
   "cell_type": "markdown",
   "id": "69729a37-33a0-47e7-b770-af5186bb6236",
   "metadata": {},
   "source": [
    "# Data Visualization:"
   ]
  },
  {
   "cell_type": "markdown",
   "id": "a46cdfc6-ae9d-4188-944b-6e799e091bfc",
   "metadata": {},
   "source": [
    "### Worldwide spread of COVID-19\n",
    "\n",
    "To visualize world wide spread of Covid-19 cases, it is necessary to group the data based on cases range. pd.cut() is a Pandas function used to bin continuous numerical data into discrete categories (bins). "
   ]
  },
  {
   "cell_type": "code",
   "execution_count": 88,
   "id": "c3a4445b-be8d-425f-b3f5-6feab5e81e28",
   "metadata": {},
   "outputs": [],
   "source": [
    "world['Cases Range'] = pd.cut(world['Cases'], [-150000, 50000, 200000, 800000, 1500000, 15000000], labels = [\"Upto 50K\", '50K to 200K', '200K to 800K', '800K to 1.5M','15M+' ])"
   ]
  },
  {
   "cell_type": "code",
   "execution_count": 89,
   "id": "55dde36b-74fd-44e5-94b8-895af0e064bd",
   "metadata": {},
   "outputs": [
    {
     "data": {
      "text/html": [
       "<div>\n",
       "<style scoped>\n",
       "    .dataframe tbody tr th:only-of-type {\n",
       "        vertical-align: middle;\n",
       "    }\n",
       "\n",
       "    .dataframe tbody tr th {\n",
       "        vertical-align: top;\n",
       "    }\n",
       "\n",
       "    .dataframe thead th {\n",
       "        text-align: right;\n",
       "    }\n",
       "</style>\n",
       "<table border=\"1\" class=\"dataframe\">\n",
       "  <thead>\n",
       "    <tr style=\"text-align: right;\">\n",
       "      <th></th>\n",
       "      <th>Country</th>\n",
       "      <th>Cases</th>\n",
       "      <th>Cases Range</th>\n",
       "    </tr>\n",
       "  </thead>\n",
       "  <tbody>\n",
       "    <tr>\n",
       "      <th>0</th>\n",
       "      <td>Afghanistan</td>\n",
       "      <td>209451.0</td>\n",
       "      <td>200K to 800K</td>\n",
       "    </tr>\n",
       "    <tr>\n",
       "      <th>1</th>\n",
       "      <td>Albania</td>\n",
       "      <td>334457.0</td>\n",
       "      <td>200K to 800K</td>\n",
       "    </tr>\n",
       "    <tr>\n",
       "      <th>2</th>\n",
       "      <td>Algeria</td>\n",
       "      <td>271496.0</td>\n",
       "      <td>200K to 800K</td>\n",
       "    </tr>\n",
       "    <tr>\n",
       "      <th>3</th>\n",
       "      <td>Andorra</td>\n",
       "      <td>47890.0</td>\n",
       "      <td>Upto 50K</td>\n",
       "    </tr>\n",
       "    <tr>\n",
       "      <th>4</th>\n",
       "      <td>Angola</td>\n",
       "      <td>105288.0</td>\n",
       "      <td>50K to 200K</td>\n",
       "    </tr>\n",
       "  </tbody>\n",
       "</table>\n",
       "</div>"
      ],
      "text/plain": [
       "       Country     Cases   Cases Range\n",
       "0  Afghanistan  209451.0  200K to 800K\n",
       "1      Albania  334457.0  200K to 800K\n",
       "2      Algeria  271496.0  200K to 800K\n",
       "3      Andorra   47890.0      Upto 50K\n",
       "4       Angola  105288.0   50K to 200K"
      ]
     },
     "execution_count": 89,
     "metadata": {},
     "output_type": "execute_result"
    }
   ],
   "source": [
    "world.head()"
   ]
  },
  {
   "cell_type": "markdown",
   "id": "81f46686-b622-4f3e-bbe5-f04364b20077",
   "metadata": {},
   "source": [
    "To visualize geographically using Ploty.express, the locations typically require abbreviated country names or specific codes that are recognized by plotly. Therefore, we can use the \"Alpha3\" column of Continent dataframe as the locations parameter for the choropleth map. \n",
    "\n",
    "Before mapping, we need to check if the country names in the two dataframes, 'world' and 'continent' matches. "
   ]
  },
  {
   "cell_type": "code",
   "execution_count": 90,
   "id": "4fd62efa-bddf-433b-afcd-a8ccacad665e",
   "metadata": {},
   "outputs": [],
   "source": [
    "alpha = []\n",
    "for i in world[\"Country\"].str.upper().values:\n",
    "    if i == \"BRUNEI\":\n",
    "        i=\"BRUNEI DARUSSALAM\"\n",
    "    elif  i==\"US\":\n",
    "        i=\"UNITED STATES\" \n",
    "    if len(continent[continent[\"name\"]==i][\"alpha-3\"].values)==0:\n",
    "        alpha.append(np.nan)\n",
    "    else:\n",
    "        alpha.append(continent[continent[\"name\"]==i][\"alpha-3\"].values[0])\n",
    "world[\"Alpha3\"]=alpha"
   ]
  },
  {
   "cell_type": "code",
   "execution_count": 91,
   "id": "4054f007-54bb-4626-b86b-91752512d053",
   "metadata": {},
   "outputs": [
    {
     "data": {
      "text/html": [
       "<div>\n",
       "<style scoped>\n",
       "    .dataframe tbody tr th:only-of-type {\n",
       "        vertical-align: middle;\n",
       "    }\n",
       "\n",
       "    .dataframe tbody tr th {\n",
       "        vertical-align: top;\n",
       "    }\n",
       "\n",
       "    .dataframe thead th {\n",
       "        text-align: right;\n",
       "    }\n",
       "</style>\n",
       "<table border=\"1\" class=\"dataframe\">\n",
       "  <thead>\n",
       "    <tr style=\"text-align: right;\">\n",
       "      <th></th>\n",
       "      <th>Country</th>\n",
       "      <th>Cases</th>\n",
       "      <th>Cases Range</th>\n",
       "      <th>Alpha3</th>\n",
       "    </tr>\n",
       "  </thead>\n",
       "  <tbody>\n",
       "    <tr>\n",
       "      <th>0</th>\n",
       "      <td>Afghanistan</td>\n",
       "      <td>209451.0</td>\n",
       "      <td>200K to 800K</td>\n",
       "      <td>AFG</td>\n",
       "    </tr>\n",
       "    <tr>\n",
       "      <th>1</th>\n",
       "      <td>Albania</td>\n",
       "      <td>334457.0</td>\n",
       "      <td>200K to 800K</td>\n",
       "      <td>ALB</td>\n",
       "    </tr>\n",
       "    <tr>\n",
       "      <th>2</th>\n",
       "      <td>Algeria</td>\n",
       "      <td>271496.0</td>\n",
       "      <td>200K to 800K</td>\n",
       "      <td>DZA</td>\n",
       "    </tr>\n",
       "    <tr>\n",
       "      <th>3</th>\n",
       "      <td>Andorra</td>\n",
       "      <td>47890.0</td>\n",
       "      <td>Upto 50K</td>\n",
       "      <td>AND</td>\n",
       "    </tr>\n",
       "    <tr>\n",
       "      <th>4</th>\n",
       "      <td>Angola</td>\n",
       "      <td>105288.0</td>\n",
       "      <td>50K to 200K</td>\n",
       "      <td>AGO</td>\n",
       "    </tr>\n",
       "  </tbody>\n",
       "</table>\n",
       "</div>"
      ],
      "text/plain": [
       "       Country     Cases   Cases Range Alpha3\n",
       "0  Afghanistan  209451.0  200K to 800K    AFG\n",
       "1      Albania  334457.0  200K to 800K    ALB\n",
       "2      Algeria  271496.0  200K to 800K    DZA\n",
       "3      Andorra   47890.0      Upto 50K    AND\n",
       "4       Angola  105288.0   50K to 200K    AGO"
      ]
     },
     "execution_count": 91,
     "metadata": {},
     "output_type": "execute_result"
    }
   ],
   "source": [
    "world.head()"
   ]
  },
  {
   "cell_type": "code",
   "execution_count": 94,
   "id": "fd8a4aab-01ae-4d45-a5f4-71ddd910b661",
   "metadata": {},
   "outputs": [
    {
     "data": {
      "application/vnd.plotly.v1+json": {
       "config": {
        "plotlyServerURL": "https://plot.ly"
       },
       "data": [
        {
         "colorscale": [
          [
           0,
           "rgb(150,0,90)"
          ],
          [
           1,
           "rgb(150,0,90)"
          ]
         ],
         "geo": "geo",
         "hovertemplate": "Cases Range=200K to 800K<br>Alpha3=%{location}<extra></extra>",
         "locations": [
          "AFG",
          "ALB",
          "DZA",
          "ARM",
          "BHR",
          "BIH",
          "BWA",
          "BRN",
          "CYP",
          "DOM",
          "EGY",
          "SLV",
          "EST",
          "ETH",
          "HND",
          "ISL",
          "KEN",
          "KWT",
          "KGZ",
          "LAO",
          "LBY",
          "LUX",
          "MUS",
          "MDA",
          "MNE",
          "MOZ",
          "NGA",
          "OMN",
          "QAT",
          "LKA",
          "UZB",
          "VEN",
          "ZMB",
          "ZWE"
         ],
         "name": "200K to 800K",
         "showlegend": true,
         "showscale": false,
         "type": "choropleth",
         "z": [
          1,
          1,
          1,
          1,
          1,
          1,
          1,
          1,
          1,
          1,
          1,
          1,
          1,
          1,
          1,
          1,
          1,
          1,
          1,
          1,
          1,
          1,
          1,
          1,
          1,
          1,
          1,
          1,
          1,
          1,
          1,
          1,
          1,
          1
         ]
        },
        {
         "colorscale": [
          [
           0,
           "rgb(0,0,200)"
          ],
          [
           1,
           "rgb(0,0,200)"
          ]
         ],
         "geo": "geo",
         "hovertemplate": "Cases Range=Upto 50K<br>Alpha3=%{location}<extra></extra>",
         "locations": [
          "AND",
          "ATA",
          "ATG",
          "BHS",
          "BEN",
          "BFA",
          "CAF",
          "TCD",
          "COM",
          "DJI",
          "DMA",
          "GNQ",
          "ERI",
          "GAB",
          "GMB",
          "GRD",
          "GIN",
          "HTI",
          "VAT",
          "KIR",
          "LSO",
          "LBR",
          "LIE",
          "MLI",
          "MHL",
          "MCO",
          "NRU",
          "NIC",
          "NER",
          "PLW",
          "PNG",
          "KNA",
          "LCA",
          "VCT",
          "WSM",
          "SMR",
          "STP",
          "SLE",
          "SLB",
          "SOM",
          "SSD",
          "TJK",
          "TZA",
          "TLS",
          "TGO",
          "TON",
          "TUV",
          "VUT",
          "YEM"
         ],
         "name": "Upto 50K",
         "showlegend": true,
         "showscale": false,
         "type": "choropleth",
         "z": [
          1,
          1,
          1,
          1,
          1,
          1,
          1,
          1,
          1,
          1,
          1,
          1,
          1,
          1,
          1,
          1,
          1,
          1,
          1,
          1,
          1,
          1,
          1,
          1,
          1,
          1,
          1,
          1,
          1,
          1,
          1,
          1,
          1,
          1,
          1,
          1,
          1,
          1,
          1,
          1,
          1,
          1,
          1,
          1,
          1,
          1,
          1,
          1,
          1
         ]
        },
        {
         "colorscale": [
          [
           0,
           "rgb(0,25,255)"
          ],
          [
           1,
           "rgb(0,25,255)"
          ]
         ],
         "geo": "geo",
         "hovertemplate": "Cases Range=50K to 200K<br>Alpha3=%{location}<extra></extra>",
         "locations": [
          "AGO",
          "BRB",
          "BLZ",
          "BTN",
          "BDI",
          "CPV",
          "KHM",
          "CMR",
          "SWZ",
          "FJI",
          "GHA",
          "GUY",
          "JAM",
          "MDG",
          "MWI",
          "MDV",
          "MLT",
          "MRT",
          "NAM",
          "RWA",
          "SEN",
          "SYC",
          "SDN",
          "SUR",
          "SYR",
          "TTO",
          "UGA"
         ],
         "name": "50K to 200K",
         "showlegend": true,
         "showscale": false,
         "type": "choropleth",
         "z": [
          1,
          1,
          1,
          1,
          1,
          1,
          1,
          1,
          1,
          1,
          1,
          1,
          1,
          1,
          1,
          1,
          1,
          1,
          1,
          1,
          1,
          1,
          1,
          1,
          1,
          1,
          1
         ]
        },
        {
         "colorscale": [
          [
           0,
           "rgb(0,152,255)"
          ],
          [
           1,
           "rgb(0,152,255)"
          ]
         ],
         "geo": "geo",
         "hovertemplate": "Cases Range=15M+<br>Alpha3=%{location}<extra></extra>",
         "locations": [
          "ARG",
          "AUS",
          "AUT",
          "BGD",
          "BEL",
          "CAN",
          "CHL",
          "CHN",
          "COL",
          "DNK",
          "GEO",
          "GRC",
          "HUN",
          "IDN",
          "IRN",
          "IRQ",
          "IRL",
          "ISR",
          "JOR",
          "MYS",
          "MEX",
          "NLD",
          "NZL",
          "PAK",
          "PER",
          "PHL",
          "POL",
          "PRT",
          "ROU",
          "SRB",
          "SGP",
          "SVK",
          "ZAF",
          "ESP",
          "SWE",
          "CHE",
          "THA",
          "UKR",
          "VNM"
         ],
         "name": "15M+",
         "showlegend": true,
         "showscale": false,
         "type": "choropleth",
         "z": [
          1,
          1,
          1,
          1,
          1,
          1,
          1,
          1,
          1,
          1,
          1,
          1,
          1,
          1,
          1,
          1,
          1,
          1,
          1,
          1,
          1,
          1,
          1,
          1,
          1,
          1,
          1,
          1,
          1,
          1,
          1,
          1,
          1,
          1,
          1,
          1,
          1,
          1,
          1
         ]
        },
        {
         "colorscale": [
          [
           0,
           "rgb(44,255,150)"
          ],
          [
           1,
           "rgb(44,255,150)"
          ]
         ],
         "geo": "geo",
         "hovertemplate": "Cases Range=800K to 1.5M<br>Alpha3=%{location}<extra></extra>",
         "locations": [
          "AZE",
          "BLR",
          "BOL",
          "BGR",
          "CRI",
          "HRV",
          "CUB",
          "ECU",
          "FIN",
          "GTM",
          "KAZ",
          "LVA",
          "LBN",
          "LTU",
          "MNG",
          "MAR",
          "NPL",
          "NOR",
          "PAN",
          "PRY",
          "SAU",
          "SVN",
          "TUN",
          "ARE",
          "URY"
         ],
         "name": "800K to 1.5M",
         "showlegend": true,
         "showscale": false,
         "type": "choropleth",
         "z": [
          1,
          1,
          1,
          1,
          1,
          1,
          1,
          1,
          1,
          1,
          1,
          1,
          1,
          1,
          1,
          1,
          1,
          1,
          1,
          1,
          1,
          1,
          1,
          1,
          1
         ]
        }
       ],
       "layout": {
        "autosize": true,
        "geo": {
         "center": {},
         "domain": {
          "x": [
           0,
           1
          ],
          "y": [
           0,
           1
          ]
         },
         "fitbounds": "locations",
         "projection": {
          "type": "mercator"
         },
         "visible": false
        },
        "legend": {
         "title": {
          "text": "Cases Range"
         },
         "tracegroupgap": 0
        },
        "margin": {
         "b": 0,
         "l": 0,
         "r": 0,
         "t": 0
        },
        "template": {
         "data": {
          "bar": [
           {
            "error_x": {
             "color": "#f2f5fa"
            },
            "error_y": {
             "color": "#f2f5fa"
            },
            "marker": {
             "line": {
              "color": "rgb(17,17,17)",
              "width": 0.5
             },
             "pattern": {
              "fillmode": "overlay",
              "size": 10,
              "solidity": 0.2
             }
            },
            "type": "bar"
           }
          ],
          "barpolar": [
           {
            "marker": {
             "line": {
              "color": "rgb(17,17,17)",
              "width": 0.5
             },
             "pattern": {
              "fillmode": "overlay",
              "size": 10,
              "solidity": 0.2
             }
            },
            "type": "barpolar"
           }
          ],
          "carpet": [
           {
            "aaxis": {
             "endlinecolor": "#A2B1C6",
             "gridcolor": "#506784",
             "linecolor": "#506784",
             "minorgridcolor": "#506784",
             "startlinecolor": "#A2B1C6"
            },
            "baxis": {
             "endlinecolor": "#A2B1C6",
             "gridcolor": "#506784",
             "linecolor": "#506784",
             "minorgridcolor": "#506784",
             "startlinecolor": "#A2B1C6"
            },
            "type": "carpet"
           }
          ],
          "choropleth": [
           {
            "colorbar": {
             "outlinewidth": 0,
             "ticks": ""
            },
            "type": "choropleth"
           }
          ],
          "contour": [
           {
            "colorbar": {
             "outlinewidth": 0,
             "ticks": ""
            },
            "colorscale": [
             [
              0,
              "#0d0887"
             ],
             [
              0.1111111111111111,
              "#46039f"
             ],
             [
              0.2222222222222222,
              "#7201a8"
             ],
             [
              0.3333333333333333,
              "#9c179e"
             ],
             [
              0.4444444444444444,
              "#bd3786"
             ],
             [
              0.5555555555555556,
              "#d8576b"
             ],
             [
              0.6666666666666666,
              "#ed7953"
             ],
             [
              0.7777777777777778,
              "#fb9f3a"
             ],
             [
              0.8888888888888888,
              "#fdca26"
             ],
             [
              1,
              "#f0f921"
             ]
            ],
            "type": "contour"
           }
          ],
          "contourcarpet": [
           {
            "colorbar": {
             "outlinewidth": 0,
             "ticks": ""
            },
            "type": "contourcarpet"
           }
          ],
          "heatmap": [
           {
            "colorbar": {
             "outlinewidth": 0,
             "ticks": ""
            },
            "colorscale": [
             [
              0,
              "#0d0887"
             ],
             [
              0.1111111111111111,
              "#46039f"
             ],
             [
              0.2222222222222222,
              "#7201a8"
             ],
             [
              0.3333333333333333,
              "#9c179e"
             ],
             [
              0.4444444444444444,
              "#bd3786"
             ],
             [
              0.5555555555555556,
              "#d8576b"
             ],
             [
              0.6666666666666666,
              "#ed7953"
             ],
             [
              0.7777777777777778,
              "#fb9f3a"
             ],
             [
              0.8888888888888888,
              "#fdca26"
             ],
             [
              1,
              "#f0f921"
             ]
            ],
            "type": "heatmap"
           }
          ],
          "heatmapgl": [
           {
            "colorbar": {
             "outlinewidth": 0,
             "ticks": ""
            },
            "colorscale": [
             [
              0,
              "#0d0887"
             ],
             [
              0.1111111111111111,
              "#46039f"
             ],
             [
              0.2222222222222222,
              "#7201a8"
             ],
             [
              0.3333333333333333,
              "#9c179e"
             ],
             [
              0.4444444444444444,
              "#bd3786"
             ],
             [
              0.5555555555555556,
              "#d8576b"
             ],
             [
              0.6666666666666666,
              "#ed7953"
             ],
             [
              0.7777777777777778,
              "#fb9f3a"
             ],
             [
              0.8888888888888888,
              "#fdca26"
             ],
             [
              1,
              "#f0f921"
             ]
            ],
            "type": "heatmapgl"
           }
          ],
          "histogram": [
           {
            "marker": {
             "pattern": {
              "fillmode": "overlay",
              "size": 10,
              "solidity": 0.2
             }
            },
            "type": "histogram"
           }
          ],
          "histogram2d": [
           {
            "colorbar": {
             "outlinewidth": 0,
             "ticks": ""
            },
            "colorscale": [
             [
              0,
              "#0d0887"
             ],
             [
              0.1111111111111111,
              "#46039f"
             ],
             [
              0.2222222222222222,
              "#7201a8"
             ],
             [
              0.3333333333333333,
              "#9c179e"
             ],
             [
              0.4444444444444444,
              "#bd3786"
             ],
             [
              0.5555555555555556,
              "#d8576b"
             ],
             [
              0.6666666666666666,
              "#ed7953"
             ],
             [
              0.7777777777777778,
              "#fb9f3a"
             ],
             [
              0.8888888888888888,
              "#fdca26"
             ],
             [
              1,
              "#f0f921"
             ]
            ],
            "type": "histogram2d"
           }
          ],
          "histogram2dcontour": [
           {
            "colorbar": {
             "outlinewidth": 0,
             "ticks": ""
            },
            "colorscale": [
             [
              0,
              "#0d0887"
             ],
             [
              0.1111111111111111,
              "#46039f"
             ],
             [
              0.2222222222222222,
              "#7201a8"
             ],
             [
              0.3333333333333333,
              "#9c179e"
             ],
             [
              0.4444444444444444,
              "#bd3786"
             ],
             [
              0.5555555555555556,
              "#d8576b"
             ],
             [
              0.6666666666666666,
              "#ed7953"
             ],
             [
              0.7777777777777778,
              "#fb9f3a"
             ],
             [
              0.8888888888888888,
              "#fdca26"
             ],
             [
              1,
              "#f0f921"
             ]
            ],
            "type": "histogram2dcontour"
           }
          ],
          "mesh3d": [
           {
            "colorbar": {
             "outlinewidth": 0,
             "ticks": ""
            },
            "type": "mesh3d"
           }
          ],
          "parcoords": [
           {
            "line": {
             "colorbar": {
              "outlinewidth": 0,
              "ticks": ""
             }
            },
            "type": "parcoords"
           }
          ],
          "pie": [
           {
            "automargin": true,
            "type": "pie"
           }
          ],
          "scatter": [
           {
            "marker": {
             "line": {
              "color": "#283442"
             }
            },
            "type": "scatter"
           }
          ],
          "scatter3d": [
           {
            "line": {
             "colorbar": {
              "outlinewidth": 0,
              "ticks": ""
             }
            },
            "marker": {
             "colorbar": {
              "outlinewidth": 0,
              "ticks": ""
             }
            },
            "type": "scatter3d"
           }
          ],
          "scattercarpet": [
           {
            "marker": {
             "colorbar": {
              "outlinewidth": 0,
              "ticks": ""
             }
            },
            "type": "scattercarpet"
           }
          ],
          "scattergeo": [
           {
            "marker": {
             "colorbar": {
              "outlinewidth": 0,
              "ticks": ""
             }
            },
            "type": "scattergeo"
           }
          ],
          "scattergl": [
           {
            "marker": {
             "line": {
              "color": "#283442"
             }
            },
            "type": "scattergl"
           }
          ],
          "scattermapbox": [
           {
            "marker": {
             "colorbar": {
              "outlinewidth": 0,
              "ticks": ""
             }
            },
            "type": "scattermapbox"
           }
          ],
          "scatterpolar": [
           {
            "marker": {
             "colorbar": {
              "outlinewidth": 0,
              "ticks": ""
             }
            },
            "type": "scatterpolar"
           }
          ],
          "scatterpolargl": [
           {
            "marker": {
             "colorbar": {
              "outlinewidth": 0,
              "ticks": ""
             }
            },
            "type": "scatterpolargl"
           }
          ],
          "scatterternary": [
           {
            "marker": {
             "colorbar": {
              "outlinewidth": 0,
              "ticks": ""
             }
            },
            "type": "scatterternary"
           }
          ],
          "surface": [
           {
            "colorbar": {
             "outlinewidth": 0,
             "ticks": ""
            },
            "colorscale": [
             [
              0,
              "#0d0887"
             ],
             [
              0.1111111111111111,
              "#46039f"
             ],
             [
              0.2222222222222222,
              "#7201a8"
             ],
             [
              0.3333333333333333,
              "#9c179e"
             ],
             [
              0.4444444444444444,
              "#bd3786"
             ],
             [
              0.5555555555555556,
              "#d8576b"
             ],
             [
              0.6666666666666666,
              "#ed7953"
             ],
             [
              0.7777777777777778,
              "#fb9f3a"
             ],
             [
              0.8888888888888888,
              "#fdca26"
             ],
             [
              1,
              "#f0f921"
             ]
            ],
            "type": "surface"
           }
          ],
          "table": [
           {
            "cells": {
             "fill": {
              "color": "#506784"
             },
             "line": {
              "color": "rgb(17,17,17)"
             }
            },
            "header": {
             "fill": {
              "color": "#2a3f5f"
             },
             "line": {
              "color": "rgb(17,17,17)"
             }
            },
            "type": "table"
           }
          ]
         },
         "layout": {
          "annotationdefaults": {
           "arrowcolor": "#f2f5fa",
           "arrowhead": 0,
           "arrowwidth": 1
          },
          "autotypenumbers": "strict",
          "coloraxis": {
           "colorbar": {
            "outlinewidth": 0,
            "ticks": ""
           }
          },
          "colorscale": {
           "diverging": [
            [
             0,
             "#8e0152"
            ],
            [
             0.1,
             "#c51b7d"
            ],
            [
             0.2,
             "#de77ae"
            ],
            [
             0.3,
             "#f1b6da"
            ],
            [
             0.4,
             "#fde0ef"
            ],
            [
             0.5,
             "#f7f7f7"
            ],
            [
             0.6,
             "#e6f5d0"
            ],
            [
             0.7,
             "#b8e186"
            ],
            [
             0.8,
             "#7fbc41"
            ],
            [
             0.9,
             "#4d9221"
            ],
            [
             1,
             "#276419"
            ]
           ],
           "sequential": [
            [
             0,
             "#0d0887"
            ],
            [
             0.1111111111111111,
             "#46039f"
            ],
            [
             0.2222222222222222,
             "#7201a8"
            ],
            [
             0.3333333333333333,
             "#9c179e"
            ],
            [
             0.4444444444444444,
             "#bd3786"
            ],
            [
             0.5555555555555556,
             "#d8576b"
            ],
            [
             0.6666666666666666,
             "#ed7953"
            ],
            [
             0.7777777777777778,
             "#fb9f3a"
            ],
            [
             0.8888888888888888,
             "#fdca26"
            ],
            [
             1,
             "#f0f921"
            ]
           ],
           "sequentialminus": [
            [
             0,
             "#0d0887"
            ],
            [
             0.1111111111111111,
             "#46039f"
            ],
            [
             0.2222222222222222,
             "#7201a8"
            ],
            [
             0.3333333333333333,
             "#9c179e"
            ],
            [
             0.4444444444444444,
             "#bd3786"
            ],
            [
             0.5555555555555556,
             "#d8576b"
            ],
            [
             0.6666666666666666,
             "#ed7953"
            ],
            [
             0.7777777777777778,
             "#fb9f3a"
            ],
            [
             0.8888888888888888,
             "#fdca26"
            ],
            [
             1,
             "#f0f921"
            ]
           ]
          },
          "colorway": [
           "#636efa",
           "#EF553B",
           "#00cc96",
           "#ab63fa",
           "#FFA15A",
           "#19d3f3",
           "#FF6692",
           "#B6E880",
           "#FF97FF",
           "#FECB52"
          ],
          "font": {
           "color": "#f2f5fa"
          },
          "geo": {
           "bgcolor": "rgb(17,17,17)",
           "lakecolor": "rgb(17,17,17)",
           "landcolor": "rgb(17,17,17)",
           "showlakes": true,
           "showland": true,
           "subunitcolor": "#506784"
          },
          "hoverlabel": {
           "align": "left"
          },
          "hovermode": "closest",
          "mapbox": {
           "style": "dark"
          },
          "paper_bgcolor": "rgb(17,17,17)",
          "plot_bgcolor": "rgb(17,17,17)",
          "polar": {
           "angularaxis": {
            "gridcolor": "#506784",
            "linecolor": "#506784",
            "ticks": ""
           },
           "bgcolor": "rgb(17,17,17)",
           "radialaxis": {
            "gridcolor": "#506784",
            "linecolor": "#506784",
            "ticks": ""
           }
          },
          "scene": {
           "xaxis": {
            "backgroundcolor": "rgb(17,17,17)",
            "gridcolor": "#506784",
            "gridwidth": 2,
            "linecolor": "#506784",
            "showbackground": true,
            "ticks": "",
            "zerolinecolor": "#C8D4E3"
           },
           "yaxis": {
            "backgroundcolor": "rgb(17,17,17)",
            "gridcolor": "#506784",
            "gridwidth": 2,
            "linecolor": "#506784",
            "showbackground": true,
            "ticks": "",
            "zerolinecolor": "#C8D4E3"
           },
           "zaxis": {
            "backgroundcolor": "rgb(17,17,17)",
            "gridcolor": "#506784",
            "gridwidth": 2,
            "linecolor": "#506784",
            "showbackground": true,
            "ticks": "",
            "zerolinecolor": "#C8D4E3"
           }
          },
          "shapedefaults": {
           "line": {
            "color": "#f2f5fa"
           }
          },
          "sliderdefaults": {
           "bgcolor": "#C8D4E3",
           "bordercolor": "rgb(17,17,17)",
           "borderwidth": 1,
           "tickwidth": 0
          },
          "ternary": {
           "aaxis": {
            "gridcolor": "#506784",
            "linecolor": "#506784",
            "ticks": ""
           },
           "baxis": {
            "gridcolor": "#506784",
            "linecolor": "#506784",
            "ticks": ""
           },
           "bgcolor": "rgb(17,17,17)",
           "caxis": {
            "gridcolor": "#506784",
            "linecolor": "#506784",
            "ticks": ""
           }
          },
          "title": {
           "x": 0.05
          },
          "updatemenudefaults": {
           "bgcolor": "#506784",
           "borderwidth": 0
          },
          "xaxis": {
           "automargin": true,
           "gridcolor": "#283442",
           "linecolor": "#506784",
           "ticks": "",
           "title": {
            "standoff": 15
           },
           "zerolinecolor": "#283442",
           "zerolinewidth": 2
          },
          "yaxis": {
           "automargin": true,
           "gridcolor": "#283442",
           "linecolor": "#506784",
           "ticks": "",
           "title": {
            "standoff": 15
           },
           "zerolinecolor": "#283442",
           "zerolinewidth": 2
          }
         }
        },
        "title": {
         "text": "World wide spread of COVID-19"
        }
       }
      },
      "image/png": "[encoded data removed]",
      "text/html": [
       "<div>                            <div id=\"bdf0aa03-2168-4a76-a83c-21014e0881f1\" class=\"plotly-graph-div\" style=\"height:525px; width:100%;\"></div>            <script type=\"text/javascript\">                require([\"plotly\"], function(Plotly) {                    window.PLOTLYENV=window.PLOTLYENV || {};                                    if (document.getElementById(\"bdf0aa03-2168-4a76-a83c-21014e0881f1\")) {                    Plotly.newPlot(                        \"bdf0aa03-2168-4a76-a83c-21014e0881f1\",                        [{\"colorscale\":[[0.0,\"rgb(150,0,90)\"],[1.0,\"rgb(150,0,90)\"]],\"geo\":\"geo\",\"hovertemplate\":\"Cases Range=200K to 800K<br>Alpha3=%{location}<extra></extra>\",\"locations\":[\"AFG\",\"ALB\",\"DZA\",\"ARM\",\"BHR\",\"BIH\",\"BWA\",\"BRN\",\"CYP\",\"DOM\",\"EGY\",\"SLV\",\"EST\",\"ETH\",\"HND\",\"ISL\",\"KEN\",\"KWT\",\"KGZ\",\"LAO\",\"LBY\",\"LUX\",\"MUS\",\"MDA\",\"MNE\",\"MOZ\",\"NGA\",\"OMN\",\"QAT\",\"LKA\",\"UZB\",\"VEN\",\"ZMB\",\"ZWE\"],\"name\":\"200K to 800K\",\"showlegend\":true,\"showscale\":false,\"z\":[1,1,1,1,1,1,1,1,1,1,1,1,1,1,1,1,1,1,1,1,1,1,1,1,1,1,1,1,1,1,1,1,1,1],\"type\":\"choropleth\"},{\"colorscale\":[[0.0,\"rgb(0,0,200)\"],[1.0,\"rgb(0,0,200)\"]],\"geo\":\"geo\",\"hovertemplate\":\"Cases Range=Upto 50K<br>Alpha3=%{location}<extra></extra>\",\"locations\":[\"AND\",\"ATA\",\"ATG\",\"BHS\",\"BEN\",\"BFA\",\"CAF\",\"TCD\",\"COM\",\"DJI\",\"DMA\",\"GNQ\",\"ERI\",\"GAB\",\"GMB\",\"GRD\",\"GIN\",\"HTI\",\"VAT\",\"KIR\",\"LSO\",\"LBR\",\"LIE\",\"MLI\",\"MHL\",\"MCO\",\"NRU\",\"NIC\",\"NER\",\"PLW\",\"PNG\",\"KNA\",\"LCA\",\"VCT\",\"WSM\",\"SMR\",\"STP\",\"SLE\",\"SLB\",\"SOM\",\"SSD\",\"TJK\",\"TZA\",\"TLS\",\"TGO\",\"TON\",\"TUV\",\"VUT\",\"YEM\"],\"name\":\"Upto 50K\",\"showlegend\":true,\"showscale\":false,\"z\":[1,1,1,1,1,1,1,1,1,1,1,1,1,1,1,1,1,1,1,1,1,1,1,1,1,1,1,1,1,1,1,1,1,1,1,1,1,1,1,1,1,1,1,1,1,1,1,1,1],\"type\":\"choropleth\"},{\"colorscale\":[[0.0,\"rgb(0,25,255)\"],[1.0,\"rgb(0,25,255)\"]],\"geo\":\"geo\",\"hovertemplate\":\"Cases Range=50K to 200K<br>Alpha3=%{location}<extra></extra>\",\"locations\":[\"AGO\",\"BRB\",\"BLZ\",\"BTN\",\"BDI\",\"CPV\",\"KHM\",\"CMR\",\"SWZ\",\"FJI\",\"GHA\",\"GUY\",\"JAM\",\"MDG\",\"MWI\",\"MDV\",\"MLT\",\"MRT\",\"NAM\",\"RWA\",\"SEN\",\"SYC\",\"SDN\",\"SUR\",\"SYR\",\"TTO\",\"UGA\"],\"name\":\"50K to 200K\",\"showlegend\":true,\"showscale\":false,\"z\":[1,1,1,1,1,1,1,1,1,1,1,1,1,1,1,1,1,1,1,1,1,1,1,1,1,1,1],\"type\":\"choropleth\"},{\"colorscale\":[[0.0,\"rgb(0,152,255)\"],[1.0,\"rgb(0,152,255)\"]],\"geo\":\"geo\",\"hovertemplate\":\"Cases Range=15M+<br>Alpha3=%{location}<extra></extra>\",\"locations\":[\"ARG\",\"AUS\",\"AUT\",\"BGD\",\"BEL\",\"CAN\",\"CHL\",\"CHN\",\"COL\",\"DNK\",\"GEO\",\"GRC\",\"HUN\",\"IDN\",\"IRN\",\"IRQ\",\"IRL\",\"ISR\",\"JOR\",\"MYS\",\"MEX\",\"NLD\",\"NZL\",\"PAK\",\"PER\",\"PHL\",\"POL\",\"PRT\",\"ROU\",\"SRB\",\"SGP\",\"SVK\",\"ZAF\",\"ESP\",\"SWE\",\"CHE\",\"THA\",\"UKR\",\"VNM\"],\"name\":\"15M+\",\"showlegend\":true,\"showscale\":false,\"z\":[1,1,1,1,1,1,1,1,1,1,1,1,1,1,1,1,1,1,1,1,1,1,1,1,1,1,1,1,1,1,1,1,1,1,1,1,1,1,1],\"type\":\"choropleth\"},{\"colorscale\":[[0.0,\"rgb(44,255,150)\"],[1.0,\"rgb(44,255,150)\"]],\"geo\":\"geo\",\"hovertemplate\":\"Cases Range=800K to 1.5M<br>Alpha3=%{location}<extra></extra>\",\"locations\":[\"AZE\",\"BLR\",\"BOL\",\"BGR\",\"CRI\",\"HRV\",\"CUB\",\"ECU\",\"FIN\",\"GTM\",\"KAZ\",\"LVA\",\"LBN\",\"LTU\",\"MNG\",\"MAR\",\"NPL\",\"NOR\",\"PAN\",\"PRY\",\"SAU\",\"SVN\",\"TUN\",\"ARE\",\"URY\"],\"name\":\"800K to 1.5M\",\"showlegend\":true,\"showscale\":false,\"z\":[1,1,1,1,1,1,1,1,1,1,1,1,1,1,1,1,1,1,1,1,1,1,1,1,1],\"type\":\"choropleth\"}],                        {\"template\":{\"data\":{\"barpolar\":[{\"marker\":{\"line\":{\"color\":\"rgb(17,17,17)\",\"width\":0.5},\"pattern\":{\"fillmode\":\"overlay\",\"size\":10,\"solidity\":0.2}},\"type\":\"barpolar\"}],\"bar\":[{\"error_x\":{\"color\":\"#f2f5fa\"},\"error_y\":{\"color\":\"#f2f5fa\"},\"marker\":{\"line\":{\"color\":\"rgb(17,17,17)\",\"width\":0.5},\"pattern\":{\"fillmode\":\"overlay\",\"size\":10,\"solidity\":0.2}},\"type\":\"bar\"}],\"carpet\":[{\"aaxis\":{\"endlinecolor\":\"#A2B1C6\",\"gridcolor\":\"#506784\",\"linecolor\":\"#506784\",\"minorgridcolor\":\"#506784\",\"startlinecolor\":\"#A2B1C6\"},\"baxis\":{\"endlinecolor\":\"#A2B1C6\",\"gridcolor\":\"#506784\",\"linecolor\":\"#506784\",\"minorgridcolor\":\"#506784\",\"startlinecolor\":\"#A2B1C6\"},\"type\":\"carpet\"}],\"choropleth\":[{\"colorbar\":{\"outlinewidth\":0,\"ticks\":\"\"},\"type\":\"choropleth\"}],\"contourcarpet\":[{\"colorbar\":{\"outlinewidth\":0,\"ticks\":\"\"},\"type\":\"contourcarpet\"}],\"contour\":[{\"colorbar\":{\"outlinewidth\":0,\"ticks\":\"\"},\"colorscale\":[[0.0,\"#0d0887\"],[0.1111111111111111,\"#46039f\"],[0.2222222222222222,\"#7201a8\"],[0.3333333333333333,\"#9c179e\"],[0.4444444444444444,\"#bd3786\"],[0.5555555555555556,\"#d8576b\"],[0.6666666666666666,\"#ed7953\"],[0.7777777777777778,\"#fb9f3a\"],[0.8888888888888888,\"#fdca26\"],[1.0,\"#f0f921\"]],\"type\":\"contour\"}],\"heatmapgl\":[{\"colorbar\":{\"outlinewidth\":0,\"ticks\":\"\"},\"colorscale\":[[0.0,\"#0d0887\"],[0.1111111111111111,\"#46039f\"],[0.2222222222222222,\"#7201a8\"],[0.3333333333333333,\"#9c179e\"],[0.4444444444444444,\"#bd3786\"],[0.5555555555555556,\"#d8576b\"],[0.6666666666666666,\"#ed7953\"],[0.7777777777777778,\"#fb9f3a\"],[0.8888888888888888,\"#fdca26\"],[1.0,\"#f0f921\"]],\"type\":\"heatmapgl\"}],\"heatmap\":[{\"colorbar\":{\"outlinewidth\":0,\"ticks\":\"\"},\"colorscale\":[[0.0,\"#0d0887\"],[0.1111111111111111,\"#46039f\"],[0.2222222222222222,\"#7201a8\"],[0.3333333333333333,\"#9c179e\"],[0.4444444444444444,\"#bd3786\"],[0.5555555555555556,\"#d8576b\"],[0.6666666666666666,\"#ed7953\"],[0.7777777777777778,\"#fb9f3a\"],[0.8888888888888888,\"#fdca26\"],[1.0,\"#f0f921\"]],\"type\":\"heatmap\"}],\"histogram2dcontour\":[{\"colorbar\":{\"outlinewidth\":0,\"ticks\":\"\"},\"colorscale\":[[0.0,\"#0d0887\"],[0.1111111111111111,\"#46039f\"],[0.2222222222222222,\"#7201a8\"],[0.3333333333333333,\"#9c179e\"],[0.4444444444444444,\"#bd3786\"],[0.5555555555555556,\"#d8576b\"],[0.6666666666666666,\"#ed7953\"],[0.7777777777777778,\"#fb9f3a\"],[0.8888888888888888,\"#fdca26\"],[1.0,\"#f0f921\"]],\"type\":\"histogram2dcontour\"}],\"histogram2d\":[{\"colorbar\":{\"outlinewidth\":0,\"ticks\":\"\"},\"colorscale\":[[0.0,\"#0d0887\"],[0.1111111111111111,\"#46039f\"],[0.2222222222222222,\"#7201a8\"],[0.3333333333333333,\"#9c179e\"],[0.4444444444444444,\"#bd3786\"],[0.5555555555555556,\"#d8576b\"],[0.6666666666666666,\"#ed7953\"],[0.7777777777777778,\"#fb9f3a\"],[0.8888888888888888,\"#fdca26\"],[1.0,\"#f0f921\"]],\"type\":\"histogram2d\"}],\"histogram\":[{\"marker\":{\"pattern\":{\"fillmode\":\"overlay\",\"size\":10,\"solidity\":0.2}},\"type\":\"histogram\"}],\"mesh3d\":[{\"colorbar\":{\"outlinewidth\":0,\"ticks\":\"\"},\"type\":\"mesh3d\"}],\"parcoords\":[{\"line\":{\"colorbar\":{\"outlinewidth\":0,\"ticks\":\"\"}},\"type\":\"parcoords\"}],\"pie\":[{\"automargin\":true,\"type\":\"pie\"}],\"scatter3d\":[{\"line\":{\"colorbar\":{\"outlinewidth\":0,\"ticks\":\"\"}},\"marker\":{\"colorbar\":{\"outlinewidth\":0,\"ticks\":\"\"}},\"type\":\"scatter3d\"}],\"scattercarpet\":[{\"marker\":{\"colorbar\":{\"outlinewidth\":0,\"ticks\":\"\"}},\"type\":\"scattercarpet\"}],\"scattergeo\":[{\"marker\":{\"colorbar\":{\"outlinewidth\":0,\"ticks\":\"\"}},\"type\":\"scattergeo\"}],\"scattergl\":[{\"marker\":{\"line\":{\"color\":\"#283442\"}},\"type\":\"scattergl\"}],\"scattermapbox\":[{\"marker\":{\"colorbar\":{\"outlinewidth\":0,\"ticks\":\"\"}},\"type\":\"scattermapbox\"}],\"scatterpolargl\":[{\"marker\":{\"colorbar\":{\"outlinewidth\":0,\"ticks\":\"\"}},\"type\":\"scatterpolargl\"}],\"scatterpolar\":[{\"marker\":{\"colorbar\":{\"outlinewidth\":0,\"ticks\":\"\"}},\"type\":\"scatterpolar\"}],\"scatter\":[{\"marker\":{\"line\":{\"color\":\"#283442\"}},\"type\":\"scatter\"}],\"scatterternary\":[{\"marker\":{\"colorbar\":{\"outlinewidth\":0,\"ticks\":\"\"}},\"type\":\"scatterternary\"}],\"surface\":[{\"colorbar\":{\"outlinewidth\":0,\"ticks\":\"\"},\"colorscale\":[[0.0,\"#0d0887\"],[0.1111111111111111,\"#46039f\"],[0.2222222222222222,\"#7201a8\"],[0.3333333333333333,\"#9c179e\"],[0.4444444444444444,\"#bd3786\"],[0.5555555555555556,\"#d8576b\"],[0.6666666666666666,\"#ed7953\"],[0.7777777777777778,\"#fb9f3a\"],[0.8888888888888888,\"#fdca26\"],[1.0,\"#f0f921\"]],\"type\":\"surface\"}],\"table\":[{\"cells\":{\"fill\":{\"color\":\"#506784\"},\"line\":{\"color\":\"rgb(17,17,17)\"}},\"header\":{\"fill\":{\"color\":\"#2a3f5f\"},\"line\":{\"color\":\"rgb(17,17,17)\"}},\"type\":\"table\"}]},\"layout\":{\"annotationdefaults\":{\"arrowcolor\":\"#f2f5fa\",\"arrowhead\":0,\"arrowwidth\":1},\"autotypenumbers\":\"strict\",\"coloraxis\":{\"colorbar\":{\"outlinewidth\":0,\"ticks\":\"\"}},\"colorscale\":{\"diverging\":[[0,\"#8e0152\"],[0.1,\"#c51b7d\"],[0.2,\"#de77ae\"],[0.3,\"#f1b6da\"],[0.4,\"#fde0ef\"],[0.5,\"#f7f7f7\"],[0.6,\"#e6f5d0\"],[0.7,\"#b8e186\"],[0.8,\"#7fbc41\"],[0.9,\"#4d9221\"],[1,\"#276419\"]],\"sequential\":[[0.0,\"#0d0887\"],[0.1111111111111111,\"#46039f\"],[0.2222222222222222,\"#7201a8\"],[0.3333333333333333,\"#9c179e\"],[0.4444444444444444,\"#bd3786\"],[0.5555555555555556,\"#d8576b\"],[0.6666666666666666,\"#ed7953\"],[0.7777777777777778,\"#fb9f3a\"],[0.8888888888888888,\"#fdca26\"],[1.0,\"#f0f921\"]],\"sequentialminus\":[[0.0,\"#0d0887\"],[0.1111111111111111,\"#46039f\"],[0.2222222222222222,\"#7201a8\"],[0.3333333333333333,\"#9c179e\"],[0.4444444444444444,\"#bd3786\"],[0.5555555555555556,\"#d8576b\"],[0.6666666666666666,\"#ed7953\"],[0.7777777777777778,\"#fb9f3a\"],[0.8888888888888888,\"#fdca26\"],[1.0,\"#f0f921\"]]},\"colorway\":[\"#636efa\",\"#EF553B\",\"#00cc96\",\"#ab63fa\",\"#FFA15A\",\"#19d3f3\",\"#FF6692\",\"#B6E880\",\"#FF97FF\",\"#FECB52\"],\"font\":{\"color\":\"#f2f5fa\"},\"geo\":{\"bgcolor\":\"rgb(17,17,17)\",\"lakecolor\":\"rgb(17,17,17)\",\"landcolor\":\"rgb(17,17,17)\",\"showlakes\":true,\"showland\":true,\"subunitcolor\":\"#506784\"},\"hoverlabel\":{\"align\":\"left\"},\"hovermode\":\"closest\",\"mapbox\":{\"style\":\"dark\"},\"paper_bgcolor\":\"rgb(17,17,17)\",\"plot_bgcolor\":\"rgb(17,17,17)\",\"polar\":{\"angularaxis\":{\"gridcolor\":\"#506784\",\"linecolor\":\"#506784\",\"ticks\":\"\"},\"bgcolor\":\"rgb(17,17,17)\",\"radialaxis\":{\"gridcolor\":\"#506784\",\"linecolor\":\"#506784\",\"ticks\":\"\"}},\"scene\":{\"xaxis\":{\"backgroundcolor\":\"rgb(17,17,17)\",\"gridcolor\":\"#506784\",\"gridwidth\":2,\"linecolor\":\"#506784\",\"showbackground\":true,\"ticks\":\"\",\"zerolinecolor\":\"#C8D4E3\"},\"yaxis\":{\"backgroundcolor\":\"rgb(17,17,17)\",\"gridcolor\":\"#506784\",\"gridwidth\":2,\"linecolor\":\"#506784\",\"showbackground\":true,\"ticks\":\"\",\"zerolinecolor\":\"#C8D4E3\"},\"zaxis\":{\"backgroundcolor\":\"rgb(17,17,17)\",\"gridcolor\":\"#506784\",\"gridwidth\":2,\"linecolor\":\"#506784\",\"showbackground\":true,\"ticks\":\"\",\"zerolinecolor\":\"#C8D4E3\"}},\"shapedefaults\":{\"line\":{\"color\":\"#f2f5fa\"}},\"sliderdefaults\":{\"bgcolor\":\"#C8D4E3\",\"bordercolor\":\"rgb(17,17,17)\",\"borderwidth\":1,\"tickwidth\":0},\"ternary\":{\"aaxis\":{\"gridcolor\":\"#506784\",\"linecolor\":\"#506784\",\"ticks\":\"\"},\"baxis\":{\"gridcolor\":\"#506784\",\"linecolor\":\"#506784\",\"ticks\":\"\"},\"bgcolor\":\"rgb(17,17,17)\",\"caxis\":{\"gridcolor\":\"#506784\",\"linecolor\":\"#506784\",\"ticks\":\"\"}},\"title\":{\"x\":0.05},\"updatemenudefaults\":{\"bgcolor\":\"#506784\",\"borderwidth\":0},\"xaxis\":{\"automargin\":true,\"gridcolor\":\"#283442\",\"linecolor\":\"#506784\",\"ticks\":\"\",\"title\":{\"standoff\":15},\"zerolinecolor\":\"#283442\",\"zerolinewidth\":2},\"yaxis\":{\"automargin\":true,\"gridcolor\":\"#283442\",\"linecolor\":\"#506784\",\"ticks\":\"\",\"title\":{\"standoff\":15},\"zerolinecolor\":\"#283442\",\"zerolinewidth\":2}}},\"geo\":{\"domain\":{\"x\":[0.0,1.0],\"y\":[0.0,1.0]},\"projection\":{\"type\":\"mercator\"},\"center\":{},\"fitbounds\":\"locations\",\"visible\":false},\"legend\":{\"title\":{\"text\":\"Cases Range\"},\"tracegroupgap\":0},\"title\":{\"text\":\"World wide spread of COVID-19\"},\"margin\":{\"r\":0,\"t\":0,\"l\":0,\"b\":0}},                        {\"responsive\": true}                    ).then(function(){\n",
       "                            \n",
       "var gd = document.getElementById('bdf0aa03-2168-4a76-a83c-21014e0881f1');\n",
       "var x = new MutationObserver(function (mutations, observer) {{\n",
       "        var display = window.getComputedStyle(gd).display;\n",
       "        if (!display || display === 'none') {{\n",
       "            console.log([gd, 'removed!']);\n",
       "            Plotly.purge(gd);\n",
       "            observer.disconnect();\n",
       "        }}\n",
       "}});\n",
       "\n",
       "// Listen for the removal of the full notebook cells\n",
       "var notebookContainer = gd.closest('#notebook-container');\n",
       "if (notebookContainer) {{\n",
       "    x.observe(notebookContainer, {childList: true});\n",
       "}}\n",
       "\n",
       "// Listen for the clearing of the current output cell\n",
       "var outputEl = gd.closest('.output');\n",
       "if (outputEl) {{\n",
       "    x.observe(outputEl, {childList: true});\n",
       "}}\n",
       "\n",
       "                        })                };                });            </script>        </div>"
      ]
     },
     "metadata": {},
     "output_type": "display_data"
    }
   ],
   "source": [
    "fig = px.choropleth(world.dropna(),\n",
    "                   locations=\"Alpha3\",\n",
    "                   color=\"Cases Range\",\n",
    "                    projection=\"mercator\",\n",
    "                    color_discrete_sequence = px.colors.sequential.Rainbow,\n",
    "                    template = 'plotly_dark',\n",
    "                    title = 'World wide spread of COVID-19')\n",
    "fig.update_geos(fitbounds=\"locations\", visible=False)\n",
    "fig.update_layout(margin={\"r\":0,\"t\":0,\"l\":0,\"b\":0})\n",
    "fig.show()"
   ]
  },
  {
   "cell_type": "markdown",
   "id": "d2389a3c-fdd2-4868-8cf0-c339ae5705d0",
   "metadata": {},
   "source": [
    "### Visualizing daily cases across the globe"
   ]
  },
  {
   "cell_type": "markdown",
   "id": "ccad1b61-c48c-4f82-b380-bb9cab54c2ff",
   "metadata": {},
   "source": [
    "For visualizing daily cases and daily deaths around the world, we need to create a new dataframe which has number of cases and number of deaths recorded per day."
   ]
  },
  {
   "cell_type": "code",
   "execution_count": 96,
   "id": "e1812624-3489-4eaa-9c41-9fa71655efb4",
   "metadata": {
    "tags": []
   },
   "outputs": [],
   "source": [
    "plt.style.use('seaborn')\n",
    "cases_count = []\n",
    "for i in range(1, len(df1)):\n",
    "    cases_count.append(sum(pd.to_numeric(df1.iloc[i, 1:].values)))\n",
    "    \n",
    "df = pd.DataFrame()  # creating a new dataframe\n",
    "df['Date'] = df1['Country/Region'][1:]  \n",
    "df['Cases'] = cases_count\n",
    "df = df.set_index('Date')\n",
    "    \n",
    "death_count = []\n",
    "for i in range(1, len(df2)):\n",
    "    death_count.append(sum(pd.to_numeric(df2.iloc[i,1:].values)))\n",
    "    \n",
    "df['Deaths'] = death_count   "
   ]
  },
  {
   "cell_type": "code",
   "execution_count": 97,
   "id": "1195fbd7-e383-4858-9cc7-efe17dee4293",
   "metadata": {},
   "outputs": [
    {
     "data": {
      "text/html": [
       "<div>\n",
       "<style scoped>\n",
       "    .dataframe tbody tr th:only-of-type {\n",
       "        vertical-align: middle;\n",
       "    }\n",
       "\n",
       "    .dataframe tbody tr th {\n",
       "        vertical-align: top;\n",
       "    }\n",
       "\n",
       "    .dataframe thead th {\n",
       "        text-align: right;\n",
       "    }\n",
       "</style>\n",
       "<table border=\"1\" class=\"dataframe\">\n",
       "  <thead>\n",
       "    <tr style=\"text-align: right;\">\n",
       "      <th></th>\n",
       "      <th>Cases</th>\n",
       "      <th>Deaths</th>\n",
       "    </tr>\n",
       "    <tr>\n",
       "      <th>Date</th>\n",
       "      <th></th>\n",
       "      <th></th>\n",
       "    </tr>\n",
       "  </thead>\n",
       "  <tbody>\n",
       "    <tr>\n",
       "      <th>1/23/20</th>\n",
       "      <td>100.0</td>\n",
       "      <td>1.0</td>\n",
       "    </tr>\n",
       "    <tr>\n",
       "      <th>1/24/20</th>\n",
       "      <td>287.0</td>\n",
       "      <td>8.0</td>\n",
       "    </tr>\n",
       "    <tr>\n",
       "      <th>1/25/20</th>\n",
       "      <td>493.0</td>\n",
       "      <td>16.0</td>\n",
       "    </tr>\n",
       "    <tr>\n",
       "      <th>1/26/20</th>\n",
       "      <td>683.0</td>\n",
       "      <td>14.0</td>\n",
       "    </tr>\n",
       "    <tr>\n",
       "      <th>1/27/20</th>\n",
       "      <td>809.0</td>\n",
       "      <td>26.0</td>\n",
       "    </tr>\n",
       "    <tr>\n",
       "      <th>...</th>\n",
       "      <td>...</td>\n",
       "      <td>...</td>\n",
       "    </tr>\n",
       "    <tr>\n",
       "      <th>3/5/23</th>\n",
       "      <td>56126.0</td>\n",
       "      <td>148.0</td>\n",
       "    </tr>\n",
       "    <tr>\n",
       "      <th>3/6/23</th>\n",
       "      <td>58040.0</td>\n",
       "      <td>366.0</td>\n",
       "    </tr>\n",
       "    <tr>\n",
       "      <th>3/7/23</th>\n",
       "      <td>130437.0</td>\n",
       "      <td>923.0</td>\n",
       "    </tr>\n",
       "    <tr>\n",
       "      <th>3/8/23</th>\n",
       "      <td>179446.0</td>\n",
       "      <td>1445.0</td>\n",
       "    </tr>\n",
       "    <tr>\n",
       "      <th>3/9/23</th>\n",
       "      <td>177325.0</td>\n",
       "      <td>1319.0</td>\n",
       "    </tr>\n",
       "  </tbody>\n",
       "</table>\n",
       "<p>1142 rows × 2 columns</p>\n",
       "</div>"
      ],
      "text/plain": [
       "            Cases  Deaths\n",
       "Date                     \n",
       "1/23/20     100.0     1.0\n",
       "1/24/20     287.0     8.0\n",
       "1/25/20     493.0    16.0\n",
       "1/26/20     683.0    14.0\n",
       "1/27/20     809.0    26.0\n",
       "...           ...     ...\n",
       "3/5/23    56126.0   148.0\n",
       "3/6/23    58040.0   366.0\n",
       "3/7/23   130437.0   923.0\n",
       "3/8/23   179446.0  1445.0\n",
       "3/9/23   177325.0  1319.0\n",
       "\n",
       "[1142 rows x 2 columns]"
      ]
     },
     "execution_count": 97,
     "metadata": {},
     "output_type": "execute_result"
    }
   ],
   "source": [
    "df  "
   ]
  },
  {
   "cell_type": "code",
   "execution_count": 98,
   "id": "0779bd25-d41f-423d-ae59-de1a40628edd",
   "metadata": {
    "tags": []
   },
   "outputs": [
    {
     "data": {
      "image/png": "[encoded data removed]",
      "text/plain": [
       "<Figure size 1000x800 with 1 Axes>"
      ]
     },
     "metadata": {},
     "output_type": "display_data"
    }
   ],
   "source": [
    "df['Cases'].plot(title = 'Daily COVID-19 cases in the world', marker = '.', figsize = (10,8),label = 'Daily Cases')\n",
    "df['Cases'].rolling(window = 5).mean().plot(figsize = (10,8), label = 'Moving_Average_5', color = 'orange')\n",
    "plt.ylabel('Cases')\n",
    "plt.legend()\n",
    "plt.show()"
   ]
  },
  {
   "cell_type": "markdown",
   "id": "92cee3e6-2397-4fdf-8387-d1fa70377d57",
   "metadata": {},
   "source": [
    "The moving average is a commonly used statistical technique that helps to reduce noise and fluctuations in data by calculating the average of a subset of data points within a specified window or interval. The moving average smooths out the fluctuations in the daily data by calculating the average of the cases over a rolling window of 5 days."
   ]
  },
  {
   "cell_type": "markdown",
   "id": "865a2f72-44e7-428b-b0a8-8ec11e25a2b6",
   "metadata": {},
   "source": [
    "### Visualizing daily deaths across the globe"
   ]
  },
  {
   "cell_type": "code",
   "execution_count": 99,
   "id": "a4914527-2a99-48fa-a01f-c3c2acf2f5ac",
   "metadata": {},
   "outputs": [
    {
     "data": {
      "image/png": "[encoded data removed]",
      "text/plain": [
       "<Figure size 1000x800 with 1 Axes>"
      ]
     },
     "metadata": {},
     "output_type": "display_data"
    }
   ],
   "source": [
    "df['Deaths'].plot(title = 'Everyday Casualities due to COVID-19', marker = '.', figsize = (10,8), label = 'Daily Death')\n",
    "df['Deaths'].rolling(window = 5).mean().plot(figsize = (10,8), label = 'Moving_Average_5', color = 'orange')\n",
    "plt.ylabel('Deaths')\n",
    "plt.legend()\n",
    "plt.show()"
   ]
  },
  {
   "cell_type": "code",
   "execution_count": 102,
   "id": "209fe2b0-ae21-4f64-9ea2-18ebeeba2c4e",
   "metadata": {},
   "outputs": [],
   "source": [
    "df_prophet  = pd.DataFrame({\"ds\":[],\"y\":[]})\n",
    "df_prophet[\"ds\"] = pd.to_datetime(df.index)\n",
    "df_prophet[\"y\"]  = df.iloc[:,0].values"
   ]
  },
  {
   "cell_type": "code",
   "execution_count": 103,
   "id": "c6fcbe76-ae85-4639-bd28-4c9b1e2bcaee",
   "metadata": {},
   "outputs": [
    {
     "data": {
      "text/html": [
       "<div>\n",
       "<style scoped>\n",
       "    .dataframe tbody tr th:only-of-type {\n",
       "        vertical-align: middle;\n",
       "    }\n",
       "\n",
       "    .dataframe tbody tr th {\n",
       "        vertical-align: top;\n",
       "    }\n",
       "\n",
       "    .dataframe thead th {\n",
       "        text-align: right;\n",
       "    }\n",
       "</style>\n",
       "<table border=\"1\" class=\"dataframe\">\n",
       "  <thead>\n",
       "    <tr style=\"text-align: right;\">\n",
       "      <th></th>\n",
       "      <th>ds</th>\n",
       "      <th>y</th>\n",
       "    </tr>\n",
       "  </thead>\n",
       "  <tbody>\n",
       "    <tr>\n",
       "      <th>0</th>\n",
       "      <td>2020-01-23</td>\n",
       "      <td>100.0</td>\n",
       "    </tr>\n",
       "    <tr>\n",
       "      <th>1</th>\n",
       "      <td>2020-01-24</td>\n",
       "      <td>287.0</td>\n",
       "    </tr>\n",
       "    <tr>\n",
       "      <th>2</th>\n",
       "      <td>2020-01-25</td>\n",
       "      <td>493.0</td>\n",
       "    </tr>\n",
       "    <tr>\n",
       "      <th>3</th>\n",
       "      <td>2020-01-26</td>\n",
       "      <td>683.0</td>\n",
       "    </tr>\n",
       "    <tr>\n",
       "      <th>4</th>\n",
       "      <td>2020-01-27</td>\n",
       "      <td>809.0</td>\n",
       "    </tr>\n",
       "    <tr>\n",
       "      <th>...</th>\n",
       "      <td>...</td>\n",
       "      <td>...</td>\n",
       "    </tr>\n",
       "    <tr>\n",
       "      <th>1137</th>\n",
       "      <td>2023-03-05</td>\n",
       "      <td>56126.0</td>\n",
       "    </tr>\n",
       "    <tr>\n",
       "      <th>1138</th>\n",
       "      <td>2023-03-06</td>\n",
       "      <td>58040.0</td>\n",
       "    </tr>\n",
       "    <tr>\n",
       "      <th>1139</th>\n",
       "      <td>2023-03-07</td>\n",
       "      <td>130437.0</td>\n",
       "    </tr>\n",
       "    <tr>\n",
       "      <th>1140</th>\n",
       "      <td>2023-03-08</td>\n",
       "      <td>179446.0</td>\n",
       "    </tr>\n",
       "    <tr>\n",
       "      <th>1141</th>\n",
       "      <td>2023-03-09</td>\n",
       "      <td>177325.0</td>\n",
       "    </tr>\n",
       "  </tbody>\n",
       "</table>\n",
       "<p>1142 rows × 2 columns</p>\n",
       "</div>"
      ],
      "text/plain": [
       "             ds         y\n",
       "0    2020-01-23     100.0\n",
       "1    2020-01-24     287.0\n",
       "2    2020-01-25     493.0\n",
       "3    2020-01-26     683.0\n",
       "4    2020-01-27     809.0\n",
       "...         ...       ...\n",
       "1137 2023-03-05   56126.0\n",
       "1138 2023-03-06   58040.0\n",
       "1139 2023-03-07  130437.0\n",
       "1140 2023-03-08  179446.0\n",
       "1141 2023-03-09  177325.0\n",
       "\n",
       "[1142 rows x 2 columns]"
      ]
     },
     "execution_count": 103,
     "metadata": {},
     "output_type": "execute_result"
    }
   ],
   "source": [
    "df_prophet"
   ]
  },
  {
   "cell_type": "markdown",
   "id": "0801c0c9-be14-4824-a0d2-ea512d40b230",
   "metadata": {},
   "source": [
    "The last date of recorded cases is 2023-03-09. We can predict what will be the trend of Covid-19 cases in future. Here the pattern of Covid-19 cases is forecasted for the next 30 days using Prophet model which used Time Series Forecasting. "
   ]
  },
  {
   "cell_type": "code",
   "execution_count": 109,
   "id": "350f3cee-1f7d-4ad3-8aeb-54f97262a007",
   "metadata": {},
   "outputs": [
    {
     "name": "stderr",
     "output_type": "stream",
     "text": [
      "19:54:29 - cmdstanpy - INFO - Chain [1] start processing\n",
      "19:54:29 - cmdstanpy - INFO - Chain [1] done processing\n"
     ]
    },
    {
     "data": {
      "image/png": "[encoded data removed]",
      "text/plain": [
       "<Figure size 1000x500 with 1 Axes>"
      ]
     },
     "metadata": {},
     "output_type": "display_data"
    }
   ],
   "source": [
    "model = Prophet(weekly_seasonality= True, daily_seasonality= False, yearly_seasonality=False)\n",
    "model.fit(df_prophet)\n",
    "future = model.make_future_dataframe(periods=30, include_history=False)\n",
    "forecast = model.predict(future)\n",
    "\n",
    "\n",
    "plt.figure(figsize=(10, 5))\n",
    "plt.plot(forecast['ds'], forecast['yhat'], marker=\".\", label=\"Forecast\")\n",
    "plt.fill_between(forecast['ds'], forecast['yhat_lower'], forecast['yhat_upper'], color=\"gray\", alpha=0.2)\n",
    "plt.xlabel('Date')\n",
    "plt.ylabel('Cases')\n",
    "plt.title('Forecasting of Next 30 Days Cases')\n",
    "plt.legend()\n",
    "plt.show()"
   ]
  },
  {
   "cell_type": "code",
   "execution_count": null,
   "id": "12fcf613-884f-4451-b9e8-342e9702ff2a",
   "metadata": {},
   "outputs": [],
   "source": []
  }
 ],
 "metadata": {
  "kernelspec": {
   "display_name": "Python 3 (ipykernel)",
   "language": "python",
   "name": "python3"
  },
  "language_info": {
   "codemirror_mode": {
    "name": "ipython",
    "version": 3
   },
   "file_extension": ".py",
   "mimetype": "text/x-python",
   "name": "python",
   "nbconvert_exporter": "python",
   "pygments_lexer": "ipython3",
   "version": "3.10.8"
  }
 },
 "nbformat": 4,
 "nbformat_minor": 5
}
