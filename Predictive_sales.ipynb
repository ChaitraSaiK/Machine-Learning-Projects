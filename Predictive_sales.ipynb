{
 "cells": [
  {
   "cell_type": "markdown",
   "id": "15501094-3864-47ed-ba01-494b77d958d1",
   "metadata": {},
   "source": [
    "# Leveraging Customer Data for Predictive Sales Insights in E-Commerce"
   ]
  },
  {
   "cell_type": "markdown",
   "id": "3883bbde-43f5-48a1-b55e-0b93f0a39bdc",
   "metadata": {},
   "source": [
    "Before we start off with predicting Sales data we need to understand why is it important to analyse Customer's purchase data? \n",
    "\n",
    "Analyzing online purchasing customer data is essential for predicting future sales. Customer data provides valuable insights into how customers interact with an online store, what products they are interested in, and their browsing and purchasing patterns. By analyzing historical customer data, businesses can identify trends and patterns in purchasing behavior. These trends can be used to predict future sales and adjust inventory levels, marketing efforts, and promotions accordingly. This data will also help in customer segmentation which allows the business owners to target specific groups, tailor their marketing strategies and product offerings to meet customer needs and preferences, leading to increased sales."
   ]
  },
  {
   "cell_type": "markdown",
   "id": "ac381640-092b-4767-aa97-5bcbe58ed3d4",
   "metadata": {},
   "source": [
    "Importing Necessary Libraries"
   ]
  },
  {
   "cell_type": "code",
   "execution_count": 261,
   "id": "a2cb8a9f-5dbd-424b-9c02-2e7f9d21f362",
   "metadata": {},
   "outputs": [],
   "source": [
    "import numpy as np\n",
    "import pandas as pd \n",
    "import matplotlib.pyplot as plt\n",
    "import plotly\n",
    "import seaborn as sns\n",
    "import plotly.graph_objs as go\n",
    "import warnings\n",
    "warnings.filterwarnings(action = 'ignore')"
   ]
  },
  {
   "cell_type": "markdown",
   "id": "1a8c8ce3-5fd4-4f91-9350-bdafd6138d23",
   "metadata": {},
   "source": [
    "Let us use pandas Library to load the dataset"
   ]
  },
  {
   "cell_type": "code",
   "execution_count": 262,
   "id": "76f7df45-a3d2-4a44-8e9d-5457796e8e6b",
   "metadata": {},
   "outputs": [
    {
     "data": {
      "text/html": [
       "<div>\n",
       "<style scoped>\n",
       "    .dataframe tbody tr th:only-of-type {\n",
       "        vertical-align: middle;\n",
       "    }\n",
       "\n",
       "    .dataframe tbody tr th {\n",
       "        vertical-align: top;\n",
       "    }\n",
       "\n",
       "    .dataframe thead th {\n",
       "        text-align: right;\n",
       "    }\n",
       "</style>\n",
       "<table border=\"1\" class=\"dataframe\">\n",
       "  <thead>\n",
       "    <tr style=\"text-align: right;\">\n",
       "      <th></th>\n",
       "      <th>Administrative</th>\n",
       "      <th>Administrative_Duration</th>\n",
       "      <th>Informational</th>\n",
       "      <th>Informational_Duration</th>\n",
       "      <th>ProductRelated</th>\n",
       "      <th>ProductRelated_Duration</th>\n",
       "      <th>BounceRates</th>\n",
       "      <th>ExitRates</th>\n",
       "      <th>PageValues</th>\n",
       "      <th>SpecialDay</th>\n",
       "      <th>Month</th>\n",
       "      <th>OperatingSystems</th>\n",
       "      <th>Browser</th>\n",
       "      <th>Region</th>\n",
       "      <th>TrafficType</th>\n",
       "      <th>VisitorType</th>\n",
       "      <th>Weekend</th>\n",
       "      <th>Revenue</th>\n",
       "    </tr>\n",
       "  </thead>\n",
       "  <tbody>\n",
       "    <tr>\n",
       "      <th>0</th>\n",
       "      <td>0</td>\n",
       "      <td>0.0</td>\n",
       "      <td>0</td>\n",
       "      <td>0.0</td>\n",
       "      <td>1</td>\n",
       "      <td>0.000000</td>\n",
       "      <td>0.20</td>\n",
       "      <td>0.20</td>\n",
       "      <td>0.0</td>\n",
       "      <td>0.0</td>\n",
       "      <td>Feb</td>\n",
       "      <td>1</td>\n",
       "      <td>1</td>\n",
       "      <td>1</td>\n",
       "      <td>1</td>\n",
       "      <td>Returning_Visitor</td>\n",
       "      <td>False</td>\n",
       "      <td>False</td>\n",
       "    </tr>\n",
       "    <tr>\n",
       "      <th>1</th>\n",
       "      <td>0</td>\n",
       "      <td>0.0</td>\n",
       "      <td>0</td>\n",
       "      <td>0.0</td>\n",
       "      <td>2</td>\n",
       "      <td>64.000000</td>\n",
       "      <td>0.00</td>\n",
       "      <td>0.10</td>\n",
       "      <td>0.0</td>\n",
       "      <td>0.0</td>\n",
       "      <td>Feb</td>\n",
       "      <td>2</td>\n",
       "      <td>2</td>\n",
       "      <td>1</td>\n",
       "      <td>2</td>\n",
       "      <td>Returning_Visitor</td>\n",
       "      <td>False</td>\n",
       "      <td>False</td>\n",
       "    </tr>\n",
       "    <tr>\n",
       "      <th>2</th>\n",
       "      <td>0</td>\n",
       "      <td>0.0</td>\n",
       "      <td>0</td>\n",
       "      <td>0.0</td>\n",
       "      <td>1</td>\n",
       "      <td>0.000000</td>\n",
       "      <td>0.20</td>\n",
       "      <td>0.20</td>\n",
       "      <td>0.0</td>\n",
       "      <td>0.0</td>\n",
       "      <td>Feb</td>\n",
       "      <td>4</td>\n",
       "      <td>1</td>\n",
       "      <td>9</td>\n",
       "      <td>3</td>\n",
       "      <td>Returning_Visitor</td>\n",
       "      <td>False</td>\n",
       "      <td>False</td>\n",
       "    </tr>\n",
       "    <tr>\n",
       "      <th>3</th>\n",
       "      <td>0</td>\n",
       "      <td>0.0</td>\n",
       "      <td>0</td>\n",
       "      <td>0.0</td>\n",
       "      <td>2</td>\n",
       "      <td>2.666667</td>\n",
       "      <td>0.05</td>\n",
       "      <td>0.14</td>\n",
       "      <td>0.0</td>\n",
       "      <td>0.0</td>\n",
       "      <td>Feb</td>\n",
       "      <td>3</td>\n",
       "      <td>2</td>\n",
       "      <td>2</td>\n",
       "      <td>4</td>\n",
       "      <td>Returning_Visitor</td>\n",
       "      <td>False</td>\n",
       "      <td>False</td>\n",
       "    </tr>\n",
       "    <tr>\n",
       "      <th>4</th>\n",
       "      <td>0</td>\n",
       "      <td>0.0</td>\n",
       "      <td>0</td>\n",
       "      <td>0.0</td>\n",
       "      <td>10</td>\n",
       "      <td>627.500000</td>\n",
       "      <td>0.02</td>\n",
       "      <td>0.05</td>\n",
       "      <td>0.0</td>\n",
       "      <td>0.0</td>\n",
       "      <td>Feb</td>\n",
       "      <td>3</td>\n",
       "      <td>3</td>\n",
       "      <td>1</td>\n",
       "      <td>4</td>\n",
       "      <td>Returning_Visitor</td>\n",
       "      <td>True</td>\n",
       "      <td>False</td>\n",
       "    </tr>\n",
       "  </tbody>\n",
       "</table>\n",
       "</div>"
      ],
      "text/plain": [
       "   Administrative  Administrative_Duration  Informational  \\\n",
       "0               0                      0.0              0   \n",
       "1               0                      0.0              0   \n",
       "2               0                      0.0              0   \n",
       "3               0                      0.0              0   \n",
       "4               0                      0.0              0   \n",
       "\n",
       "   Informational_Duration  ProductRelated  ProductRelated_Duration  \\\n",
       "0                     0.0               1                 0.000000   \n",
       "1                     0.0               2                64.000000   \n",
       "2                     0.0               1                 0.000000   \n",
       "3                     0.0               2                 2.666667   \n",
       "4                     0.0              10               627.500000   \n",
       "\n",
       "   BounceRates  ExitRates  PageValues  SpecialDay Month  OperatingSystems  \\\n",
       "0         0.20       0.20         0.0         0.0   Feb                 1   \n",
       "1         0.00       0.10         0.0         0.0   Feb                 2   \n",
       "2         0.20       0.20         0.0         0.0   Feb                 4   \n",
       "3         0.05       0.14         0.0         0.0   Feb                 3   \n",
       "4         0.02       0.05         0.0         0.0   Feb                 3   \n",
       "\n",
       "   Browser  Region  TrafficType        VisitorType  Weekend  Revenue  \n",
       "0        1       1            1  Returning_Visitor    False    False  \n",
       "1        2       1            2  Returning_Visitor    False    False  \n",
       "2        1       9            3  Returning_Visitor    False    False  \n",
       "3        2       2            4  Returning_Visitor    False    False  \n",
       "4        3       1            4  Returning_Visitor     True    False  "
      ]
     },
     "execution_count": 262,
     "metadata": {},
     "output_type": "execute_result"
    }
   ],
   "source": [
    "data = pd.read_csv('online_shoppers_intention.csv')\n",
    "data.head()"
   ]
  },
  {
   "cell_type": "code",
   "execution_count": 263,
   "id": "93df4dd0-07c0-42b8-8da5-b826bc0ca2cd",
   "metadata": {},
   "outputs": [],
   "source": [
    "### Dataset Description:"
   ]
  },
  {
   "cell_type": "markdown",
   "id": "f3b25d53-c4c4-498f-9ff4-105240f4a4df",
   "metadata": {},
   "source": [
    "1. Administrative, Informational, Product related columns are the different pages on the E-commerce website.\n",
    "2. Administrative duration, Informational duration, Product related duration corresponds to the time spent on the respectives pages.\n",
    "3. Bounce rate is a metric that measures the percentage of visitors who leave a website or online store after viewing only a single page, without        interacting further with the site.\n",
    "4. Exit rate indicates the percentage of users who exit the website after viewing that particular page, relative to the total number of visitors who viewed that page.\n",
    "5. Special Day - This feature indicates the closeness of the date of the visit to a special day, such as a holiday or festival\n",
    "6. Month: The \"Month\" feature represents the month in which the visit or transaction took place.\n",
    "7. OperatingSystems: This feature records the operating system used by the visitor to access the e-commerce website.\n",
    "8. Browser: The \"Browser\" feature indicates the web browser used by the visitor to access the website.\n",
    "9. Region: This feature indicates the geographic region or location of the visitor.\n",
    "10. TrafficType: The \"TrafficType\" feature represents the source or channel through which the visitor arrived at the e-commerce website.\n",
    "11. VisitorType: This feature categorizes visitors based on their visit history. It typically has categorical values such as \"New Visitor,\" \"Returning Visitor,\" or \"Other.\"\n",
    "12. Weekend: The \"Weekend\" feature is a binary indicator (0 or 1) that shows whether the visit occurred on a weekend (Saturday or Sunday) or not.\n",
    "13. Revenue: The \"Revenue\" feature is the target variable in many e-commerce datasets. It is a binary indicator (0 or 1) that shows whether a transaction resulted in revenue (1) or not (0)"
   ]
  },
  {
   "cell_type": "code",
   "execution_count": 264,
   "id": "6216fb21-5b01-40ad-aab0-3c0a7b4eb815",
   "metadata": {},
   "outputs": [
    {
     "name": "stdout",
     "output_type": "stream",
     "text": [
      "<class 'pandas.core.frame.DataFrame'>\n",
      "RangeIndex: 12330 entries, 0 to 12329\n",
      "Data columns (total 18 columns):\n",
      " #   Column                   Non-Null Count  Dtype  \n",
      "---  ------                   --------------  -----  \n",
      " 0   Administrative           12330 non-null  int64  \n",
      " 1   Administrative_Duration  12330 non-null  float64\n",
      " 2   Informational            12330 non-null  int64  \n",
      " 3   Informational_Duration   12330 non-null  float64\n",
      " 4   ProductRelated           12330 non-null  int64  \n",
      " 5   ProductRelated_Duration  12330 non-null  float64\n",
      " 6   BounceRates              12330 non-null  float64\n",
      " 7   ExitRates                12330 non-null  float64\n",
      " 8   PageValues               12330 non-null  float64\n",
      " 9   SpecialDay               12330 non-null  float64\n",
      " 10  Month                    12330 non-null  object \n",
      " 11  OperatingSystems         12330 non-null  int64  \n",
      " 12  Browser                  12330 non-null  int64  \n",
      " 13  Region                   12330 non-null  int64  \n",
      " 14  TrafficType              12330 non-null  int64  \n",
      " 15  VisitorType              12330 non-null  object \n",
      " 16  Weekend                  12330 non-null  bool   \n",
      " 17  Revenue                  12330 non-null  bool   \n",
      "dtypes: bool(2), float64(7), int64(7), object(2)\n",
      "memory usage: 1.5+ MB\n"
     ]
    }
   ],
   "source": [
    "data.info() "
   ]
  },
  {
   "cell_type": "code",
   "execution_count": 265,
   "id": "4dd55511-ef6a-4396-9ae5-11e4e8112f3e",
   "metadata": {},
   "outputs": [
    {
     "data": {
      "text/plain": [
       "Index(['Administrative', 'Administrative_Duration', 'Informational',\n",
       "       'Informational_Duration', 'ProductRelated', 'ProductRelated_Duration',\n",
       "       'BounceRates', 'ExitRates', 'PageValues', 'SpecialDay', 'Month',\n",
       "       'OperatingSystems', 'Browser', 'Region', 'TrafficType', 'VisitorType',\n",
       "       'Weekend', 'Revenue'],\n",
       "      dtype='object')"
      ]
     },
     "execution_count": 265,
     "metadata": {},
     "output_type": "execute_result"
    }
   ],
   "source": [
    "data.columns  # to see what are the attributes that make up this dataframe."
   ]
  },
  {
   "cell_type": "code",
   "execution_count": 266,
   "id": "ab9eecf4-20da-4bba-af0a-8e9217f85d98",
   "metadata": {},
   "outputs": [
    {
     "data": {
      "text/plain": [
       "Administrative             0\n",
       "Administrative_Duration    0\n",
       "Informational              0\n",
       "Informational_Duration     0\n",
       "ProductRelated             0\n",
       "ProductRelated_Duration    0\n",
       "BounceRates                0\n",
       "ExitRates                  0\n",
       "PageValues                 0\n",
       "SpecialDay                 0\n",
       "Month                      0\n",
       "OperatingSystems           0\n",
       "Browser                    0\n",
       "Region                     0\n",
       "TrafficType                0\n",
       "VisitorType                0\n",
       "Weekend                    0\n",
       "Revenue                    0\n",
       "dtype: int64"
      ]
     },
     "execution_count": 266,
     "metadata": {},
     "output_type": "execute_result"
    }
   ],
   "source": [
    "data.isnull().sum()  # To see if there are any missing data in our dataframe."
   ]
  },
  {
   "cell_type": "code",
   "execution_count": 267,
   "id": "6454abb1-3102-4845-9141-f0ec3fed5077",
   "metadata": {
    "tags": []
   },
   "outputs": [
    {
     "data": {
      "text/plain": [
       "array([  1,   2,  10,  19,   0,   3,  16,   7,   6,  23,  13,  20,   8,\n",
       "         5,  32,   4,  45,  14,  52,   9,  46,  15,  22,  11,  12,  36,\n",
       "        42,  27,  90,  18,  38,  17, 128,  25,  30,  21,  51,  26,  28,\n",
       "        31,  24,  50,  96,  49,  68,  98,  67,  55,  35,  37,  29,  34,\n",
       "        71,  63,  87,  40,  33,  54,  64,  75,  39, 111,  81,  61,  47,\n",
       "        44,  88, 149,  41,  79,  66,  43, 258,  80,  62,  83, 173,  48,\n",
       "        58,  57,  56,  69,  82,  59, 109, 287,  53,  84,  78, 137, 113,\n",
       "        89,  65,  60, 104, 129,  77,  74,  93,  76,  72, 194, 140, 110,\n",
       "       132, 115,  73, 328, 160,  86, 150,  95, 130, 151, 117, 124, 127,\n",
       "       125, 116, 105,  92, 157, 154, 220, 187, 112, 131, 159,  94, 204,\n",
       "       142, 206, 102, 313, 145,  85,  97, 198, 181, 126, 106, 101, 108,\n",
       "       119,  70, 122,  91, 276, 100, 291, 114, 172, 217, 141, 133, 156,\n",
       "       136, 180, 135, 195,  99, 362, 179, 118, 175, 148, 440, 103, 178,\n",
       "       184, 705, 134, 176, 146, 189, 120, 193, 222, 121, 107, 305, 199,\n",
       "       439, 223, 230, 280, 377, 310, 158, 486, 153, 139, 182, 221, 229,\n",
       "       216, 170, 202, 346, 274, 240, 162, 123, 211, 227, 168, 161, 429,\n",
       "       686, 167, 518, 256, 255, 358, 213, 191, 282, 155, 138, 246, 237,\n",
       "       271, 171, 414, 219, 262, 409, 243, 241, 197, 449, 143, 188, 391,\n",
       "       238, 152, 165, 293, 174, 584, 164, 311, 340, 250, 200, 385, 292,\n",
       "       232, 251, 517, 225, 169, 309, 235, 501, 224, 275, 318, 144, 397,\n",
       "       343, 245, 186, 337, 351, 166, 349, 423, 359, 163, 147, 264, 312,\n",
       "       226, 324, 266, 260, 338, 272, 534, 470, 207, 218, 326, 190, 304,\n",
       "       205, 233, 401, 177, 330, 286, 247, 357, 315, 231, 339, 283, 374,\n",
       "       248, 279, 281, 234, 261, 290, 336, 378, 254, 183, 210, 192],\n",
       "      dtype=int64)"
      ]
     },
     "execution_count": 267,
     "metadata": {},
     "output_type": "execute_result"
    }
   ],
   "source": [
    "unique_products = data['ProductRelated'].unique() # To check how many varieties of products are present.\n",
    "unique_products"
   ]
  },
  {
   "cell_type": "code",
   "execution_count": 268,
   "id": "65a33153-2c43-4eef-bd88-8608e2e81988",
   "metadata": {},
   "outputs": [
    {
     "data": {
      "text/plain": [
       "311"
      ]
     },
     "execution_count": 268,
     "metadata": {},
     "output_type": "execute_result"
    }
   ],
   "source": [
    "len(unique_products)"
   ]
  },
  {
   "cell_type": "markdown",
   "id": "f8e1ed8f-a19d-4547-af7e-7a4291cff9ab",
   "metadata": {},
   "source": [
    "### Feature Engineering : \n",
    "It is difficult to work with Categorical data. Most of the Machine Learning Algorithms use numerical data. Hence, it is necessary to convert categorical data to numeric data. \n",
    "\n",
    "In this dataframe columns like - Visitor Type, Month, Weekend, Revenue are categorical type. These features have to be converted to numeric data type."
   ]
  },
  {
   "cell_type": "code",
   "execution_count": 269,
   "id": "73805d44-0e68-4d25-b7a2-85e392a841fa",
   "metadata": {},
   "outputs": [
    {
     "data": {
      "text/plain": [
       "False    12205\n",
       "True       125\n",
       "dtype: int64"
      ]
     },
     "execution_count": 269,
     "metadata": {},
     "output_type": "execute_result"
    }
   ],
   "source": [
    "data.duplicated().value_counts() # Let us first drop the duplicated rows."
   ]
  },
  {
   "cell_type": "code",
   "execution_count": 270,
   "id": "2a097a29-6bcd-42e7-8056-0590077a52aa",
   "metadata": {},
   "outputs": [],
   "source": [
    "data.drop_duplicates(inplace = True)"
   ]
  },
  {
   "cell_type": "code",
   "execution_count": 271,
   "id": "d473ba76-d846-4cd5-bd9f-191a44eaaabf",
   "metadata": {},
   "outputs": [
    {
     "data": {
      "text/plain": [
       "array(['Returning_Visitor', 'New_Visitor', 'Other'], dtype=object)"
      ]
     },
     "execution_count": 271,
     "metadata": {},
     "output_type": "execute_result"
    }
   ],
   "source": [
    "data['VisitorType'].unique()"
   ]
  },
  {
   "cell_type": "code",
   "execution_count": 279,
   "id": "77c874fc-58ba-470a-816b-0bd8e82822bb",
   "metadata": {},
   "outputs": [],
   "source": [
    "data['VisitorType'] = data['VisitorType'].map({'Returning_Visitor': 1, 'New_Visitor' : 2, 'Other':3 })  # Converting to numeric type using mapping function"
   ]
  },
  {
   "cell_type": "code",
   "execution_count": 272,
   "id": "8aede88b-7931-439a-abad-c32c101e455d",
   "metadata": {},
   "outputs": [
    {
     "data": {
      "text/plain": [
       "array(['Feb', 'Mar', 'May', 'Oct', 'June', 'Jul', 'Aug', 'Nov', 'Sep',\n",
       "       'Dec'], dtype=object)"
      ]
     },
     "execution_count": 272,
     "metadata": {},
     "output_type": "execute_result"
    }
   ],
   "source": [
    "data['Month'].unique()"
   ]
  },
  {
   "cell_type": "code",
   "execution_count": 273,
   "id": "7af4c914-7af2-4300-99d9-7c179dc34374",
   "metadata": {},
   "outputs": [],
   "source": [
    "data['Month'] = data['Month'].map({'Feb': 2, 'Mar' : 3, 'May':5, 'Oct' : 10, 'June' : 6, 'Jul' : 7, 'Aug' :8, 'Nov' : 11, 'Sep': 9, 'Dec': 12})"
   ]
  },
  {
   "cell_type": "code",
   "execution_count": 274,
   "id": "9644d3ca-2f69-4f6e-a5e6-97e7e805246f",
   "metadata": {},
   "outputs": [],
   "source": [
    "from sklearn.preprocessing import LabelEncoder\n",
    "weekend_encoder = LabelEncoder()\n",
    "data['Weekend'] = weekend_encoder.fit_transform(data['Weekend'])"
   ]
  },
  {
   "cell_type": "code",
   "execution_count": 275,
   "id": "6ba5008f-7e64-46a0-8144-179d1b811db2",
   "metadata": {},
   "outputs": [],
   "source": [
    "from sklearn.preprocessing import LabelEncoder\n",
    "label_encoder = LabelEncoder()\n",
    "labels_true = label_encoder.fit_transform(data['Revenue'])"
   ]
  },
  {
   "cell_type": "code",
   "execution_count": 276,
   "id": "60e372b0-8900-4ddc-9d36-815e9e0136c0",
   "metadata": {},
   "outputs": [],
   "source": [
    "data['Revenue'] = labels_true"
   ]
  },
  {
   "cell_type": "code",
   "execution_count": 280,
   "id": "a7634ada-dbd9-4118-80ef-b01530497e0c",
   "metadata": {},
   "outputs": [
    {
     "data": {
      "text/html": [
       "<div>\n",
       "<style scoped>\n",
       "    .dataframe tbody tr th:only-of-type {\n",
       "        vertical-align: middle;\n",
       "    }\n",
       "\n",
       "    .dataframe tbody tr th {\n",
       "        vertical-align: top;\n",
       "    }\n",
       "\n",
       "    .dataframe thead th {\n",
       "        text-align: right;\n",
       "    }\n",
       "</style>\n",
       "<table border=\"1\" class=\"dataframe\">\n",
       "  <thead>\n",
       "    <tr style=\"text-align: right;\">\n",
       "      <th></th>\n",
       "      <th>Administrative</th>\n",
       "      <th>Administrative_Duration</th>\n",
       "      <th>Informational</th>\n",
       "      <th>Informational_Duration</th>\n",
       "      <th>ProductRelated</th>\n",
       "      <th>ProductRelated_Duration</th>\n",
       "      <th>BounceRates</th>\n",
       "      <th>ExitRates</th>\n",
       "      <th>PageValues</th>\n",
       "      <th>SpecialDay</th>\n",
       "      <th>Month</th>\n",
       "      <th>OperatingSystems</th>\n",
       "      <th>Browser</th>\n",
       "      <th>Region</th>\n",
       "      <th>TrafficType</th>\n",
       "      <th>VisitorType</th>\n",
       "      <th>Weekend</th>\n",
       "      <th>Revenue</th>\n",
       "    </tr>\n",
       "  </thead>\n",
       "  <tbody>\n",
       "    <tr>\n",
       "      <th>0</th>\n",
       "      <td>0</td>\n",
       "      <td>0.0</td>\n",
       "      <td>0</td>\n",
       "      <td>0.0</td>\n",
       "      <td>1</td>\n",
       "      <td>0.000000</td>\n",
       "      <td>0.200000</td>\n",
       "      <td>0.200000</td>\n",
       "      <td>0.000000</td>\n",
       "      <td>0.0</td>\n",
       "      <td>2</td>\n",
       "      <td>1</td>\n",
       "      <td>1</td>\n",
       "      <td>1</td>\n",
       "      <td>1</td>\n",
       "      <td>1</td>\n",
       "      <td>0</td>\n",
       "      <td>0</td>\n",
       "    </tr>\n",
       "    <tr>\n",
       "      <th>1</th>\n",
       "      <td>0</td>\n",
       "      <td>0.0</td>\n",
       "      <td>0</td>\n",
       "      <td>0.0</td>\n",
       "      <td>2</td>\n",
       "      <td>64.000000</td>\n",
       "      <td>0.000000</td>\n",
       "      <td>0.100000</td>\n",
       "      <td>0.000000</td>\n",
       "      <td>0.0</td>\n",
       "      <td>2</td>\n",
       "      <td>2</td>\n",
       "      <td>2</td>\n",
       "      <td>1</td>\n",
       "      <td>2</td>\n",
       "      <td>1</td>\n",
       "      <td>0</td>\n",
       "      <td>0</td>\n",
       "    </tr>\n",
       "    <tr>\n",
       "      <th>2</th>\n",
       "      <td>0</td>\n",
       "      <td>0.0</td>\n",
       "      <td>0</td>\n",
       "      <td>0.0</td>\n",
       "      <td>1</td>\n",
       "      <td>0.000000</td>\n",
       "      <td>0.200000</td>\n",
       "      <td>0.200000</td>\n",
       "      <td>0.000000</td>\n",
       "      <td>0.0</td>\n",
       "      <td>2</td>\n",
       "      <td>4</td>\n",
       "      <td>1</td>\n",
       "      <td>9</td>\n",
       "      <td>3</td>\n",
       "      <td>1</td>\n",
       "      <td>0</td>\n",
       "      <td>0</td>\n",
       "    </tr>\n",
       "    <tr>\n",
       "      <th>3</th>\n",
       "      <td>0</td>\n",
       "      <td>0.0</td>\n",
       "      <td>0</td>\n",
       "      <td>0.0</td>\n",
       "      <td>2</td>\n",
       "      <td>2.666667</td>\n",
       "      <td>0.050000</td>\n",
       "      <td>0.140000</td>\n",
       "      <td>0.000000</td>\n",
       "      <td>0.0</td>\n",
       "      <td>2</td>\n",
       "      <td>3</td>\n",
       "      <td>2</td>\n",
       "      <td>2</td>\n",
       "      <td>4</td>\n",
       "      <td>1</td>\n",
       "      <td>0</td>\n",
       "      <td>0</td>\n",
       "    </tr>\n",
       "    <tr>\n",
       "      <th>4</th>\n",
       "      <td>0</td>\n",
       "      <td>0.0</td>\n",
       "      <td>0</td>\n",
       "      <td>0.0</td>\n",
       "      <td>10</td>\n",
       "      <td>627.500000</td>\n",
       "      <td>0.020000</td>\n",
       "      <td>0.050000</td>\n",
       "      <td>0.000000</td>\n",
       "      <td>0.0</td>\n",
       "      <td>2</td>\n",
       "      <td>3</td>\n",
       "      <td>3</td>\n",
       "      <td>1</td>\n",
       "      <td>4</td>\n",
       "      <td>1</td>\n",
       "      <td>1</td>\n",
       "      <td>0</td>\n",
       "    </tr>\n",
       "    <tr>\n",
       "      <th>...</th>\n",
       "      <td>...</td>\n",
       "      <td>...</td>\n",
       "      <td>...</td>\n",
       "      <td>...</td>\n",
       "      <td>...</td>\n",
       "      <td>...</td>\n",
       "      <td>...</td>\n",
       "      <td>...</td>\n",
       "      <td>...</td>\n",
       "      <td>...</td>\n",
       "      <td>...</td>\n",
       "      <td>...</td>\n",
       "      <td>...</td>\n",
       "      <td>...</td>\n",
       "      <td>...</td>\n",
       "      <td>...</td>\n",
       "      <td>...</td>\n",
       "      <td>...</td>\n",
       "    </tr>\n",
       "    <tr>\n",
       "      <th>12325</th>\n",
       "      <td>3</td>\n",
       "      <td>145.0</td>\n",
       "      <td>0</td>\n",
       "      <td>0.0</td>\n",
       "      <td>53</td>\n",
       "      <td>1783.791667</td>\n",
       "      <td>0.007143</td>\n",
       "      <td>0.029031</td>\n",
       "      <td>12.241717</td>\n",
       "      <td>0.0</td>\n",
       "      <td>12</td>\n",
       "      <td>4</td>\n",
       "      <td>6</td>\n",
       "      <td>1</td>\n",
       "      <td>1</td>\n",
       "      <td>1</td>\n",
       "      <td>1</td>\n",
       "      <td>0</td>\n",
       "    </tr>\n",
       "    <tr>\n",
       "      <th>12326</th>\n",
       "      <td>0</td>\n",
       "      <td>0.0</td>\n",
       "      <td>0</td>\n",
       "      <td>0.0</td>\n",
       "      <td>5</td>\n",
       "      <td>465.750000</td>\n",
       "      <td>0.000000</td>\n",
       "      <td>0.021333</td>\n",
       "      <td>0.000000</td>\n",
       "      <td>0.0</td>\n",
       "      <td>11</td>\n",
       "      <td>3</td>\n",
       "      <td>2</td>\n",
       "      <td>1</td>\n",
       "      <td>8</td>\n",
       "      <td>1</td>\n",
       "      <td>1</td>\n",
       "      <td>0</td>\n",
       "    </tr>\n",
       "    <tr>\n",
       "      <th>12327</th>\n",
       "      <td>0</td>\n",
       "      <td>0.0</td>\n",
       "      <td>0</td>\n",
       "      <td>0.0</td>\n",
       "      <td>6</td>\n",
       "      <td>184.250000</td>\n",
       "      <td>0.083333</td>\n",
       "      <td>0.086667</td>\n",
       "      <td>0.000000</td>\n",
       "      <td>0.0</td>\n",
       "      <td>11</td>\n",
       "      <td>3</td>\n",
       "      <td>2</td>\n",
       "      <td>1</td>\n",
       "      <td>13</td>\n",
       "      <td>1</td>\n",
       "      <td>1</td>\n",
       "      <td>0</td>\n",
       "    </tr>\n",
       "    <tr>\n",
       "      <th>12328</th>\n",
       "      <td>4</td>\n",
       "      <td>75.0</td>\n",
       "      <td>0</td>\n",
       "      <td>0.0</td>\n",
       "      <td>15</td>\n",
       "      <td>346.000000</td>\n",
       "      <td>0.000000</td>\n",
       "      <td>0.021053</td>\n",
       "      <td>0.000000</td>\n",
       "      <td>0.0</td>\n",
       "      <td>11</td>\n",
       "      <td>2</td>\n",
       "      <td>2</td>\n",
       "      <td>3</td>\n",
       "      <td>11</td>\n",
       "      <td>1</td>\n",
       "      <td>0</td>\n",
       "      <td>0</td>\n",
       "    </tr>\n",
       "    <tr>\n",
       "      <th>12329</th>\n",
       "      <td>0</td>\n",
       "      <td>0.0</td>\n",
       "      <td>0</td>\n",
       "      <td>0.0</td>\n",
       "      <td>3</td>\n",
       "      <td>21.250000</td>\n",
       "      <td>0.000000</td>\n",
       "      <td>0.066667</td>\n",
       "      <td>0.000000</td>\n",
       "      <td>0.0</td>\n",
       "      <td>11</td>\n",
       "      <td>3</td>\n",
       "      <td>2</td>\n",
       "      <td>1</td>\n",
       "      <td>2</td>\n",
       "      <td>2</td>\n",
       "      <td>1</td>\n",
       "      <td>0</td>\n",
       "    </tr>\n",
       "  </tbody>\n",
       "</table>\n",
       "<p>12205 rows × 18 columns</p>\n",
       "</div>"
      ],
      "text/plain": [
       "       Administrative  Administrative_Duration  Informational  \\\n",
       "0                   0                      0.0              0   \n",
       "1                   0                      0.0              0   \n",
       "2                   0                      0.0              0   \n",
       "3                   0                      0.0              0   \n",
       "4                   0                      0.0              0   \n",
       "...               ...                      ...            ...   \n",
       "12325               3                    145.0              0   \n",
       "12326               0                      0.0              0   \n",
       "12327               0                      0.0              0   \n",
       "12328               4                     75.0              0   \n",
       "12329               0                      0.0              0   \n",
       "\n",
       "       Informational_Duration  ProductRelated  ProductRelated_Duration  \\\n",
       "0                         0.0               1                 0.000000   \n",
       "1                         0.0               2                64.000000   \n",
       "2                         0.0               1                 0.000000   \n",
       "3                         0.0               2                 2.666667   \n",
       "4                         0.0              10               627.500000   \n",
       "...                       ...             ...                      ...   \n",
       "12325                     0.0              53              1783.791667   \n",
       "12326                     0.0               5               465.750000   \n",
       "12327                     0.0               6               184.250000   \n",
       "12328                     0.0              15               346.000000   \n",
       "12329                     0.0               3                21.250000   \n",
       "\n",
       "       BounceRates  ExitRates  PageValues  SpecialDay  Month  \\\n",
       "0         0.200000   0.200000    0.000000         0.0      2   \n",
       "1         0.000000   0.100000    0.000000         0.0      2   \n",
       "2         0.200000   0.200000    0.000000         0.0      2   \n",
       "3         0.050000   0.140000    0.000000         0.0      2   \n",
       "4         0.020000   0.050000    0.000000         0.0      2   \n",
       "...            ...        ...         ...         ...    ...   \n",
       "12325     0.007143   0.029031   12.241717         0.0     12   \n",
       "12326     0.000000   0.021333    0.000000         0.0     11   \n",
       "12327     0.083333   0.086667    0.000000         0.0     11   \n",
       "12328     0.000000   0.021053    0.000000         0.0     11   \n",
       "12329     0.000000   0.066667    0.000000         0.0     11   \n",
       "\n",
       "       OperatingSystems  Browser  Region  TrafficType  VisitorType  Weekend  \\\n",
       "0                     1        1       1            1            1        0   \n",
       "1                     2        2       1            2            1        0   \n",
       "2                     4        1       9            3            1        0   \n",
       "3                     3        2       2            4            1        0   \n",
       "4                     3        3       1            4            1        1   \n",
       "...                 ...      ...     ...          ...          ...      ...   \n",
       "12325                 4        6       1            1            1        1   \n",
       "12326                 3        2       1            8            1        1   \n",
       "12327                 3        2       1           13            1        1   \n",
       "12328                 2        2       3           11            1        0   \n",
       "12329                 3        2       1            2            2        1   \n",
       "\n",
       "       Revenue  \n",
       "0            0  \n",
       "1            0  \n",
       "2            0  \n",
       "3            0  \n",
       "4            0  \n",
       "...        ...  \n",
       "12325        0  \n",
       "12326        0  \n",
       "12327        0  \n",
       "12328        0  \n",
       "12329        0  \n",
       "\n",
       "[12205 rows x 18 columns]"
      ]
     },
     "execution_count": 280,
     "metadata": {},
     "output_type": "execute_result"
    }
   ],
   "source": [
    "data"
   ]
  },
  {
   "cell_type": "markdown",
   "id": "ec28a04c-8794-4952-a3b3-d6dc4a263d3f",
   "metadata": {},
   "source": [
    "Now that we have converted all the categorical features to numerical one, we can start applying Machine Learning algorithms."
   ]
  },
  {
   "cell_type": "markdown",
   "id": "50ab9583-ace4-4a99-8919-dcb7cb797a00",
   "metadata": {},
   "source": [
    "# 1. KMeans Method:\n",
    "\n",
    "The K-means clustering method is used in unsupervised machine learning to partition a dataset into K distinct clusters, where each data point belongs to the cluster with the nearest mean (centroid). K-means is commonly used for clustering and data segmentation tasks, where the goal is to group similar data points together based on their feature similarity. \n",
    "\n",
    "Let us take 2 features Product Related Duration and Bounce rates and apply clustering."
   ]
  },
  {
   "cell_type": "code",
   "execution_count": 281,
   "id": "3ab9000e-a875-4114-b06d-3f7f4faab709",
   "metadata": {},
   "outputs": [],
   "source": [
    "x = data.iloc[:, [5, 6]].values"
   ]
  },
  {
   "cell_type": "code",
   "execution_count": 282,
   "id": "d90c6e20-27d1-4a8c-96c5-d70ab1e2c909",
   "metadata": {},
   "outputs": [
    {
     "data": {
      "text/plain": [
       "(12205, 2)"
      ]
     },
     "execution_count": 282,
     "metadata": {},
     "output_type": "execute_result"
    }
   ],
   "source": [
    "x.shape"
   ]
  },
  {
   "cell_type": "code",
   "execution_count": 283,
   "id": "2bfcad18-c6f9-414c-b08d-96a9934b1e63",
   "metadata": {},
   "outputs": [
    {
     "data": {
      "text/plain": [
       "array([[0.0000000e+00, 2.0000000e-01],\n",
       "       [6.4000000e+01, 0.0000000e+00],\n",
       "       [0.0000000e+00, 2.0000000e-01],\n",
       "       ...,\n",
       "       [1.8425000e+02, 8.3333333e-02],\n",
       "       [3.4600000e+02, 0.0000000e+00],\n",
       "       [2.1250000e+01, 0.0000000e+00]])"
      ]
     },
     "execution_count": 283,
     "metadata": {},
     "output_type": "execute_result"
    }
   ],
   "source": [
    "x "
   ]
  },
  {
   "cell_type": "markdown",
   "id": "53878a90-911e-495a-9ef2-0c0a39b6567d",
   "metadata": {},
   "source": [
    "The K-elbow method is a technique used in machine learning to find the optimal number of clusters (K) in a K-means clustering algorithm by evaluating the within-cluster sum of squares (WCSS) for different values of K."
   ]
  },
  {
   "cell_type": "code",
   "execution_count": 286,
   "id": "649b0068-314f-4941-bce3-824906e5f7e8",
   "metadata": {},
   "outputs": [],
   "source": [
    "from sklearn.cluster import KMeans\n",
    "\n",
    "wcss = []\n",
    "for i in range(1,11):\n",
    "    Km = KMeans(n_clusters = i,     # number of clusters (K) to the current value of i\n",
    "               init = 'k-means++',  # initialization method for centroids\n",
    "               max_iter = 300,      # The maximum number of iterations for each run of K-means\n",
    "               n_init = 10,         # The number of times the K-means algorithm will be run with different centroid seeds\n",
    "               random_state = 0,    # A random seed to ensure reproducibility\n",
    "               algorithm = 'full',  # This specifies the K-means algorithm to use\n",
    "               tol = 0.001)         # The tolerance for convergence\n",
    "    Km.fit(x)\n",
    "    labels = Km.labels_\n",
    "    wcss.append(Km.inertia_)"
   ]
  },
  {
   "cell_type": "code",
   "execution_count": 287,
   "id": "532d3251-bb12-4d74-84d0-83aea8776340",
   "metadata": {},
   "outputs": [
    {
     "data": {
      "text/plain": [
       "array([0, 0, 0, ..., 0, 0, 0])"
      ]
     },
     "execution_count": 287,
     "metadata": {},
     "output_type": "execute_result"
    }
   ],
   "source": [
    "Km.labels_"
   ]
  },
  {
   "cell_type": "code",
   "execution_count": 288,
   "id": "743679f2-117d-41c1-95f4-ba9eebe525ce",
   "metadata": {},
   "outputs": [
    {
     "data": {
      "image/png": "[encoded data removed]",
      "text/plain": [
       "<Figure size 600x700 with 1 Axes>"
      ]
     },
     "metadata": {},
     "output_type": "display_data"
    }
   ],
   "source": [
    "fig, ax = plt.subplots(1,1, figsize = (6,7))\n",
    "plt.plot(range(1,11), wcss)\n",
    "plt.grid()\n",
    "plt.title('The Elbow Method', fontsize = 10)\n",
    "plt.xlabel('No of clusters')\n",
    "plt.ylabel('wcss')\n",
    "plt.show()"
   ]
  },
  {
   "cell_type": "markdown",
   "id": "8e0b31ca-91f2-46a1-bdf9-f4c93dc5c8ab",
   "metadata": {},
   "source": [
    "In the above graph there is a huge reduction at 2. That is called the elbow point. That will be the value of K. Once the number of clusters are determined, we can apply KMeans clustering and plot the clusters."
   ]
  },
  {
   "cell_type": "code",
   "execution_count": 289,
   "id": "1bd5fd1a-d23d-4ac2-902e-3e88400cc859",
   "metadata": {},
   "outputs": [
    {
     "data": {
      "text/plain": [
       "array([0, 0, 0, ..., 0, 0, 0])"
      ]
     },
     "execution_count": 289,
     "metadata": {},
     "output_type": "execute_result"
    }
   ],
   "source": [
    "Km = KMeans(n_clusters = 2, init = 'k-means++', max_iter = 300, n_init = 10, random_state = 0)\n",
    "y_means = Km.fit_predict(x)\n",
    "y_means"
   ]
  },
  {
   "cell_type": "code",
   "execution_count": 290,
   "id": "39c21325-1cba-40f1-9089-576af5f18399",
   "metadata": {},
   "outputs": [
    {
     "data": {
      "image/png": "[encoded data removed]",
      "text/plain": [
       "<Figure size 640x480 with 1 Axes>"
      ]
     },
     "metadata": {},
     "output_type": "display_data"
    }
   ],
   "source": [
    "plt.scatter(x[y_means == 0,0], x[y_means == 0,1], s = 50, color = 'red', alpha = 0.5, label = 'uninterested customers')\n",
    "plt.scatter(x[y_means == 1,0], x[y_means == 1,1], s = 50, color = 'yellow', alpha = 1.0, label = 'Target customers')\n",
    "plt.scatter(Km.cluster_centers_[:,0], Km.cluster_centers_[:,1], s = 50, color = 'green', label = 'Centroid')\n",
    "\n",
    "\n",
    "plt.grid(alpha = 0.5)\n",
    "plt.title('Product Related Duration Vs Bounce rates', fontsize = 10)\n",
    "plt.xlabel('Product Related Duration')\n",
    "plt.ylabel('Bounce rates')\n",
    "plt.legend()\n",
    "plt.show()"
   ]
  },
  {
   "cell_type": "markdown",
   "id": "ed2eef02-c51a-4c38-8f00-868ae44c30f2",
   "metadata": {},
   "source": [
    "By this K-Means clustering plot, we can conclude that customers who spent more time on a product related website will not leave the website just after viewing one page, as they have low bounce rates."
   ]
  },
  {
   "cell_type": "markdown",
   "id": "9124a7ef-51cb-4324-aec5-288a528cd504",
   "metadata": {},
   "source": [
    "To evaluate our clustering results, we can plot confusion matrix. "
   ]
  },
  {
   "cell_type": "code",
   "execution_count": 291,
   "id": "306aab5c-c44e-4ea2-b8aa-1cf7e5390194",
   "metadata": {},
   "outputs": [
    {
     "name": "stdout",
     "output_type": "stream",
     "text": [
      "0.08248493804362389\n"
     ]
    }
   ],
   "source": [
    "score = metrics.adjusted_rand_score(labels_true, labels_pred)\n",
    "print(score)"
   ]
  },
  {
   "cell_type": "code",
   "execution_count": 292,
   "id": "77d8e373-725c-4d1c-9316-905abf9078e0",
   "metadata": {},
   "outputs": [
    {
     "data": {
      "image/png": "[encoded data removed]",
      "text/plain": [
       "<Figure size 640x480 with 2 Axes>"
      ]
     },
     "metadata": {},
     "output_type": "display_data"
    },
    {
     "data": {
      "image/png": "[encoded data removed]",
      "text/plain": [
       "<Figure size 640x480 with 2 Axes>"
      ]
     },
     "metadata": {},
     "output_type": "display_data"
    }
   ],
   "source": [
    "import scikitplot as skplt\n",
    "\n",
    "graph1 = skplt.metrics.plot_confusion_matrix(labels_true, labels_pred, normalize=False)\n",
    "graph2 = skplt.metrics.plot_confusion_matrix(labels_true, labels_pred, normalize=True)\n",
    "\n"
   ]
  },
  {
   "cell_type": "markdown",
   "id": "0da16f15-33fe-431d-b9f1-92dc8c9babe1",
   "metadata": {},
   "source": [
    "From the confusion matrix, we can see that out of 10,297 failed incomes, 9649 are grouped into uninterested customers or 94%. However, out of 1908 successful incomes, only 283 are grouped as target customers or 15%. Also, the adjusted index score is not very high.\n",
    "\n",
    "So we can conclude that, we have falsely classified many successful revenues as uninterested customers. That is even if the bounce rates are high and product related duration is low, there are customers who purchase the product and genearte the revenue."
   ]
  },
  {
   "cell_type": "markdown",
   "id": "d762a3c7-28de-4069-8c2c-23493b34106a",
   "metadata": {},
   "source": [
    "# 2. Random Forest Regressor:"
   ]
  },
  {
   "cell_type": "code",
   "execution_count": 235,
   "id": "9a6c34fd-a403-41d7-9c4a-d9f2d8760b94",
   "metadata": {},
   "outputs": [],
   "source": [
    "X=data.drop('Revenue',axis=1)  # Drop the target feature to train the model\n",
    "y=data['Revenue']"
   ]
  },
  {
   "cell_type": "code",
   "execution_count": 294,
   "id": "5bea6359-674d-46f0-afb4-ef5d94ed9652",
   "metadata": {},
   "outputs": [],
   "source": [
    "from sklearn.model_selection import train_test_split\n",
    "X_train,X_test,y_train,y_test=train_test_split(X,y,test_size=0.2,random_state=42)"
   ]
  },
  {
   "cell_type": "code",
   "execution_count": 295,
   "id": "3b7aa349-3277-4865-ba4e-2044b68584d9",
   "metadata": {},
   "outputs": [
    {
     "data": {
      "text/plain": [
       "0    8218\n",
       "1    1546\n",
       "Name: Revenue, dtype: int64"
      ]
     },
     "execution_count": 295,
     "metadata": {},
     "output_type": "execute_result"
    }
   ],
   "source": [
    "y_train.value_counts()"
   ]
  },
  {
   "cell_type": "code",
   "execution_count": 297,
   "id": "736b634a-0e4c-43da-93d3-937a886b8639",
   "metadata": {},
   "outputs": [
    {
     "data": {
      "text/plain": [
       "0    2079\n",
       "1     362\n",
       "Name: Revenue, dtype: int64"
      ]
     },
     "execution_count": 297,
     "metadata": {},
     "output_type": "execute_result"
    }
   ],
   "source": [
    "y_test.value_counts()"
   ]
  },
  {
   "cell_type": "code",
   "execution_count": 298,
   "id": "63d4622f-419f-4b24-bdef-9ed0e41f3c53",
   "metadata": {},
   "outputs": [
    {
     "name": "stdout",
     "output_type": "stream",
     "text": [
      "Accuracy: 0.9045473166734944\n",
      "              precision    recall  f1-score   support\n",
      "\n",
      "           0       0.93      0.96      0.95      2079\n",
      "           1       0.73      0.56      0.63       362\n",
      "\n",
      "    accuracy                           0.90      2441\n",
      "   macro avg       0.83      0.76      0.79      2441\n",
      "weighted avg       0.90      0.90      0.90      2441\n",
      "\n"
     ]
    }
   ],
   "source": [
    "from sklearn.ensemble import RandomForestClassifier\n",
    "from sklearn.metrics import accuracy_score, classification_report\n",
    "\n",
    "rf = RandomForestClassifier(n_estimators=1000, random_state=1)\n",
    "rf.fit(X_train, y_train)\n",
    "\n",
    "# Make predictions on the test set and evaluate model performance\n",
    "y_pred = rf.predict(X_test)\n",
    "accuracy = accuracy_score(y_test, y_pred)\n",
    "print(f'Accuracy: {accuracy}')\n",
    "print(classification_report(y_test, y_pred))"
   ]
  },
  {
   "cell_type": "code",
   "execution_count": 299,
   "id": "faf40f91-75ca-4167-aa6f-970385613163",
   "metadata": {},
   "outputs": [
    {
     "data": {
      "image/png": "[encoded data removed]",
      "text/plain": [
       "<Figure size 640x480 with 2 Axes>"
      ]
     },
     "metadata": {},
     "output_type": "display_data"
    }
   ],
   "source": [
    "from sklearn.metrics import confusion_matrix\n",
    "cm = confusion_matrix(y_test, y_pred)\n",
    "\n",
    "# Plot the confusion matrix as a heatmap\n",
    "sns.heatmap(cm, annot=True, fmt='d', cmap='Blues')\n",
    "plt.title('Confusion Matrix')\n",
    "plt.xlabel('Predicted Label')\n",
    "plt.ylabel('True Label')\n",
    "plt.show()\n"
   ]
  },
  {
   "cell_type": "markdown",
   "id": "61e868b4-4f10-480e-b11b-75faf7515d67",
   "metadata": {},
   "source": [
    "We can increase the accuracy by using SMOTE. The Synthetic Minority Over-sampling Technique (SMOTE) is used to handle class imbalance in the target variable y. SMOTE is a popular technique used in machine learning to balance imbalanced datasets by generating synthetic samples for the minority class."
   ]
  },
  {
   "cell_type": "code",
   "execution_count": 310,
   "id": "8a6b00c2-f459-4734-b0e4-30a4265383bf",
   "metadata": {},
   "outputs": [],
   "source": [
    "from imblearn.over_sampling import SMOTE\n",
    "\n",
    "# Perform one-hot encoding on the categorical features\n",
    "X_encoded = pd.get_dummies(X)\n",
    "\n",
    "# Apply SMOTE on the encoded features and target variable\n",
    "smote = SMOTE(sampling_strategy='minority')\n",
    "X_sm, y_sm = smote.fit_resample(X_encoded, y)\n",
    "\n",
    "# Convert the resampled target variable to a pandas Series\n",
    "y_sm = pd.Series(y_sm)"
   ]
  },
  {
   "cell_type": "code",
   "execution_count": 311,
   "id": "7f1b9e52-fae4-4ba7-b45e-fca3efd68bd2",
   "metadata": {},
   "outputs": [],
   "source": [
    "X_train, X_test, y_train, y_test = train_test_split(X_sm, y_sm, test_size=0.2, random_state=15, stratify=y_sm)"
   ]
  },
  {
   "cell_type": "code",
   "execution_count": 312,
   "id": "4c8e39ea-8c4c-4aa4-8b47-a1d530b2e029",
   "metadata": {},
   "outputs": [
    {
     "data": {
      "text/plain": [
       "1    8238\n",
       "0    8237\n",
       "Name: Revenue, dtype: int64"
      ]
     },
     "execution_count": 312,
     "metadata": {},
     "output_type": "execute_result"
    }
   ],
   "source": [
    "y_train.value_counts()"
   ]
  },
  {
   "cell_type": "code",
   "execution_count": 313,
   "id": "7353ba10-94be-4057-95ac-e45308e43951",
   "metadata": {},
   "outputs": [
    {
     "name": "stdout",
     "output_type": "stream",
     "text": [
      "Accuracy: 0.9325078902646273\n",
      "              precision    recall  f1-score   support\n",
      "\n",
      "           0       0.95      0.91      0.93      2060\n",
      "           1       0.92      0.95      0.93      2059\n",
      "\n",
      "    accuracy                           0.93      4119\n",
      "   macro avg       0.93      0.93      0.93      4119\n",
      "weighted avg       0.93      0.93      0.93      4119\n",
      "\n"
     ]
    }
   ],
   "source": [
    "from sklearn.ensemble import RandomForestClassifier\n",
    "from sklearn.metrics import accuracy_score, classification_report\n",
    "\n",
    "rf = RandomForestClassifier(n_estimators=1000, random_state=1)\n",
    "rf.fit(X_train, y_train)\n",
    "\n",
    "# Make predictions on the test set and evaluate model performance\n",
    "y_pred = rf.predict(X_test)\n",
    "accuracy = accuracy_score(y_test, y_pred)\n",
    "print(f'Accuracy: {accuracy}')\n",
    "print(classification_report(y_test, y_pred))"
   ]
  },
  {
   "cell_type": "code",
   "execution_count": 314,
   "id": "548b9287-2855-42ce-b411-b6557a75371f",
   "metadata": {},
   "outputs": [
    {
     "data": {
      "image/png": "[encoded data removed]",
      "text/plain": [
       "<Figure size 640x480 with 2 Axes>"
      ]
     },
     "metadata": {},
     "output_type": "display_data"
    }
   ],
   "source": [
    "from sklearn.metrics import confusion_matrix\n",
    "cm = confusion_matrix(y_test, y_pred)\n",
    "\n",
    "# Plot the confusion matrix as a heatmap\n",
    "sns.heatmap(cm, annot=True, fmt='d', cmap='Blues')\n",
    "plt.title('Confusion Matrix')\n",
    "plt.xlabel('Predicted Label')\n",
    "plt.ylabel('True Label')\n",
    "plt.show()"
   ]
  },
  {
   "cell_type": "code",
   "execution_count": 317,
   "id": "baabc1be-42f6-485c-9769-1ba2e1585d5a",
   "metadata": {},
   "outputs": [
    {
     "data": {
      "text/plain": [
       "Index(['Administrative', 'Administrative_Duration', 'Informational',\n",
       "       'Informational_Duration', 'ProductRelated', 'ProductRelated_Duration',\n",
       "       'BounceRates', 'ExitRates', 'PageValues', 'SpecialDay', 'Month',\n",
       "       'OperatingSystems', 'Browser', 'Region', 'TrafficType', 'VisitorType',\n",
       "       'Weekend', 'Revenue'],\n",
       "      dtype='object')"
      ]
     },
     "execution_count": 317,
     "metadata": {},
     "output_type": "execute_result"
    }
   ],
   "source": [
    "data.columns"
   ]
  },
  {
   "cell_type": "markdown",
   "id": "9b326002-142c-4c03-a18a-66e187bdf2a7",
   "metadata": {
    "tags": []
   },
   "source": [
    "# Testing the Random forest model"
   ]
  },
  {
   "cell_type": "code",
   "execution_count": 322,
   "id": "e304a547-0109-4c0e-a571-efe2d721c263",
   "metadata": {},
   "outputs": [
    {
     "name": "stdout",
     "output_type": "stream",
     "text": [
      "[0]\n"
     ]
    }
   ],
   "source": [
    "# Define user input as a dictionary\n",
    "user_input = {'Administrative' : 6,\n",
    "              'Informational' : 14,\n",
    "              'ProductRelated': 82,\n",
    "              'Administrative_Duration': 50,\n",
    "              'Informational_Duration': 100,\n",
    "              'ProductRelated_Duration': 200,\n",
    "              'BounceRates': 0.05,\n",
    "              'ExitRates': 0.1,\n",
    "              'PageValues': 20,\n",
    "              'SpecialDay': 0,\n",
    "              'Month': 7,\n",
    "              'OperatingSystems': 0,\n",
    "              'Browser': 0,\n",
    "              'Region': 0,\n",
    "              'TrafficType': 1,\n",
    "              'VisitorType': 'New_Visitor',\n",
    "              'Weekend': 1}\n",
    "\n",
    "# Create a DataFrame from the user input dictionary\n",
    "user_df = pd.DataFrame.from_dict(user_input, orient='index').T\n",
    "\n",
    "user_df['VisitorType'] = user_df['VisitorType'].map({'Returning_Visitor': 1, 'New_Visitor' : 2, 'Other':3 })\n",
    "\n",
    "# Make a prediction for the user input\n",
    "prediction = rf.predict(user_df)\n",
    "print(prediction)"
   ]
  },
  {
   "cell_type": "markdown",
   "id": "f62e0352-9933-451b-ac15-2a905258354b",
   "metadata": {},
   "source": [
    "It is evident that for the given set of inputs, the customer is not likely to make a purchase online.\n",
    "\n",
    "Similarly, we can give the model different sets of input and predict whether a customer visiting an online shopping website will make a purchase or not."
   ]
  },
  {
   "cell_type": "code",
   "execution_count": null,
   "id": "36e6b184-5fd0-4166-a80d-5b858768189e",
   "metadata": {},
   "outputs": [],
   "source": []
  },
  {
   "cell_type": "code",
   "execution_count": null,
   "id": "4d7a5769-5b7b-46d7-9505-784bac001be9",
   "metadata": {},
   "outputs": [],
   "source": []
  },
  {
   "cell_type": "code",
   "execution_count": null,
   "id": "dce9a957-c76b-4b02-9228-10ce6f334fca",
   "metadata": {},
   "outputs": [],
   "source": []
  },
  {
   "cell_type": "code",
   "execution_count": null,
   "id": "1d9e112b-01ce-4c53-9e76-4c9b2340c983",
   "metadata": {},
   "outputs": [],
   "source": []
  },
  {
   "cell_type": "code",
   "execution_count": null,
   "id": "c7c17640-f29a-4876-8a28-d9ef1bf847f4",
   "metadata": {},
   "outputs": [],
   "source": []
  },
  {
   "cell_type": "code",
   "execution_count": null,
   "id": "21785a21-901e-40a8-8407-cc5df7297469",
   "metadata": {},
   "outputs": [],
   "source": []
  },
  {
   "cell_type": "code",
   "execution_count": null,
   "id": "b2543b8b-80d2-4062-a018-b0b9f726e3f1",
   "metadata": {},
   "outputs": [],
   "source": []
  },
  {
   "cell_type": "code",
   "execution_count": null,
   "id": "fa8b355e-304e-420c-b35a-d049de7fdfd3",
   "metadata": {},
   "outputs": [],
   "source": []
  },
  {
   "cell_type": "code",
   "execution_count": null,
   "id": "a65750ba-16c7-4a3c-8a45-4b6b63886813",
   "metadata": {},
   "outputs": [],
   "source": []
  },
  {
   "cell_type": "code",
   "execution_count": null,
   "id": "9525fd86-0de4-42be-b37f-b59149f92e8a",
   "metadata": {},
   "outputs": [],
   "source": []
  },
  {
   "cell_type": "code",
   "execution_count": null,
   "id": "45ee848b-20eb-4ec4-bc0d-368987d2a6f1",
   "metadata": {},
   "outputs": [],
   "source": []
  },
  {
   "cell_type": "code",
   "execution_count": null,
   "id": "56b7fe82-3a59-4cb7-9156-108676166445",
   "metadata": {},
   "outputs": [],
   "source": []
  },
  {
   "cell_type": "code",
   "execution_count": null,
   "id": "c0d0c2bc-1b49-486e-ae18-3ce7c8b8d063",
   "metadata": {},
   "outputs": [],
   "source": []
  }
 ],
 "metadata": {
  "kernelspec": {
   "display_name": "Python 3 (ipykernel)",
   "language": "python",
   "name": "python3"
  },
  "language_info": {
   "codemirror_mode": {
    "name": "ipython",
    "version": 3
   },
   "file_extension": ".py",
   "mimetype": "text/x-python",
   "name": "python",
   "nbconvert_exporter": "python",
   "pygments_lexer": "ipython3",
   "version": "3.10.8"
  }
 },
 "nbformat": 4,
 "nbformat_minor": 5
}
